{
  "nbformat": 4,
  "nbformat_minor": 0,
  "metadata": {
    "colab": {
      "provenance": [],
      "include_colab_link": true
    },
    "kernelspec": {
      "name": "python3",
      "display_name": "Python 3"
    }
  },
  "cells": [
    {
      "cell_type": "markdown",
      "metadata": {
        "id": "view-in-github",
        "colab_type": "text"
      },
      "source": [
        "<a href=\"https://colab.research.google.com/github/Tanuja2725/Machinelearning/blob/main/image_augmentation.ipynb\" target=\"_parent\"><img src=\"https://colab.research.google.com/assets/colab-badge.svg\" alt=\"Open In Colab\"/></a>"
      ]
    },
    {
      "cell_type": "code",
      "metadata": {
        "id": "8jPZlZonpAlq"
      },
      "source": [
        "# Last amended: 05th Dec, 2022\n",
        "# Ref:\n",
        "#   http://cs231n.github.io/neural-networks-2/\n",
        "#\t  https://machinelearningmastery.com/image-augmentation-deep-learning-keras/\n",
        "#\n",
        "# Objective:\n",
        "#   a) How Image augmentation is performed.\n",
        "#   b) Image augmentation basics\n",
        "#\n",
        "#\n",
        "# Data augmentation 4-steps:\n",
        "#\t\t  1. First create the ImageDataGenerator object with necessary properies\n",
        "#\t    2. If required, learn the 'train' data. Needed only for some types of\n",
        "#        augmentation/processing such as zca_whitening. see Ref below:\n",
        "#        Ref: https://stackoverflow.com/questions/46705600/keras-fit-image-augmentations-to-training-data-using-flow-from-directory\n",
        "#\t    3. Create the data-generator iterator using flow() method\n",
        "#     4. Use the iterator in modeling in a for-loop\n",
        "# Sample code:\n",
        "# (https://keras.io/preprocessing/image/)\n",
        "#\n",
        "#\t\tdatagen = ImageDataGenerator( process_parameters)     # Create learner object\n",
        "#\t\tdatagen.fit(X_train)                                  # Learn few statistical properties\n",
        "#                                                         #   of train data\n",
        "#\t\tbatch_gen_iterator = datagen.flow.directory(X_train,            # Get iterator object\n",
        "#                                     y_train,\n",
        "#                                     batch_size=batch_size\n",
        "#                                     )\n",
        "#\n",
        "#   for X_batch, y_batch in batch_gen_iterator:            # Use iterator--one way\n",
        "#       model.fit(x_batch, y_batch)\n",
        "#       batches += 1\n",
        "#\t\t\t  if batches >= 5:\n",
        "#  \t        break\n",
        "#\n",
        "#   model.fit_generator(batch_gen_iterator,             # Use iterator--another way\n",
        "#                       steps_per_epoch=5,              # Call 5 batches from generator\n",
        "#                       epochs=epochs\n",
        "#                       )\n",
        "\n"
      ],
      "execution_count": null,
      "outputs": []
    },
    {
      "cell_type": "code",
      "metadata": {
        "id": "lL4k-xYPJPf_"
      },
      "source": [
        "#0.0 Display multiple command outputsfrom a cell\n",
        "from IPython.core.interactiveshell import InteractiveShell\n",
        "InteractiveShell.ast_node_interactivity = \"all\""
      ],
      "execution_count": null,
      "outputs": []
    },
    {
      "cell_type": "markdown",
      "source": [
        "## Call libraries"
      ],
      "metadata": {
        "id": "75aBJOef8PuQ"
      }
    },
    {
      "cell_type": "code",
      "metadata": {
        "id": "GjtPoKFWpzYC",
        "colab": {
          "base_uri": "https://localhost:8080/",
          "height": 36
        },
        "outputId": "6bb5a293-768e-41dd-92bf-63fd0df1cfaf"
      },
      "source": [
        "# 1. Call libraries\n",
        "%reset -f\n",
        "\n",
        "# 1.1\n",
        "import numpy as np\n",
        "import os\n",
        "from matplotlib import pyplot as plt\n",
        "\n",
        "# 1.2 Import tensorflow libraries\n",
        "#     This will import mnist dataset\n",
        "from tensorflow.keras.datasets import mnist\n",
        "\n",
        "# 1.3 For generating images on the fly (no need to store)\n",
        "#     from given images\n",
        "from tensorflow.keras.preprocessing.image import ImageDataGenerator\n",
        "\n",
        "# 1.4 Keras backend (functions) help in writing modules that work \n",
        "#     in all Keras backends, as: theano, cntk, tensorflow.\n",
        "#     So use backend functions/methods for compatibility \n",
        "#     with all available backends.\n",
        "#\n",
        "#     Backend module, here, helps extract/set properties of keras-backend\n",
        "#     By default the backend configuration file is at:\n",
        "#     $HOME/.keras/keras.json or /home/ashok/.keras or\n",
        "#     C:\\Users\\ashok\\.keras\\keras.json\n",
        "#     Ref: https://keras.io/backend/\n",
        "\n",
        "from tensorflow.keras import backend as K\n",
        "\n",
        "\n",
        "# 1.5 Set image data format to be for tensorflow\n",
        "#     Override, settings in the configuration file\n",
        "#     That is set as channels_last, if not already so\n",
        "K.set_image_data_format('channels_last') # Alternative 'channels_first' for theano\n",
        "\n",
        "\n",
        "# 1.6 So what was the result of setting image data format above?\n",
        "K.image_data_format()"
      ],
      "execution_count": null,
      "outputs": [
        {
          "output_type": "execute_result",
          "data": {
            "text/plain": [
              "'channels_last'"
            ],
            "application/vnd.google.colaboratory.intrinsic+json": {
              "type": "string"
            }
          },
          "metadata": {},
          "execution_count": 3
        }
      ]
    },
    {
      "cell_type": "markdown",
      "source": [
        "## Get data"
      ],
      "metadata": {
        "id": "pQaHyEhL8lv6"
      }
    },
    {
      "cell_type": "code",
      "metadata": {
        "id": "spq1PCx7p9l4"
      },
      "source": [
        "# 2. Use mnist module to fetch data from Internet & also load data\n",
        "#    Dataset is cached locally at $HOME/.keras/datasets\n",
        "#    or at C:\\Users\\ashok\\.keras\\datasets"
      ],
      "execution_count": null,
      "outputs": []
    },
    {
      "cell_type": "code",
      "metadata": {
        "id": "yxz-rfgAqGmF",
        "colab": {
          "base_uri": "https://localhost:8080/"
        },
        "outputId": "e266db93-674e-47d5-8b0e-105a770e755b"
      },
      "source": [
        "# 2.1 Download mnist dataset.\n",
        "#     Data download to C:\\Users\\ashok\\.keras\\datasets\n",
        "#     mnist.npz. 'npz' is a file format where several\n",
        "#     numpy arrays can be stored compressed or uncompressed\n",
        "#     Downloaded file is saved at: /root/.keras/datasets\n",
        "\n",
        "(x_tr, y_tr), (x_te, y_te) = mnist.load_data()"
      ],
      "execution_count": null,
      "outputs": [
        {
          "output_type": "stream",
          "name": "stdout",
          "text": [
            "Downloading data from https://storage.googleapis.com/tensorflow/tf-keras-datasets/mnist.npz\n",
            "11490434/11490434 [==============================] - 0s 0us/step\n"
          ]
        }
      ]
    },
    {
      "cell_type": "code",
      "metadata": {
        "colab": {
          "base_uri": "https://localhost:8080/"
        },
        "id": "2UvMivrOmu9U",
        "outputId": "964ad600-4e91-4b01-f7e7-0ee783e30e3f"
      },
      "source": [
        "# 2.1.1 Check the downloaded file\n",
        "! ls -la /root/.keras/datasets"
      ],
      "execution_count": null,
      "outputs": [
        {
          "output_type": "stream",
          "name": "stdout",
          "text": [
            "total 11232\n",
            "drwxr-xr-x 2 root root     4096 Dec 24 04:31 .\n",
            "drwxr-xr-x 1 root root     4096 Dec 24 04:31 ..\n",
            "-rw-r--r-- 1 root root 11490434 Dec 24 04:31 mnist.npz\n"
          ]
        }
      ]
    },
    {
      "cell_type": "code",
      "metadata": {
        "id": "thjtTQV8qLI6",
        "colab": {
          "base_uri": "https://localhost:8080/"
        },
        "outputId": "b6798037-aa25-4466-ce04-ab80eee67820"
      },
      "source": [
        "# 2.2 How many images and image dimensions?\n",
        "#     Depth of image is important dimension.\n",
        "#     It is missing here. So depth is 1 ie only one channel.\n",
        "\n",
        "x_tr.shape                    # [60000,28,28]\n",
        "x_te.shape                    # (10000,28,28)"
      ],
      "execution_count": null,
      "outputs": [
        {
          "output_type": "execute_result",
          "data": {
            "text/plain": [
              "(60000, 28, 28)"
            ]
          },
          "metadata": {},
          "execution_count": 7
        },
        {
          "output_type": "execute_result",
          "data": {
            "text/plain": [
              "(10000, 28, 28)"
            ]
          },
          "metadata": {},
          "execution_count": 7
        }
      ]
    },
    {
      "cell_type": "code",
      "metadata": {
        "id": "Dby5oBLAqQvg",
        "colab": {
          "base_uri": "https://localhost:8080/"
        },
        "outputId": "a12e1575-ba5e-49a3-99b6-f537e44ee090"
      },
      "source": [
        "# 2.3 Just look at first image and get its label\n",
        "\n",
        "y_tr[0]\n",
        "print(\"\\n=========\\n\")\n",
        "x_tr[0, :, :]"
      ],
      "execution_count": null,
      "outputs": [
        {
          "output_type": "execute_result",
          "data": {
            "text/plain": [
              "5"
            ]
          },
          "metadata": {},
          "execution_count": 8
        },
        {
          "output_type": "stream",
          "name": "stdout",
          "text": [
            "\n",
            "=========\n",
            "\n"
          ]
        },
        {
          "output_type": "execute_result",
          "data": {
            "text/plain": [
              "array([[  0,   0,   0,   0,   0,   0,   0,   0,   0,   0,   0,   0,   0,\n",
              "          0,   0,   0,   0,   0,   0,   0,   0,   0,   0,   0,   0,   0,\n",
              "          0,   0],\n",
              "       [  0,   0,   0,   0,   0,   0,   0,   0,   0,   0,   0,   0,   0,\n",
              "          0,   0,   0,   0,   0,   0,   0,   0,   0,   0,   0,   0,   0,\n",
              "          0,   0],\n",
              "       [  0,   0,   0,   0,   0,   0,   0,   0,   0,   0,   0,   0,   0,\n",
              "          0,   0,   0,   0,   0,   0,   0,   0,   0,   0,   0,   0,   0,\n",
              "          0,   0],\n",
              "       [  0,   0,   0,   0,   0,   0,   0,   0,   0,   0,   0,   0,   0,\n",
              "          0,   0,   0,   0,   0,   0,   0,   0,   0,   0,   0,   0,   0,\n",
              "          0,   0],\n",
              "       [  0,   0,   0,   0,   0,   0,   0,   0,   0,   0,   0,   0,   0,\n",
              "          0,   0,   0,   0,   0,   0,   0,   0,   0,   0,   0,   0,   0,\n",
              "          0,   0],\n",
              "       [  0,   0,   0,   0,   0,   0,   0,   0,   0,   0,   0,   0,   3,\n",
              "         18,  18,  18, 126, 136, 175,  26, 166, 255, 247, 127,   0,   0,\n",
              "          0,   0],\n",
              "       [  0,   0,   0,   0,   0,   0,   0,   0,  30,  36,  94, 154, 170,\n",
              "        253, 253, 253, 253, 253, 225, 172, 253, 242, 195,  64,   0,   0,\n",
              "          0,   0],\n",
              "       [  0,   0,   0,   0,   0,   0,   0,  49, 238, 253, 253, 253, 253,\n",
              "        253, 253, 253, 253, 251,  93,  82,  82,  56,  39,   0,   0,   0,\n",
              "          0,   0],\n",
              "       [  0,   0,   0,   0,   0,   0,   0,  18, 219, 253, 253, 253, 253,\n",
              "        253, 198, 182, 247, 241,   0,   0,   0,   0,   0,   0,   0,   0,\n",
              "          0,   0],\n",
              "       [  0,   0,   0,   0,   0,   0,   0,   0,  80, 156, 107, 253, 253,\n",
              "        205,  11,   0,  43, 154,   0,   0,   0,   0,   0,   0,   0,   0,\n",
              "          0,   0],\n",
              "       [  0,   0,   0,   0,   0,   0,   0,   0,   0,  14,   1, 154, 253,\n",
              "         90,   0,   0,   0,   0,   0,   0,   0,   0,   0,   0,   0,   0,\n",
              "          0,   0],\n",
              "       [  0,   0,   0,   0,   0,   0,   0,   0,   0,   0,   0, 139, 253,\n",
              "        190,   2,   0,   0,   0,   0,   0,   0,   0,   0,   0,   0,   0,\n",
              "          0,   0],\n",
              "       [  0,   0,   0,   0,   0,   0,   0,   0,   0,   0,   0,  11, 190,\n",
              "        253,  70,   0,   0,   0,   0,   0,   0,   0,   0,   0,   0,   0,\n",
              "          0,   0],\n",
              "       [  0,   0,   0,   0,   0,   0,   0,   0,   0,   0,   0,   0,  35,\n",
              "        241, 225, 160, 108,   1,   0,   0,   0,   0,   0,   0,   0,   0,\n",
              "          0,   0],\n",
              "       [  0,   0,   0,   0,   0,   0,   0,   0,   0,   0,   0,   0,   0,\n",
              "         81, 240, 253, 253, 119,  25,   0,   0,   0,   0,   0,   0,   0,\n",
              "          0,   0],\n",
              "       [  0,   0,   0,   0,   0,   0,   0,   0,   0,   0,   0,   0,   0,\n",
              "          0,  45, 186, 253, 253, 150,  27,   0,   0,   0,   0,   0,   0,\n",
              "          0,   0],\n",
              "       [  0,   0,   0,   0,   0,   0,   0,   0,   0,   0,   0,   0,   0,\n",
              "          0,   0,  16,  93, 252, 253, 187,   0,   0,   0,   0,   0,   0,\n",
              "          0,   0],\n",
              "       [  0,   0,   0,   0,   0,   0,   0,   0,   0,   0,   0,   0,   0,\n",
              "          0,   0,   0,   0, 249, 253, 249,  64,   0,   0,   0,   0,   0,\n",
              "          0,   0],\n",
              "       [  0,   0,   0,   0,   0,   0,   0,   0,   0,   0,   0,   0,   0,\n",
              "          0,  46, 130, 183, 253, 253, 207,   2,   0,   0,   0,   0,   0,\n",
              "          0,   0],\n",
              "       [  0,   0,   0,   0,   0,   0,   0,   0,   0,   0,   0,   0,  39,\n",
              "        148, 229, 253, 253, 253, 250, 182,   0,   0,   0,   0,   0,   0,\n",
              "          0,   0],\n",
              "       [  0,   0,   0,   0,   0,   0,   0,   0,   0,   0,  24, 114, 221,\n",
              "        253, 253, 253, 253, 201,  78,   0,   0,   0,   0,   0,   0,   0,\n",
              "          0,   0],\n",
              "       [  0,   0,   0,   0,   0,   0,   0,   0,  23,  66, 213, 253, 253,\n",
              "        253, 253, 198,  81,   2,   0,   0,   0,   0,   0,   0,   0,   0,\n",
              "          0,   0],\n",
              "       [  0,   0,   0,   0,   0,   0,  18, 171, 219, 253, 253, 253, 253,\n",
              "        195,  80,   9,   0,   0,   0,   0,   0,   0,   0,   0,   0,   0,\n",
              "          0,   0],\n",
              "       [  0,   0,   0,   0,  55, 172, 226, 253, 253, 253, 253, 244, 133,\n",
              "         11,   0,   0,   0,   0,   0,   0,   0,   0,   0,   0,   0,   0,\n",
              "          0,   0],\n",
              "       [  0,   0,   0,   0, 136, 253, 253, 253, 212, 135, 132,  16,   0,\n",
              "          0,   0,   0,   0,   0,   0,   0,   0,   0,   0,   0,   0,   0,\n",
              "          0,   0],\n",
              "       [  0,   0,   0,   0,   0,   0,   0,   0,   0,   0,   0,   0,   0,\n",
              "          0,   0,   0,   0,   0,   0,   0,   0,   0,   0,   0,   0,   0,\n",
              "          0,   0],\n",
              "       [  0,   0,   0,   0,   0,   0,   0,   0,   0,   0,   0,   0,   0,\n",
              "          0,   0,   0,   0,   0,   0,   0,   0,   0,   0,   0,   0,   0,\n",
              "          0,   0],\n",
              "       [  0,   0,   0,   0,   0,   0,   0,   0,   0,   0,   0,   0,   0,\n",
              "          0,   0,   0,   0,   0,   0,   0,   0,   0,   0,   0,   0,   0,\n",
              "          0,   0]], dtype=uint8)"
            ]
          },
          "metadata": {},
          "execution_count": 8
        }
      ]
    },
    {
      "cell_type": "code",
      "metadata": {
        "id": "yuIGMHc-qUZc"
      },
      "source": [
        "# Create a grid of 3x3 images\n",
        "# AA. Plot sample digit images"
      ],
      "execution_count": null,
      "outputs": []
    },
    {
      "cell_type": "code",
      "metadata": {
        "id": "nmgo6uPVqaf7",
        "colab": {
          "base_uri": "https://localhost:8080/",
          "height": 268
        },
        "outputId": "867569c5-591c-4a85-aae1-4157a38034dd"
      },
      "source": [
        "# 3. Plot nine images\n",
        "for i in range(0, 9):        # range(0,9): Starting from 0, generate 9 numbers\n",
        "                             # 0,1,..8 (9 is excluded)\n",
        "\t_=plt.subplot(3,3, i +1) \t # Plot in a grid of 3 rows, 3 columns at position (i +1)\n",
        "\t                           # Try: help(plt.subplot)\n",
        "\t                           # For last image, i =8, 339 => 3 rows X 3 cols at index 9\n",
        "\t_=plt.imshow(x_tr[i],\n",
        "  cmap=plt.get_cmap('gray')) # Map image color to gray palette\n",
        "\t\t\t\t\t                   # or colormap (try without cmap)\n"
      ],
      "execution_count": null,
      "outputs": [
        {
          "output_type": "display_data",
          "data": {
            "text/plain": [
              "<Figure size 432x288 with 9 Axes>"
            ],
            "image/png": "[encoded data removed]"
          },
          "metadata": {
            "needs_background": "light"
          }
        }
      ]
    },
    {
      "cell_type": "code",
      "metadata": {
        "id": "zooR8J98qosY",
        "colab": {
          "base_uri": "https://localhost:8080/",
          "height": 285
        },
        "outputId": "a9197866-33d4-4aea-e2e2-62df34e75fd2"
      },
      "source": [
        "# 3.1 Another way to plot in a grid of 3 X 3\n",
        "fig,ax = plt.subplots(3,3)\n",
        "af = ax.flatten()\n",
        "af.shape\n",
        "for axx,j in zip(af,range(0, 9)):\n",
        "\tabc = axx.imshow(x_tr[j],cmap= plt.cm.gray)\n",
        " \n",
        "plt.show()"
      ],
      "execution_count": null,
      "outputs": [
        {
          "output_type": "execute_result",
          "data": {
            "text/plain": [
              "(9,)"
            ]
          },
          "metadata": {},
          "execution_count": 11
        },
        {
          "output_type": "display_data",
          "data": {
            "text/plain": [
              "<Figure size 432x288 with 9 Axes>"
            ],
            "image/png": "[encoded data removed]"
          },
          "metadata": {
            "needs_background": "light"
          }
        }
      ]
    },
    {
      "cell_type": "markdown",
      "source": [
        "## Data preprocessing"
      ],
      "metadata": {
        "id": "-vXa9q8O8ryn"
      }
    },
    {
      "cell_type": "code",
      "metadata": {
        "id": "-AhsRgNnqvfI"
      },
      "source": [
        "######################## BB ##################################"
      ],
      "execution_count": null,
      "outputs": []
    },
    {
      "cell_type": "code",
      "metadata": {
        "id": "8BPOdU0oq0Ux"
      },
      "source": [
        "# 4.\n",
        "## BB.Image generation and Feature Standardization\n",
        "#     It is possible to standardize pixel values across the entire dataset.\n",
        "#     One can perform feature standardization by setting the featurewise_center\n",
        "#     and featurewise_std_normalization arguments on the ImageDataGenerator class.\n",
        "#     These are in fact set to True by default and creating an instance of\n",
        "#     ImageDataGenerator with no arguments will have the same effect.\n",
        "# Standardize images across the dataset, mean=0, stdev=1\n"
      ],
      "execution_count": null,
      "outputs": []
    },
    {
      "cell_type": "code",
      "metadata": {
        "id": "tbFSdepOq7EI",
        "colab": {
          "base_uri": "https://localhost:8080/"
        },
        "outputId": "3e8854d6-dd83-4711-e422-99c5f80b2e74"
      },
      "source": [
        "# 4.1 Add no_of_channels to shape (tensorflow format: WIDTH X HEIGHT X CHANNEL):\n",
        "#     Reshape to be [NoOfSamples][width][height][channel]\n",
        "x_tr[0,:28,:28].shape                           # It is a flat 2D image\n",
        "# 4.1.1\n",
        "X_train = x_tr.reshape(60000, 28, 28,1)         # Being gray coloured, no of channels is 1\n",
        "X_test = x_te.reshape(10000,  28, 28,1)\n",
        "# 4.1.2\n",
        "X_train.shape\n"
      ],
      "execution_count": null,
      "outputs": [
        {
          "output_type": "execute_result",
          "data": {
            "text/plain": [
              "(28, 28)"
            ]
          },
          "metadata": {},
          "execution_count": 14
        },
        {
          "output_type": "execute_result",
          "data": {
            "text/plain": [
              "(60000, 28, 28, 1)"
            ]
          },
          "metadata": {},
          "execution_count": 14
        }
      ]
    },
    {
      "cell_type": "code",
      "metadata": {
        "id": "XYh1wG4iq8gI",
        "colab": {
          "base_uri": "https://localhost:8080/"
        },
        "outputId": "29457423-87b9-4e54-ab7c-6e53c8a75603"
      },
      "source": [
        " # 4.2 Convert from int to float as required by Tensorflow\n",
        "X_train.dtype                        # Unsigned integer\n",
        "\n",
        "X_train = X_train.astype('float32')\n",
        "X_test = X_test.astype('float32')\n",
        "\n",
        "X_train.dtype                         # 'float32'"
      ],
      "execution_count": null,
      "outputs": [
        {
          "output_type": "execute_result",
          "data": {
            "text/plain": [
              "dtype('uint8')"
            ]
          },
          "metadata": {},
          "execution_count": 15
        },
        {
          "output_type": "execute_result",
          "data": {
            "text/plain": [
              "dtype('float32')"
            ]
          },
          "metadata": {},
          "execution_count": 15
        }
      ]
    },
    {
      "cell_type": "code",
      "metadata": {
        "id": "8_J3KMsorAnQ"
      },
      "source": [
        "#4.2.1 For lack of memory, we will experiment \n",
        "#      on just 400 images\n",
        "\n",
        "X_train = X_train[:400,...]\n",
        "y_train = y_tr[:400,...]"
      ],
      "execution_count": null,
      "outputs": []
    },
    {
      "cell_type": "markdown",
      "source": [
        "## Examining Image Data generator"
      ],
      "metadata": {
        "id": "b3SeUoZ39GsK"
      }
    },
    {
      "cell_type": "code",
      "metadata": {
        "id": "iZQWuHNsrDW3",
        "colab": {
          "base_uri": "https://localhost:8080/"
        },
        "outputId": "9d7664ba-acf7-4c10-dd92-2013074a0f96"
      },
      "source": [
        "# 4.3 Define generated-data preparation parameters\n",
        "#     & create the image generator object.\n",
        "#     Generate images in batches on-the-fly from some given images\n",
        "\n",
        "# 4.3.1\n",
        "# Ref: https://www.tensorflow.org/api_docs/python/tf/keras/preprocessing/image/ImageDataGenerator\n",
        "help(ImageDataGenerator)"
      ],
      "execution_count": null,
      "outputs": [
        {
          "output_type": "stream",
          "name": "stdout",
          "text": [
            "Help on class ImageDataGenerator in module keras.preprocessing.image:\n",
            "\n",
            "class ImageDataGenerator(builtins.object)\n",
            " |  ImageDataGenerator(featurewise_center=False, samplewise_center=False, featurewise_std_normalization=False, samplewise_std_normalization=False, zca_whitening=False, zca_epsilon=1e-06, rotation_range=0, width_shift_range=0.0, height_shift_range=0.0, brightness_range=None, shear_range=0.0, zoom_range=0.0, channel_shift_range=0.0, fill_mode='nearest', cval=0.0, horizontal_flip=False, vertical_flip=False, rescale=None, preprocessing_function=None, data_format=None, validation_split=0.0, interpolation_order=1, dtype=None)\n",
            " |  \n",
            " |  Generate batches of tensor image data with real-time data augmentation.\n",
            " |  \n",
            " |  Deprecated: `tf.keras.preprocessing.image.ImageDataGenerator` is not\n",
            " |  recommended for new code. Prefer loading images with\n",
            " |  `tf.keras.utils.image_dataset_from_directory` and transforming the output\n",
            " |  `tf.data.Dataset` with preprocessing layers. For more information, see the\n",
            " |  tutorials for [loading images](\n",
            " |  https://www.tensorflow.org/tutorials/load_data/images) and\n",
            " |  [augmenting images](\n",
            " |  https://www.tensorflow.org/tutorials/images/data_augmentation), as well as\n",
            " |  the [preprocessing layer guide](\n",
            " |  https://www.tensorflow.org/guide/keras/preprocessing_layers).\n",
            " |  \n",
            " |   The data will be looped over (in batches).\n",
            " |  \n",
            " |  Args:\n",
            " |      featurewise_center: Boolean. Set input mean to 0 over the dataset,\n",
            " |        feature-wise.\n",
            " |      samplewise_center: Boolean. Set each sample mean to 0.\n",
            " |      featurewise_std_normalization: Boolean. Divide inputs by std of the\n",
            " |        dataset, feature-wise.\n",
            " |      samplewise_std_normalization: Boolean. Divide each input by its std.\n",
            " |      zca_epsilon: epsilon for ZCA whitening. Default is 1e-6.\n",
            " |      zca_whitening: Boolean. Apply ZCA whitening.\n",
            " |      rotation_range: Int. Degree range for random rotations.\n",
            " |      width_shift_range: Float, 1-D array-like or int\n",
            " |          - float: fraction of total width, if < 1, or pixels if >= 1.\n",
            " |          - 1-D array-like: random elements from the array.\n",
            " |          - int: integer number of pixels from interval `(-width_shift_range,\n",
            " |            +width_shift_range)` - With `width_shift_range=2` possible values\n",
            " |            are integers `[-1, 0, +1]`, same as with `width_shift_range=[-1, 0,\n",
            " |            +1]`, while with `width_shift_range=1.0` possible values are floats\n",
            " |            in the interval [-1.0, +1.0).\n",
            " |      height_shift_range: Float, 1-D array-like or int\n",
            " |          - float: fraction of total height, if < 1, or pixels if >= 1.\n",
            " |          - 1-D array-like: random elements from the array.\n",
            " |          - int: integer number of pixels from interval `(-height_shift_range,\n",
            " |            +height_shift_range)` - With `height_shift_range=2` possible values\n",
            " |            are integers `[-1, 0, +1]`, same as with `height_shift_range=[-1, 0,\n",
            " |            +1]`, while with `height_shift_range=1.0` possible values are floats\n",
            " |            in the interval [-1.0, +1.0).\n",
            " |      brightness_range: Tuple or list of two floats. Range for picking a\n",
            " |        brightness shift value from.\n",
            " |      shear_range: Float. Shear Intensity (Shear angle in counter-clockwise\n",
            " |        direction in degrees)\n",
            " |      zoom_range: Float or [lower, upper]. Range for random zoom. If a float,\n",
            " |        `[lower, upper] = [1-zoom_range, 1+zoom_range]`.\n",
            " |      channel_shift_range: Float. Range for random channel shifts.\n",
            " |      fill_mode: One of {\"constant\", \"nearest\", \"reflect\" or \"wrap\"}. Default is\n",
            " |        'nearest'. Points outside the boundaries of the input are filled\n",
            " |          according to the given mode:\n",
            " |          - 'constant': kkkkkkkk|abcd|kkkkkkkk (cval=k)\n",
            " |          - 'nearest':  aaaaaaaa|abcd|dddddddd\n",
            " |          - 'reflect':  abcddcba|abcd|dcbaabcd\n",
            " |          - 'wrap':  abcdabcd|abcd|abcdabcd\n",
            " |      cval: Float or Int. Value used for points outside the boundaries when\n",
            " |        `fill_mode = \"constant\"`.\n",
            " |      horizontal_flip: Boolean. Randomly flip inputs horizontally.\n",
            " |      vertical_flip: Boolean. Randomly flip inputs vertically.\n",
            " |      rescale: rescaling factor. Defaults to None. If None or 0, no rescaling is\n",
            " |        applied, otherwise we multiply the data by the value provided (after\n",
            " |        applying all other transformations).\n",
            " |      preprocessing_function: function that will be applied on each input. The\n",
            " |        function will run after the image is resized and augmented.\n",
            " |          The function should take one argument: one image (Numpy tensor with\n",
            " |            rank 3), and should output a Numpy tensor with the same shape.\n",
            " |      data_format: Image data format, either \"channels_first\" or\n",
            " |        \"channels_last\". \"channels_last\" mode means that the images should have\n",
            " |        shape `(samples, height, width, channels)`, \"channels_first\" mode means\n",
            " |        that the images should have shape `(samples, channels, height, width)`.\n",
            " |        It defaults to the `image_data_format` value found in your Keras config\n",
            " |        file at `~/.keras/keras.json`. If you never set it, then it will be\n",
            " |        \"channels_last\".\n",
            " |      validation_split: Float. Fraction of images reserved for validation\n",
            " |        (strictly between 0 and 1).\n",
            " |      dtype: Dtype to use for the generated arrays.\n",
            " |  \n",
            " |  Raises:\n",
            " |    ValueError: If the value of the argument, `data_format` is other than\n",
            " |          `\"channels_last\"` or `\"channels_first\"`.\n",
            " |    ValueError: If the value of the argument, `validation_split` > 1\n",
            " |          or `validation_split` < 0.\n",
            " |  \n",
            " |  Examples:\n",
            " |  \n",
            " |  Example of using `.flow(x, y)`:\n",
            " |  \n",
            " |  ```python\n",
            " |  (x_train, y_train), (x_test, y_test) = cifar10.load_data()\n",
            " |  y_train = utils.to_categorical(y_train, num_classes)\n",
            " |  y_test = utils.to_categorical(y_test, num_classes)\n",
            " |  datagen = ImageDataGenerator(\n",
            " |      featurewise_center=True,\n",
            " |      featurewise_std_normalization=True,\n",
            " |      rotation_range=20,\n",
            " |      width_shift_range=0.2,\n",
            " |      height_shift_range=0.2,\n",
            " |      horizontal_flip=True,\n",
            " |      validation_split=0.2)\n",
            " |  # compute quantities required for featurewise normalization\n",
            " |  # (std, mean, and principal components if ZCA whitening is applied)\n",
            " |  datagen.fit(x_train)\n",
            " |  # fits the model on batches with real-time data augmentation:\n",
            " |  model.fit(datagen.flow(x_train, y_train, batch_size=32,\n",
            " |           subset='training'),\n",
            " |           validation_data=datagen.flow(x_train, y_train,\n",
            " |           batch_size=8, subset='validation'),\n",
            " |           steps_per_epoch=len(x_train) / 32, epochs=epochs)\n",
            " |  # here's a more \"manual\" example\n",
            " |  for e in range(epochs):\n",
            " |      print('Epoch', e)\n",
            " |      batches = 0\n",
            " |      for x_batch, y_batch in datagen.flow(x_train, y_train, batch_size=32):\n",
            " |          model.fit(x_batch, y_batch)\n",
            " |          batches += 1\n",
            " |          if batches >= len(x_train) / 32:\n",
            " |              # we need to break the loop by hand because\n",
            " |              # the generator loops indefinitely\n",
            " |              break\n",
            " |  ```\n",
            " |  \n",
            " |  Example of using `.flow_from_directory(directory)`:\n",
            " |  \n",
            " |  ```python\n",
            " |  train_datagen = ImageDataGenerator(\n",
            " |          rescale=1./255,\n",
            " |          shear_range=0.2,\n",
            " |          zoom_range=0.2,\n",
            " |          horizontal_flip=True)\n",
            " |  test_datagen = ImageDataGenerator(rescale=1./255)\n",
            " |  train_generator = train_datagen.flow_from_directory(\n",
            " |          'data/train',\n",
            " |          target_size=(150, 150),\n",
            " |          batch_size=32,\n",
            " |          class_mode='binary')\n",
            " |  validation_generator = test_datagen.flow_from_directory(\n",
            " |          'data/validation',\n",
            " |          target_size=(150, 150),\n",
            " |          batch_size=32,\n",
            " |          class_mode='binary')\n",
            " |  model.fit(\n",
            " |          train_generator,\n",
            " |          steps_per_epoch=2000,\n",
            " |          epochs=50,\n",
            " |          validation_data=validation_generator,\n",
            " |          validation_steps=800)\n",
            " |  ```\n",
            " |  \n",
            " |  Example of transforming images and masks together.\n",
            " |  \n",
            " |  ```python\n",
            " |  # we create two instances with the same arguments\n",
            " |  data_gen_args = dict(featurewise_center=True,\n",
            " |                       featurewise_std_normalization=True,\n",
            " |                       rotation_range=90,\n",
            " |                       width_shift_range=0.1,\n",
            " |                       height_shift_range=0.1,\n",
            " |                       zoom_range=0.2)\n",
            " |  image_datagen = ImageDataGenerator(**data_gen_args)\n",
            " |  mask_datagen = ImageDataGenerator(**data_gen_args)\n",
            " |  # Provide the same seed and keyword arguments to the fit and flow methods\n",
            " |  seed = 1\n",
            " |  image_datagen.fit(images, augment=True, seed=seed)\n",
            " |  mask_datagen.fit(masks, augment=True, seed=seed)\n",
            " |  image_generator = image_datagen.flow_from_directory(\n",
            " |      'data/images',\n",
            " |      class_mode=None,\n",
            " |      seed=seed)\n",
            " |  mask_generator = mask_datagen.flow_from_directory(\n",
            " |      'data/masks',\n",
            " |      class_mode=None,\n",
            " |      seed=seed)\n",
            " |  # combine generators into one which yields image and masks\n",
            " |  train_generator = zip(image_generator, mask_generator)\n",
            " |  model.fit(\n",
            " |      train_generator,\n",
            " |      steps_per_epoch=2000,\n",
            " |      epochs=50)\n",
            " |  ```\n",
            " |  \n",
            " |  Methods defined here:\n",
            " |  \n",
            " |  __init__(self, featurewise_center=False, samplewise_center=False, featurewise_std_normalization=False, samplewise_std_normalization=False, zca_whitening=False, zca_epsilon=1e-06, rotation_range=0, width_shift_range=0.0, height_shift_range=0.0, brightness_range=None, shear_range=0.0, zoom_range=0.0, channel_shift_range=0.0, fill_mode='nearest', cval=0.0, horizontal_flip=False, vertical_flip=False, rescale=None, preprocessing_function=None, data_format=None, validation_split=0.0, interpolation_order=1, dtype=None)\n",
            " |      Initialize self.  See help(type(self)) for accurate signature.\n",
            " |  \n",
            " |  apply_transform(self, x, transform_parameters)\n",
            " |      Applies a transformation to an image according to given parameters.\n",
            " |      \n",
            " |      Args:\n",
            " |          x: 3D tensor, single image.\n",
            " |          transform_parameters: Dictionary with string - parameter pairs\n",
            " |              describing the transformation.\n",
            " |              Currently, the following parameters\n",
            " |              from the dictionary are used:\n",
            " |              - `'theta'`: Float. Rotation angle in degrees.\n",
            " |              - `'tx'`: Float. Shift in the x direction.\n",
            " |              - `'ty'`: Float. Shift in the y direction.\n",
            " |              - `'shear'`: Float. Shear angle in degrees.\n",
            " |              - `'zx'`: Float. Zoom in the x direction.\n",
            " |              - `'zy'`: Float. Zoom in the y direction.\n",
            " |              - `'flip_horizontal'`: Boolean. Horizontal flip.\n",
            " |              - `'flip_vertical'`: Boolean. Vertical flip.\n",
            " |              - `'channel_shift_intensity'`: Float. Channel shift intensity.\n",
            " |              - `'brightness'`: Float. Brightness shift intensity.\n",
            " |      \n",
            " |      Returns:\n",
            " |          A transformed version of the input (same shape).\n",
            " |  \n",
            " |  fit(self, x, augment=False, rounds=1, seed=None)\n",
            " |      Fits the data generator to some sample data.\n",
            " |      \n",
            " |      This computes the internal data stats related to the\n",
            " |      data-dependent transformations, based on an array of sample data.\n",
            " |      \n",
            " |      Only required if `featurewise_center` or\n",
            " |      `featurewise_std_normalization` or `zca_whitening` are set to True.\n",
            " |      \n",
            " |      When `rescale` is set to a value, rescaling is applied to\n",
            " |      sample data before computing the internal data stats.\n",
            " |      \n",
            " |      Args:\n",
            " |          x: Sample data. Should have rank 4.\n",
            " |           In case of grayscale data,\n",
            " |           the channels axis should have value 1, in case\n",
            " |           of RGB data, it should have value 3, and in case\n",
            " |           of RGBA data, it should have value 4.\n",
            " |          augment: Boolean (default: False).\n",
            " |              Whether to fit on randomly augmented samples.\n",
            " |          rounds: Int (default: 1).\n",
            " |              If using data augmentation (`augment=True`),\n",
            " |              this is how many augmentation passes over the data to use.\n",
            " |          seed: Int (default: None). Random seed.\n",
            " |  \n",
            " |  flow(self, x, y=None, batch_size=32, shuffle=True, sample_weight=None, seed=None, save_to_dir=None, save_prefix='', save_format='png', ignore_class_split=False, subset=None)\n",
            " |      Takes data & label arrays, generates batches of augmented data.\n",
            " |      \n",
            " |      Args:\n",
            " |          x: Input data. Numpy array of rank 4 or a tuple. If tuple, the first\n",
            " |            element should contain the images and the second element another numpy\n",
            " |            array or a list of numpy arrays that gets passed to the output without\n",
            " |            any modifications. Can be used to feed the model miscellaneous data\n",
            " |            along with the images. In case of grayscale data, the channels axis of\n",
            " |            the image array should have value 1, in case of RGB data, it should\n",
            " |            have value 3, and in case of RGBA data, it should have value 4.\n",
            " |          y: Labels.\n",
            " |          batch_size: Int (default: 32).\n",
            " |          shuffle: Boolean (default: True).\n",
            " |          sample_weight: Sample weights.\n",
            " |          seed: Int (default: None).\n",
            " |          save_to_dir: None or str (default: None). This allows you to optionally\n",
            " |            specify a directory to which to save the augmented pictures being\n",
            " |            generated (useful for visualizing what you are doing).\n",
            " |          save_prefix: Str (default: `''`). Prefix to use for filenames of saved\n",
            " |            pictures (only relevant if `save_to_dir` is set).\n",
            " |          save_format: one of \"png\", \"jpeg\", \"bmp\", \"pdf\", \"ppm\", \"gif\", \"tif\",\n",
            " |            \"jpg\" (only relevant if `save_to_dir` is set). Default: \"png\".\n",
            " |          ignore_class_split: Boolean (default: False), ignore difference\n",
            " |            in number of classes in labels across train and validation\n",
            " |            split (useful for non-classification tasks)\n",
            " |          subset: Subset of data (`\"training\"` or `\"validation\"`) if\n",
            " |            `validation_split` is set in `ImageDataGenerator`.\n",
            " |      \n",
            " |      Returns:\n",
            " |          An `Iterator` yielding tuples of `(x, y)`\n",
            " |              where `x` is a numpy array of image data\n",
            " |              (in the case of a single image input) or a list\n",
            " |              of numpy arrays (in the case with\n",
            " |              additional inputs) and `y` is a numpy array\n",
            " |              of corresponding labels. If 'sample_weight' is not None,\n",
            " |              the yielded tuples are of the form `(x, y, sample_weight)`.\n",
            " |              If `y` is None, only the numpy array `x` is returned.\n",
            " |      Raises:\n",
            " |        ValueError: If the Value of the argument, `subset` is other than\n",
            " |              \"training\" or \"validation\".\n",
            " |  \n",
            " |  flow_from_dataframe(self, dataframe, directory=None, x_col='filename', y_col='class', weight_col=None, target_size=(256, 256), color_mode='rgb', classes=None, class_mode='categorical', batch_size=32, shuffle=True, seed=None, save_to_dir=None, save_prefix='', save_format='png', subset=None, interpolation='nearest', validate_filenames=True, **kwargs)\n",
            " |      Takes the dataframe and the path to a directory + generates batches.\n",
            " |      \n",
            " |       The generated batches contain augmented/normalized data.\n",
            " |      \n",
            " |      **A simple tutorial can be found **[here](\n",
            " |                                  http://bit.ly/keras_flow_from_dataframe).\n",
            " |      \n",
            " |      Args:\n",
            " |          dataframe: Pandas dataframe containing the filepaths relative to\n",
            " |              `directory` (or absolute paths if `directory` is None) of the\n",
            " |              images in a string column. It should include other column/s\n",
            " |              depending on the `class_mode`:\n",
            " |              - if `class_mode` is `\"categorical\"` (default value) it must\n",
            " |                  include the `y_col` column with the class/es of each image.\n",
            " |                  Values in column can be string/list/tuple if a single class\n",
            " |                  or list/tuple if multiple classes.\n",
            " |              - if `class_mode` is `\"binary\"` or `\"sparse\"` it must include\n",
            " |                  the given `y_col` column with class values as strings.\n",
            " |              - if `class_mode` is `\"raw\"` or `\"multi_output\"` it should contain\n",
            " |              the columns specified in `y_col`.\n",
            " |              - if `class_mode` is `\"input\"` or `None` no extra column is needed.\n",
            " |          directory: string, path to the directory to read images from. If `None`,\n",
            " |            data in `x_col` column should be absolute paths.\n",
            " |          x_col: string, column in `dataframe` that contains the filenames (or\n",
            " |            absolute paths if `directory` is `None`).\n",
            " |          y_col: string or list, column/s in `dataframe` that has the target data.\n",
            " |          weight_col: string, column in `dataframe` that contains the sample\n",
            " |              weights. Default: `None`.\n",
            " |          target_size: tuple of integers `(height, width)`, default: `(256, 256)`.\n",
            " |            The dimensions to which all images found will be resized.\n",
            " |          color_mode: one of \"grayscale\", \"rgb\", \"rgba\". Default: \"rgb\". Whether\n",
            " |            the images will be converted to have 1 or 3 color channels.\n",
            " |          classes: optional list of classes (e.g. `['dogs', 'cats']`). Default is\n",
            " |            None. If not provided, the list of classes will be automatically\n",
            " |            inferred from the `y_col`, which will map to the label indices, will\n",
            " |            be alphanumeric). The dictionary containing the mapping from class\n",
            " |            names to class indices can be obtained via the attribute\n",
            " |            `class_indices`.\n",
            " |          class_mode: one of \"binary\", \"categorical\", \"input\", \"multi_output\",\n",
            " |              \"raw\", sparse\" or None. Default: \"categorical\".\n",
            " |              Mode for yielding the targets:\n",
            " |              - `\"binary\"`: 1D numpy array of binary labels,\n",
            " |              - `\"categorical\"`: 2D numpy array of one-hot encoded labels.\n",
            " |                Supports multi-label output.\n",
            " |              - `\"input\"`: images identical to input images (mainly used to work\n",
            " |                with autoencoders),\n",
            " |              - `\"multi_output\"`: list with the values of the different columns,\n",
            " |              - `\"raw\"`: numpy array of values in `y_col` column(s),\n",
            " |              - `\"sparse\"`: 1D numpy array of integer labels, - `None`, no targets\n",
            " |                are returned (the generator will only yield batches of image data,\n",
            " |                which is useful to use in `model.predict()`).\n",
            " |          batch_size: size of the batches of data (default: 32).\n",
            " |          shuffle: whether to shuffle the data (default: True)\n",
            " |          seed: optional random seed for shuffling and transformations.\n",
            " |          save_to_dir: None or str (default: None). This allows you to optionally\n",
            " |            specify a directory to which to save the augmented pictures being\n",
            " |            generated (useful for visualizing what you are doing).\n",
            " |          save_prefix: str. Prefix to use for filenames of saved pictures (only\n",
            " |            relevant if `save_to_dir` is set).\n",
            " |          save_format: one of \"png\", \"jpeg\", \"bmp\", \"pdf\", \"ppm\", \"gif\", \"tif\",\n",
            " |            \"jpg\" (only relevant if `save_to_dir` is set). Default: \"png\".\n",
            " |          subset: Subset of data (`\"training\"` or `\"validation\"`) if\n",
            " |            `validation_split` is set in `ImageDataGenerator`.\n",
            " |          interpolation: Interpolation method used to resample the image if the\n",
            " |            target size is different from that of the loaded image. Supported\n",
            " |            methods are `\"nearest\"`, `\"bilinear\"`, and `\"bicubic\"`. If PIL version\n",
            " |            1.1.3 or newer is installed, `\"lanczos\"` is also supported. If PIL\n",
            " |            version 3.4.0 or newer is installed, `\"box\"` and `\"hamming\"` are also\n",
            " |            supported. By default, `\"nearest\"` is used.\n",
            " |          validate_filenames: Boolean, whether to validate image filenames in\n",
            " |            `x_col`. If `True`, invalid images will be ignored. Disabling this\n",
            " |            option can lead to speed-up in the execution of this function.\n",
            " |            Defaults to `True`.\n",
            " |          **kwargs: legacy arguments for raising deprecation warnings.\n",
            " |      \n",
            " |      Returns:\n",
            " |          A `DataFrameIterator` yielding tuples of `(x, y)`\n",
            " |          where `x` is a numpy array containing a batch\n",
            " |          of images with shape `(batch_size, *target_size, channels)`\n",
            " |          and `y` is a numpy array of corresponding labels.\n",
            " |  \n",
            " |  flow_from_directory(self, directory, target_size=(256, 256), color_mode='rgb', classes=None, class_mode='categorical', batch_size=32, shuffle=True, seed=None, save_to_dir=None, save_prefix='', save_format='png', follow_links=False, subset=None, interpolation='nearest', keep_aspect_ratio=False)\n",
            " |      Takes the path to a directory & generates batches of augmented data.\n",
            " |      \n",
            " |      Args:\n",
            " |          directory: string, path to the target directory. It should contain one\n",
            " |            subdirectory per class. Any PNG, JPG, BMP, PPM or TIF images inside\n",
            " |            each of the subdirectories directory tree will be included in the\n",
            " |            generator. See [this script](\n",
            " |              https://gist.github.com/fchollet/0830affa1f7f19fd47b06d4cf89ed44d)\n",
            " |                for more details.\n",
            " |          target_size: Tuple of integers `(height, width)`, defaults to `(256,\n",
            " |            256)`. The dimensions to which all images found will be resized.\n",
            " |          color_mode: One of \"grayscale\", \"rgb\", \"rgba\". Default: \"rgb\". Whether\n",
            " |            the images will be converted to have 1, 3, or 4 channels.\n",
            " |          classes: Optional list of class subdirectories\n",
            " |              (e.g. `['dogs', 'cats']`). Default: None. If not provided, the list\n",
            " |                of classes will be automatically inferred from the subdirectory\n",
            " |                names/structure under `directory`, where each subdirectory will be\n",
            " |                treated as a different class (and the order of the classes, which\n",
            " |                will map to the label indices, will be alphanumeric). The\n",
            " |                dictionary containing the mapping from class names to class\n",
            " |                indices can be obtained via the attribute `class_indices`.\n",
            " |          class_mode: One of \"categorical\", \"binary\", \"sparse\",\n",
            " |              \"input\", or None. Default: \"categorical\".\n",
            " |              Determines the type of label arrays that are returned:\n",
            " |              - \"categorical\" will be 2D one-hot encoded labels,\n",
            " |              - \"binary\" will be 1D binary labels,\n",
            " |                  \"sparse\" will be 1D integer labels,\n",
            " |              - \"input\" will be images identical\n",
            " |                  to input images (mainly used to work with autoencoders).\n",
            " |              - If None, no labels are returned\n",
            " |                (the generator will only yield batches of image data,\n",
            " |                which is useful to use with `model.predict_generator()`).\n",
            " |                Please note that in case of class_mode None,\n",
            " |                the data still needs to reside in a subdirectory\n",
            " |                of `directory` for it to work correctly.\n",
            " |          batch_size: Size of the batches of data (default: 32).\n",
            " |          shuffle: Whether to shuffle the data (default: True) If set to False,\n",
            " |            sorts the data in alphanumeric order.\n",
            " |          seed: Optional random seed for shuffling and transformations.\n",
            " |          save_to_dir: None or str (default: None). This allows you to optionally\n",
            " |            specify a directory to which to save the augmented pictures being\n",
            " |            generated (useful for visualizing what you are doing).\n",
            " |          save_prefix: Str. Prefix to use for filenames of saved pictures (only\n",
            " |            relevant if `save_to_dir` is set).\n",
            " |          save_format: one of \"png\", \"jpeg\", \"bmp\", \"pdf\", \"ppm\", \"gif\", \"tif\",\n",
            " |            \"jpg\"\n",
            " |              (only relevant if `save_to_dir` is set). Default: \"png\".\n",
            " |          follow_links: Whether to follow symlinks inside\n",
            " |              class subdirectories (default: False).\n",
            " |          subset: Subset of data (`\"training\"` or `\"validation\"`) if\n",
            " |            `validation_split` is set in `ImageDataGenerator`.\n",
            " |          interpolation: Interpolation method used to resample the image if the\n",
            " |            target size is different from that of the loaded image. Supported\n",
            " |            methods are `\"nearest\"`, `\"bilinear\"`, and `\"bicubic\"`. If PIL version\n",
            " |            1.1.3 or newer is installed, `\"lanczos\"` is also supported. If PIL\n",
            " |            version 3.4.0 or newer is installed, `\"box\"` and `\"hamming\"` are also\n",
            " |            supported. By default, `\"nearest\"` is used.\n",
            " |          keep_aspect_ratio: Boolean, whether to resize images to a target\n",
            " |            size without aspect ratio distortion. The image is cropped in\n",
            " |            the center with target aspect ratio before resizing.\n",
            " |      \n",
            " |      Returns:\n",
            " |          A `DirectoryIterator` yielding tuples of `(x, y)`\n",
            " |              where `x` is a numpy array containing a batch\n",
            " |              of images with shape `(batch_size, *target_size, channels)`\n",
            " |              and `y` is a numpy array of corresponding labels.\n",
            " |  \n",
            " |  get_random_transform(self, img_shape, seed=None)\n",
            " |      Generates random parameters for a transformation.\n",
            " |      \n",
            " |      Args:\n",
            " |          img_shape: Tuple of integers.\n",
            " |              Shape of the image that is transformed.\n",
            " |          seed: Random seed.\n",
            " |      \n",
            " |      Returns:\n",
            " |          A dictionary containing randomly chosen parameters describing the\n",
            " |          transformation.\n",
            " |  \n",
            " |  random_transform(self, x, seed=None)\n",
            " |      Applies a random transformation to an image.\n",
            " |      \n",
            " |      Args:\n",
            " |          x: 3D tensor, single image.\n",
            " |          seed: Random seed.\n",
            " |      \n",
            " |      Returns:\n",
            " |          A randomly transformed version of the input (same shape).\n",
            " |  \n",
            " |  standardize(self, x)\n",
            " |      Applies the normalization configuration in-place to a batch of inputs.\n",
            " |      \n",
            " |      `x` is changed in-place since the function is mainly used internally\n",
            " |      to standardize images and feed them to your network. If a copy of `x`\n",
            " |      would be created instead it would have a significant performance cost.\n",
            " |      If you want to apply this method without changing the input in-place\n",
            " |      you can call the method creating a copy before:\n",
            " |      \n",
            " |      standardize(np.copy(x))\n",
            " |      \n",
            " |      Args:\n",
            " |          x: Batch of inputs to be normalized.\n",
            " |      \n",
            " |      Returns:\n",
            " |          The inputs, normalized.\n",
            " |  \n",
            " |  ----------------------------------------------------------------------\n",
            " |  Data descriptors defined here:\n",
            " |  \n",
            " |  __dict__\n",
            " |      dictionary for instance variables (if defined)\n",
            " |  \n",
            " |  __weakref__\n",
            " |      list of weak references to the object (if defined)\n",
            "\n"
          ]
        }
      ]
    },
    {
      "cell_type": "code",
      "metadata": {
        "id": "Ql8CzX8mrI2h"
      },
      "source": [
        "# 4.3.2\n",
        "# See http://cs231n.github.io/neural-networks-2/\n",
        "# featurewise_center\n",
        "#     Mean subtraction is the most common form of preprocessing.\n",
        "#     It involves subtracting the mean across every individual\n",
        "#     feature in the data, and has the geometric interpretation\n",
        "#     of centering the cloud of data around the origin along\n",
        "#     every dimension. In numpy, this operation would be\n",
        "#     implemented as: X -= np.mean(X, axis = 0).\n",
        "#     With images specifically, for convenience it can be common\n",
        "#     to subtract a single value from all pixels (e.g. X -= np.mean(X)),\n",
        "#     or to do so separately across the three color channels.\n",
        "# featurewise_std_normalization\n",
        "#     Normalization refers to normalizing the data dimensions\n",
        "#     so that they are of approximately the same scale. There\n",
        "#     are two common ways of achieving this normalization.\n",
        "#     One is to divide each dimension by its standard deviation,\n",
        "#     once it has been zero-centered: (X /= np.std(X, axis = 0)).\n",
        "#     Another form of this preprocessing normalizes each dimension\n",
        "#     so that the min and max along the dimension is -1 and 1 respectively.\n",
        "#     It only makes sense to apply this preprocessing if you have a reason\n",
        "#     to believe that different input features have different scales\n",
        "#     (or units), but they should be of approximately equal importance\n",
        "#     to the learning algorithm. In case of images, the relative scales\n",
        "#     of pixels are already approximately equal (and in range from 0 to 255),\n",
        "#     so it is not strictly necessary to perform this additional preprocessing step.\n"
      ],
      "execution_count": null,
      "outputs": []
    },
    {
      "cell_type": "code",
      "metadata": {
        "id": "EHMVZ2BRrK6Z",
        "colab": {
          "base_uri": "https://localhost:8080/"
        },
        "outputId": "d8306a9d-590b-4833-b023-ddd162c7e0f8"
      },
      "source": [
        "# 4.3.3 Learner object\n",
        "datagen = ImageDataGenerator(\n",
        "                             zca_whitening=True,  # Ref: Kaggle: https://www.kaggle.com/nicw102168/exploring-zca-and-color-image-whitening\n",
        "\t\t\t\t\t\t\t                      # ZCA is a whitening transformation that decorrelates\n",
        "\t\t\t\t\t\t\t                      # (whiten) the data (image). De-correlation implies\n",
        "\t\t\t\t\t\t\t\t\t\t\t\t            # removing linear dependencies. In images lot of\n",
        "\t\t\t\t\t\t\t\t\t\t\t\t            # correlation exists between adjacent pixels.\n",
        "\t\t\t\t\t\t\t\t\t\t\t\t            # zca is a technique to remove this 'common information'\n",
        "\t\t\t\t\t\t\t\t\t\t\t\t            # between pixels. Consider this: We have a rectangle\n",
        "\t\t\t\t\t\t\t\t\t\t\t\t            # which is filled with white colour inside and outside\n",
        "\t\t\t\t\t\t\t\t\t\t\t\t            # colour is totally black. That is we have a black\n",
        "\t\t\t\t\t\t\t\t\t\t\t\t            # rectangle on which is superimposed white rectangle.\n",
        "\t\t\t\t\t\t\t\t\t\t\t\t            # If common information is removed, result will be\n",
        "\t\t\t\t\t\t\t\t\t\t\t\t            # just a 'white-boundary' of inner rectangle and\n",
        "\t\t\t\t\t\t\t\t\t\t\t\t            # both outside and inside of it completely black. We\n",
        "\t\t\t\t\t\t\t\t\t\t\t\t            # have, therefore, a sort of embossed picture.\n",
        "\t\t\t\t\t\t\t\t\t\t\t\t            # ==>  Transforms the image to a sort of embossed image <==\n",
        "\t\t\t\t\t\t\t\t\t\t\t\t            # That is effect of ZCA on 244,244,244,10,10,10,10 would be\n",
        "\t\t\t\t\t\t\t\t\t\t\t\t            #  approx: 0,0,244,0,0,0,0\n",
        "\t\t\t\t\t\t\t\t\t\t\t\t            # Less redundancy in the image is intended to better\n",
        "\t\t\t\t\t\t\t\t\t\t\t\t            #  highlight the structures and features in the image\n",
        "\t\t\t\t\t\t\t\t\t\t\t\t            #   to the learning algorithm. \n",
        "                             zca_epsilon=0.001,   # Sharpness of edges when data get decorrelated\n",
        "\t\t\t\t\t\t\t                      # See this link to check effect of zca_epsilon on image\n",
        "\t\t\t\t\t\t\t                      # https://stats.stackexchange.com/a/117459\n",
        "                             featurewise_center=True,\n",
        "                             featurewise_std_normalization=True\n",
        "                            )"
      ],
      "execution_count": null,
      "outputs": [
        {
          "output_type": "stream",
          "name": "stderr",
          "text": [
            "/usr/local/lib/python3.8/dist-packages/keras/preprocessing/image.py:1290: UserWarning: This ImageDataGenerator specifies `zca_whitening` which overrides setting of`featurewise_std_normalization`.\n",
            "  warnings.warn('This ImageDataGenerator specifies '\n"
          ]
        }
      ]
    },
    {
      "cell_type": "code",
      "metadata": {
        "id": "z4YvqTSgrOeI",
        "colab": {
          "base_uri": "https://localhost:8080/"
        },
        "outputId": "0f5271f1-9159-469e-8bc0-6437caeecf0c"
      },
      "source": [
        "# 4.3.4 Neither iterable with __iter__method\n",
        "#        nor iterator with __next__() method:\n",
        "\n",
        "type(datagen)\t\t # ImageDataGenerator object\n",
        "                 #  It is neither an iterable nor an interator object \n",
        "                 #    It neither has __iter__() method or has __next__() method"
      ],
      "execution_count": null,
      "outputs": [
        {
          "output_type": "execute_result",
          "data": {
            "text/plain": [
              "keras.preprocessing.image.ImageDataGenerator"
            ]
          },
          "metadata": {},
          "execution_count": 20
        }
      ]
    },
    {
      "cell_type": "code",
      "metadata": {
        "id": "obgdOWYprQ8y"
      },
      "source": [
        "# 4.4 Learn statistics of actual data, train\n",
        "#     If you JUMP this step, you get a warning while plotting:\n",
        "#     This ImageDataGenerator specifies `featurewise_center`, but it\n",
        "#       hasn't been fit on any training data. Fit it\n",
        "#        first by calling `.fit(numpy_data)`.\n",
        "\n",
        "# 4.4.1 Learn data now\n",
        "datagen.fit(X_train)"
      ],
      "execution_count": null,
      "outputs": []
    },
    {
      "cell_type": "markdown",
      "metadata": {
        "id": "I5yy24xQsUhB"
      },
      "source": [
        "flow() method:<br>\n",
        "Returns an Iterator yielding tuples of (x, y) where x is a numpy array of image data (in the case of a single image input) or a list of numpy arrays (in the case with additional inputs) and y is a numpy array of corresponding labels."
      ]
    },
    {
      "cell_type": "code",
      "metadata": {
        "id": "lt4Dy44ErUjH"
      },
      "source": [
        "# 4.5 'datagen' itself is an iterator. One can Iterate\n",
        "#     over it to get images. But this iterator needs\n",
        "#     to be configured using flow() method to decide\n",
        "#     upon batch size to output at a time.\n",
        "#     Create first the datagen.flow() iterator\n",
        "\n",
        "# 4.4.2 Get iterator object. Iterator returns both\n",
        "#       transformed data as also its label\n",
        "\n",
        "batch_gen_iterator = datagen.flow(\n",
        "                                   X_train,\n",
        "                                   y_train,\n",
        "                                   batch_size=1      # How many images to return at a time\n",
        "                                  )"
      ],
      "execution_count": null,
      "outputs": []
    },
    {
      "cell_type": "code",
      "source": [
        "t=next(batch_gen_iterator)"
      ],
      "metadata": {
        "id": "uuqLWJJo1Igw"
      },
      "execution_count": null,
      "outputs": []
    },
    {
      "cell_type": "code",
      "source": [
        "type(t)"
      ],
      "metadata": {
        "id": "6ld5Ep3M1PhK",
        "outputId": "88363717-16aa-4703-9299-92a438cc3eff",
        "colab": {
          "base_uri": "https://localhost:8080/"
        }
      },
      "execution_count": null,
      "outputs": [
        {
          "output_type": "execute_result",
          "data": {
            "text/plain": [
              "tuple"
            ]
          },
          "metadata": {},
          "execution_count": 27
        }
      ]
    },
    {
      "cell_type": "code",
      "source": [
        "t[0]"
      ],
      "metadata": {
        "id": "LI2wsdJ7r6Yt",
        "outputId": "592631f7-aeb7-4d7f-f7bc-9f8e513ab277",
        "colab": {
          "base_uri": "https://localhost:8080/"
        }
      },
      "execution_count": null,
      "outputs": [
        {
          "output_type": "execute_result",
          "data": {
            "text/plain": [
              "array([[[[-3.87592167e-02],\n",
              "         [-3.87592167e-02],\n",
              "         [-3.87592167e-02],\n",
              "         [-3.87592167e-02],\n",
              "         [-3.87592167e-02],\n",
              "         [-3.87592167e-02],\n",
              "         [-3.87592167e-02],\n",
              "         [-3.87592167e-02],\n",
              "         [-3.87591496e-02],\n",
              "         [-3.87591496e-02],\n",
              "         [-3.87591496e-02],\n",
              "         [-3.87591496e-02],\n",
              "         [-3.87591496e-02],\n",
              "         [-3.87591496e-02],\n",
              "         [-3.87591496e-02],\n",
              "         [-3.87591496e-02],\n",
              "         [-3.87591496e-02],\n",
              "         [-3.87591496e-02],\n",
              "         [-3.87591496e-02],\n",
              "         [-3.87591496e-02],\n",
              "         [-3.87591496e-02],\n",
              "         [-3.87591496e-02],\n",
              "         [-3.87591496e-02],\n",
              "         [-3.87591496e-02],\n",
              "         [-3.87591496e-02],\n",
              "         [-3.87591496e-02],\n",
              "         [-3.87591496e-02],\n",
              "         [-3.87591496e-02]],\n",
              "\n",
              "        [[-3.87591496e-02],\n",
              "         [-3.87591496e-02],\n",
              "         [-3.87591496e-02],\n",
              "         [-3.87591496e-02],\n",
              "         [-3.87591496e-02],\n",
              "         [-3.87591496e-02],\n",
              "         [-3.87591496e-02],\n",
              "         [-3.87591496e-02],\n",
              "         [-3.87591496e-02],\n",
              "         [-3.87591496e-02],\n",
              "         [-3.87591496e-02],\n",
              "         [-3.87591496e-02],\n",
              "         [-3.87591496e-02],\n",
              "         [-5.84273748e-02],\n",
              "         [-8.71751606e-02],\n",
              "         [ 1.89732373e-01],\n",
              "         [ 2.76972473e-01],\n",
              "         [ 4.04835418e-02],\n",
              "         [-3.87591496e-02],\n",
              "         [-3.87591496e-02],\n",
              "         [-3.87591496e-02],\n",
              "         [-3.87591496e-02],\n",
              "         [-3.87591496e-02],\n",
              "         [-3.87591496e-02],\n",
              "         [-3.87591496e-02],\n",
              "         [-3.87591496e-02],\n",
              "         [-3.87591496e-02],\n",
              "         [-3.87591496e-02]],\n",
              "\n",
              "        [[-3.87591496e-02],\n",
              "         [-3.87591496e-02],\n",
              "         [-3.87591496e-02],\n",
              "         [-3.87591496e-02],\n",
              "         [-3.87591496e-02],\n",
              "         [-3.87591496e-02],\n",
              "         [-3.87591496e-02],\n",
              "         [-3.87591496e-02],\n",
              "         [-3.87591496e-02],\n",
              "         [-3.87591496e-02],\n",
              "         [-3.87591496e-02],\n",
              "         [ 1.58527326e-02],\n",
              "         [ 3.90789062e-01],\n",
              "         [ 3.78828913e-01],\n",
              "         [ 3.96822572e-01],\n",
              "         [ 9.70065743e-02],\n",
              "         [ 9.88183543e-02],\n",
              "         [-1.70344979e-01],\n",
              "         [-5.04319847e-01],\n",
              "         [-5.80742478e-01],\n",
              "         [-4.42707539e-02],\n",
              "         [-3.87591496e-02],\n",
              "         [-3.87591496e-02],\n",
              "         [-3.87591496e-02],\n",
              "         [-3.87591496e-02],\n",
              "         [-3.87591496e-02],\n",
              "         [-3.87591496e-02],\n",
              "         [-3.87591496e-02]],\n",
              "\n",
              "        [[-3.87591496e-02],\n",
              "         [-3.87591496e-02],\n",
              "         [-3.87591496e-02],\n",
              "         [-3.87591496e-02],\n",
              "         [-3.87591496e-02],\n",
              "         [-3.87591496e-02],\n",
              "         [-3.87591496e-02],\n",
              "         [-1.54581200e-02],\n",
              "         [ 1.49515525e-01],\n",
              "         [ 9.06147286e-02],\n",
              "         [-3.10799837e-01],\n",
              "         [-8.21541250e-02],\n",
              "         [ 1.50803968e-01],\n",
              "         [-1.98061056e-02],\n",
              "         [-1.58140987e-01],\n",
              "         [-7.27555871e-01],\n",
              "         [-1.72178537e-01],\n",
              "         [-4.23176289e-01],\n",
              "         [ 9.34116915e-02],\n",
              "         [-3.52336973e-01],\n",
              "         [-4.94140387e-02],\n",
              "         [-8.18165243e-02],\n",
              "         [ 3.14639211e-01],\n",
              "         [-3.87591496e-02],\n",
              "         [-3.87591496e-02],\n",
              "         [-3.87591496e-02],\n",
              "         [-3.87591496e-02],\n",
              "         [-3.87591496e-02]],\n",
              "\n",
              "        [[-3.87591496e-02],\n",
              "         [-3.87591496e-02],\n",
              "         [-3.87591496e-02],\n",
              "         [-3.87591496e-02],\n",
              "         [-3.87591496e-02],\n",
              "         [ 2.24223100e-02],\n",
              "         [ 4.50592339e-02],\n",
              "         [ 1.23171024e-01],\n",
              "         [ 1.44381672e-01],\n",
              "         [-1.10667534e-01],\n",
              "         [-3.25546712e-01],\n",
              "         [ 2.84009993e-01],\n",
              "         [-1.52284876e-01],\n",
              "         [ 5.57468832e-01],\n",
              "         [-4.34964478e-01],\n",
              "         [ 2.76961863e-01],\n",
              "         [ 2.26128459e-01],\n",
              "         [ 4.90362763e-01],\n",
              "         [-2.44639024e-01],\n",
              "         [ 9.13247764e-01],\n",
              "         [-5.96044719e-01],\n",
              "         [ 2.84444839e-01],\n",
              "         [ 3.11757118e-01],\n",
              "         [-5.49201488e-01],\n",
              "         [-7.07478046e-01],\n",
              "         [-3.87591496e-02],\n",
              "         [-3.87591496e-02],\n",
              "         [-3.87591496e-02]],\n",
              "\n",
              "        [[-3.87591496e-02],\n",
              "         [-3.87591496e-02],\n",
              "         [-3.87591496e-02],\n",
              "         [-4.08619344e-02],\n",
              "         [ 2.65589524e-02],\n",
              "         [ 1.07339084e-01],\n",
              "         [ 2.36204833e-01],\n",
              "         [-3.76292765e-01],\n",
              "         [-3.09205167e-02],\n",
              "         [ 5.37976027e-01],\n",
              "         [ 2.58750618e-01],\n",
              "         [ 1.05907597e-01],\n",
              "         [ 1.07966460e-01],\n",
              "         [-2.43702337e-01],\n",
              "         [ 2.53138810e-01],\n",
              "         [ 4.39313531e-01],\n",
              "         [-5.11620522e-01],\n",
              "         [ 5.86678982e-01],\n",
              "         [-4.67740506e-01],\n",
              "         [ 5.11151493e-01],\n",
              "         [-2.35821918e-01],\n",
              "         [ 5.93443960e-03],\n",
              "         [ 3.16867232e-01],\n",
              "         [-2.62060136e-01],\n",
              "         [-1.79301143e-01],\n",
              "         [-4.47041035e-01],\n",
              "         [-3.87591496e-02],\n",
              "         [-3.87591496e-02]],\n",
              "\n",
              "        [[-3.87591496e-02],\n",
              "         [-3.87591496e-02],\n",
              "         [-3.87591496e-02],\n",
              "         [-4.47877124e-02],\n",
              "         [-1.15006573e-01],\n",
              "         [-1.23979628e-01],\n",
              "         [-1.01292521e-01],\n",
              "         [-4.93789822e-01],\n",
              "         [ 1.24402925e-01],\n",
              "         [-2.99369216e-01],\n",
              "         [-7.32110441e-01],\n",
              "         [ 8.23793858e-02],\n",
              "         [-1.56401813e-01],\n",
              "         [-4.08449739e-01],\n",
              "         [-5.58564365e-01],\n",
              "         [ 9.62729305e-02],\n",
              "         [-7.93674588e-01],\n",
              "         [-1.54762101e+00],\n",
              "         [-1.47713113e+00],\n",
              "         [-2.77639270e-01],\n",
              "         [ 2.69666553e-01],\n",
              "         [ 1.81229874e-01],\n",
              "         [-1.28415596e+00],\n",
              "         [ 1.03159654e+00],\n",
              "         [ 4.76068676e-01],\n",
              "         [-2.92827766e-02],\n",
              "         [-3.87591943e-02],\n",
              "         [-3.87591943e-02]],\n",
              "\n",
              "        [[-3.87591943e-02],\n",
              "         [-3.87591943e-02],\n",
              "         [-3.87591943e-02],\n",
              "         [ 3.37338634e-02],\n",
              "         [-8.86214226e-02],\n",
              "         [ 1.48213476e-01],\n",
              "         [-5.44305801e-01],\n",
              "         [-5.27180672e-01],\n",
              "         [-2.31559888e-01],\n",
              "         [-3.13646913e-01],\n",
              "         [-5.82649410e-01],\n",
              "         [ 4.03215885e-01],\n",
              "         [-8.55075270e-02],\n",
              "         [-6.45003021e-01],\n",
              "         [-8.65785003e-01],\n",
              "         [-6.73228502e-01],\n",
              "         [ 2.09106946e+00],\n",
              "         [ 1.94705164e+00],\n",
              "         [ 3.06161833e+00],\n",
              "         [ 2.67131299e-01],\n",
              "         [-1.30190337e+00],\n",
              "         [-1.00552869e+00],\n",
              "         [-8.49572122e-01],\n",
              "         [-1.49201676e-01],\n",
              "         [ 1.71786010e-01],\n",
              "         [ 1.28261507e-01],\n",
              "         [-3.87591496e-02],\n",
              "         [-3.87591496e-02]],\n",
              "\n",
              "        [[-3.87591496e-02],\n",
              "         [-3.87591496e-02],\n",
              "         [-3.87591496e-02],\n",
              "         [-4.85536426e-01],\n",
              "         [-4.45724934e-01],\n",
              "         [-7.14200675e-01],\n",
              "         [-2.39630610e-01],\n",
              "         [ 1.25045657e-01],\n",
              "         [-5.18012524e-01],\n",
              "         [-6.66058481e-01],\n",
              "         [ 1.10866082e+00],\n",
              "         [-1.46818316e+00],\n",
              "         [ 3.07098001e-01],\n",
              "         [ 6.97201014e-01],\n",
              "         [ 1.62221694e+00],\n",
              "         [ 1.00992250e+00],\n",
              "         [-2.78915882e-01],\n",
              "         [-6.84521377e-01],\n",
              "         [-1.48237133e+00],\n",
              "         [ 8.49754989e-01],\n",
              "         [ 1.19731987e+00],\n",
              "         [-2.39716038e-01],\n",
              "         [ 5.92334569e-01],\n",
              "         [-1.60620987e-01],\n",
              "         [-4.51760828e-01],\n",
              "         [ 4.06462848e-02],\n",
              "         [-3.87591496e-02],\n",
              "         [-3.87591496e-02]],\n",
              "\n",
              "        [[-3.87591496e-02],\n",
              "         [ 3.09678376e-01],\n",
              "         [-1.94070235e-01],\n",
              "         [-2.06767961e-01],\n",
              "         [-5.54729939e-01],\n",
              "         [ 5.61604165e-02],\n",
              "         [-2.32993796e-01],\n",
              "         [ 4.30798382e-01],\n",
              "         [-1.77491784e-01],\n",
              "         [-1.08443987e+00],\n",
              "         [-4.59451646e-01],\n",
              "         [ 5.91608047e-01],\n",
              "         [ 5.49251258e-01],\n",
              "         [ 7.18076229e-01],\n",
              "         [ 9.30480808e-02],\n",
              "         [-4.60886419e-01],\n",
              "         [-4.93669242e-01],\n",
              "         [ 1.76657379e+00],\n",
              "         [ 1.15059900e+00],\n",
              "         [ 8.16080332e-01],\n",
              "         [ 9.06373680e-01],\n",
              "         [-1.46733999e-01],\n",
              "         [-1.21582337e-02],\n",
              "         [ 1.18850768e+00],\n",
              "         [-5.90888917e-01],\n",
              "         [-1.54466003e-01],\n",
              "         [-3.87591496e-02],\n",
              "         [-3.87591496e-02]],\n",
              "\n",
              "        [[-3.87591496e-02],\n",
              "         [ 1.44479610e-03],\n",
              "         [-4.66565304e-02],\n",
              "         [ 1.99425459e-01],\n",
              "         [-1.75331645e-02],\n",
              "         [-3.88769239e-01],\n",
              "         [-2.98862457e-02],\n",
              "         [ 6.50911689e-01],\n",
              "         [-3.71498048e-01],\n",
              "         [ 1.76064730e-01],\n",
              "         [-1.00103688e+00],\n",
              "         [ 3.07860702e-01],\n",
              "         [ 1.01922655e+00],\n",
              "         [-1.37924194e+00],\n",
              "         [-1.01441550e+00],\n",
              "         [-4.90004212e-01],\n",
              "         [-1.55065334e+00],\n",
              "         [-2.61402279e-01],\n",
              "         [ 3.41892362e-01],\n",
              "         [-5.21180153e-01],\n",
              "         [ 1.24063337e+00],\n",
              "         [ 1.63396573e+00],\n",
              "         [ 1.00721037e+00],\n",
              "         [ 8.09812307e-01],\n",
              "         [-1.15777716e-01],\n",
              "         [-3.87591496e-02],\n",
              "         [-3.87591496e-02],\n",
              "         [-3.87591496e-02]],\n",
              "\n",
              "        [[-3.87591496e-02],\n",
              "         [-3.87591496e-02],\n",
              "         [-3.87591496e-02],\n",
              "         [ 1.03461735e-01],\n",
              "         [ 9.73628908e-02],\n",
              "         [ 1.60021409e-01],\n",
              "         [-1.21510029e+00],\n",
              "         [-7.27324724e-01],\n",
              "         [ 8.13200921e-02],\n",
              "         [ 1.62455156e-01],\n",
              "         [-2.28192377e+00],\n",
              "         [ 1.33518088e+00],\n",
              "         [ 9.11565065e-01],\n",
              "         [-2.99702168e-01],\n",
              "         [-1.40848792e+00],\n",
              "         [ 2.52646077e-02],\n",
              "         [-6.37429178e-01],\n",
              "         [ 5.73379099e-01],\n",
              "         [ 7.76871622e-01],\n",
              "         [ 1.21376216e+00],\n",
              "         [ 1.61849380e+00],\n",
              "         [-1.24465895e+00],\n",
              "         [-7.15923682e-02],\n",
              "         [-9.22345400e-01],\n",
              "         [-1.37647754e-02],\n",
              "         [-3.87591496e-02],\n",
              "         [-3.87591496e-02],\n",
              "         [-3.87591496e-02]],\n",
              "\n",
              "        [[-3.87591496e-02],\n",
              "         [-3.87591496e-02],\n",
              "         [-3.87591496e-02],\n",
              "         [ 1.49512306e-01],\n",
              "         [ 5.33516765e-01],\n",
              "         [-5.92248082e-01],\n",
              "         [-8.30344141e-01],\n",
              "         [-4.94601548e-01],\n",
              "         [-5.33053517e-01],\n",
              "         [ 9.09684226e-02],\n",
              "         [-9.75031435e-01],\n",
              "         [ 9.01403308e-01],\n",
              "         [ 1.11984611e+00],\n",
              "         [ 4.55072314e-01],\n",
              "         [ 2.06168389e+00],\n",
              "         [ 8.77798200e-01],\n",
              "         [ 1.22125626e+00],\n",
              "         [ 4.54620391e-01],\n",
              "         [-1.12932865e-02],\n",
              "         [-6.05618596e-01],\n",
              "         [-1.05537844e+00],\n",
              "         [ 8.46734762e-01],\n",
              "         [-2.51500547e-01],\n",
              "         [ 2.91037112e-02],\n",
              "         [ 1.23166010e-01],\n",
              "         [-3.87591496e-02],\n",
              "         [-3.87591496e-02],\n",
              "         [-3.87591496e-02]],\n",
              "\n",
              "        [[-3.87591496e-02],\n",
              "         [-3.87591496e-02],\n",
              "         [-3.87591496e-02],\n",
              "         [ 2.48523012e-01],\n",
              "         [ 7.35996723e-01],\n",
              "         [-1.09534407e+00],\n",
              "         [ 4.72604901e-01],\n",
              "         [-1.54795349e+00],\n",
              "         [-1.19824147e+00],\n",
              "         [ 7.83494174e-01],\n",
              "         [-1.01975048e+00],\n",
              "         [-1.76507330e+00],\n",
              "         [ 1.48157203e+00],\n",
              "         [ 2.39576173e+00],\n",
              "         [ 1.01996446e+00],\n",
              "         [ 1.42812550e+00],\n",
              "         [-3.51348370e-01],\n",
              "         [-6.83476925e-02],\n",
              "         [ 1.65974939e+00],\n",
              "         [ 1.73304319e+00],\n",
              "         [-3.24280620e-01],\n",
              "         [ 3.18936169e-01],\n",
              "         [-3.41992646e-01],\n",
              "         [ 2.23713338e-01],\n",
              "         [-3.53129953e-02],\n",
              "         [ 3.47576439e-02],\n",
              "         [-3.87591906e-02],\n",
              "         [-3.87591906e-02]],\n",
              "\n",
              "        [[-3.87592167e-02],\n",
              "         [-3.87592167e-02],\n",
              "         [-3.87592167e-02],\n",
              "         [ 4.89872396e-01],\n",
              "         [ 3.67336720e-02],\n",
              "         [-1.26708165e-01],\n",
              "         [-1.04598038e-01],\n",
              "         [ 7.82937631e-02],\n",
              "         [ 4.38058078e-01],\n",
              "         [ 4.79453653e-01],\n",
              "         [ 2.05408819e-02],\n",
              "         [ 2.60726601e-01],\n",
              "         [-1.14788723e+00],\n",
              "         [-8.45582724e-01],\n",
              "         [-1.16302049e+00],\n",
              "         [-1.09307635e+00],\n",
              "         [ 3.54976565e-01],\n",
              "         [ 8.47036898e-01],\n",
              "         [ 1.28643960e-01],\n",
              "         [-3.59613508e-01],\n",
              "         [-6.92329466e-01],\n",
              "         [ 6.56985998e-01],\n",
              "         [ 3.42491776e-01],\n",
              "         [ 1.50009990e-01],\n",
              "         [ 3.15813541e-01],\n",
              "         [ 8.11608583e-02],\n",
              "         [-4.55660820e-02],\n",
              "         [-3.87591496e-02]],\n",
              "\n",
              "        [[-3.87591496e-02],\n",
              "         [-3.87591496e-02],\n",
              "         [-3.87591496e-02],\n",
              "         [-1.62301660e-01],\n",
              "         [-3.25763792e-01],\n",
              "         [ 1.37386486e-01],\n",
              "         [ 5.90822875e-01],\n",
              "         [-3.30802977e-01],\n",
              "         [-8.18646699e-02],\n",
              "         [-4.35908288e-01],\n",
              "         [-2.96176523e-01],\n",
              "         [ 1.73883423e-01],\n",
              "         [-7.90541530e-01],\n",
              "         [ 8.41276273e-02],\n",
              "         [-2.59667724e-01],\n",
              "         [ 5.60144067e-01],\n",
              "         [ 1.45852864e+00],\n",
              "         [ 9.21764374e-01],\n",
              "         [-7.34213769e-01],\n",
              "         [-2.42267534e-01],\n",
              "         [ 4.21196997e-01],\n",
              "         [-1.74268097e-01],\n",
              "         [ 2.26969540e-01],\n",
              "         [ 3.07733268e-01],\n",
              "         [ 5.91769338e-01],\n",
              "         [ 3.07163119e-01],\n",
              "         [-1.52906805e-01],\n",
              "         [-3.87591496e-02]],\n",
              "\n",
              "        [[-3.87591496e-02],\n",
              "         [-3.87591496e-02],\n",
              "         [-3.87591496e-02],\n",
              "         [-4.12549078e-01],\n",
              "         [-5.67527711e-01],\n",
              "         [-6.35357499e-01],\n",
              "         [ 8.48438144e-02],\n",
              "         [-1.44123882e-01],\n",
              "         [ 7.18971938e-02],\n",
              "         [-7.55308509e-01],\n",
              "         [-4.48557049e-01],\n",
              "         [-1.98607177e-01],\n",
              "         [-4.91351672e-02],\n",
              "         [-6.90604031e-01],\n",
              "         [ 4.14294094e-01],\n",
              "         [ 1.60655245e-01],\n",
              "         [ 1.42575562e+00],\n",
              "         [-1.08056450e+00],\n",
              "         [ 4.00233269e-01],\n",
              "         [ 2.15663567e-01],\n",
              "         [ 3.22497368e-01],\n",
              "         [-1.93160921e-01],\n",
              "         [ 7.49683976e-01],\n",
              "         [ 6.55620337e-01],\n",
              "         [-1.30931064e-01],\n",
              "         [-5.08799672e-01],\n",
              "         [-9.68793035e-02],\n",
              "         [-3.87591496e-02]],\n",
              "\n",
              "        [[-3.87591496e-02],\n",
              "         [-3.87591496e-02],\n",
              "         [-3.87591496e-02],\n",
              "         [-1.19274318e-01],\n",
              "         [-3.94758940e-01],\n",
              "         [-5.09540677e-01],\n",
              "         [-2.99193770e-01],\n",
              "         [-1.27233285e-02],\n",
              "         [ 2.88779974e-01],\n",
              "         [-5.63708842e-01],\n",
              "         [-9.90574583e-02],\n",
              "         [ 7.80294091e-02],\n",
              "         [-6.40026331e-01],\n",
              "         [-1.58386195e+00],\n",
              "         [ 1.17441523e+00],\n",
              "         [-9.32343975e-02],\n",
              "         [-1.01555884e-01],\n",
              "         [-9.98657197e-02],\n",
              "         [-5.82804561e-01],\n",
              "         [ 4.56685960e-01],\n",
              "         [-5.85779846e-01],\n",
              "         [ 6.19083643e-01],\n",
              "         [ 1.95556819e-01],\n",
              "         [-1.33847361e-02],\n",
              "         [-6.02764249e-01],\n",
              "         [-2.02298388e-01],\n",
              "         [-3.87591496e-02],\n",
              "         [-3.87591496e-02]],\n",
              "\n",
              "        [[-3.87591496e-02],\n",
              "         [-3.87591496e-02],\n",
              "         [-3.87591496e-02],\n",
              "         [ 3.13778609e-01],\n",
              "         [-1.92107201e-01],\n",
              "         [ 2.70582944e-01],\n",
              "         [-3.86168540e-01],\n",
              "         [-4.95404378e-02],\n",
              "         [-2.63698071e-01],\n",
              "         [-5.46519041e-01],\n",
              "         [-2.09431261e-01],\n",
              "         [ 2.49188155e-01],\n",
              "         [-9.99518037e-01],\n",
              "         [ 2.28183651e+00],\n",
              "         [-2.02459451e-02],\n",
              "         [ 3.81907612e-01],\n",
              "         [-9.56978321e-01],\n",
              "         [-1.64669696e-02],\n",
              "         [-2.81350315e-01],\n",
              "         [ 3.34974080e-01],\n",
              "         [-1.36772901e-01],\n",
              "         [-3.68350416e-01],\n",
              "         [-1.81127578e-01],\n",
              "         [-2.45364800e-01],\n",
              "         [ 8.78092647e-02],\n",
              "         [ 5.03699720e-01],\n",
              "         [-3.87591496e-02],\n",
              "         [-3.87591496e-02]],\n",
              "\n",
              "        [[-3.87591496e-02],\n",
              "         [-3.87591496e-02],\n",
              "         [ 9.29069892e-03],\n",
              "         [-9.19579342e-02],\n",
              "         [-3.61283600e-01],\n",
              "         [ 3.47397149e-01],\n",
              "         [ 9.36646700e-01],\n",
              "         [-2.91945249e-01],\n",
              "         [-1.20892024e+00],\n",
              "         [ 2.75775433e-01],\n",
              "         [-3.65873426e-01],\n",
              "         [-1.30726814e+00],\n",
              "         [ 1.03097332e+00],\n",
              "         [-3.32368433e-01],\n",
              "         [ 2.66274452e-01],\n",
              "         [-1.59689832e+00],\n",
              "         [ 5.35380185e-01],\n",
              "         [-2.04704434e-01],\n",
              "         [ 5.41185439e-02],\n",
              "         [ 3.22287828e-01],\n",
              "         [ 4.66421247e-02],\n",
              "         [ 5.69436312e-01],\n",
              "         [ 3.11808407e-01],\n",
              "         [-3.70263100e-01],\n",
              "         [-1.27848238e-04],\n",
              "         [ 7.43689463e-02],\n",
              "         [-3.87591496e-02],\n",
              "         [-3.87591496e-02]],\n",
              "\n",
              "        [[-3.87591496e-02],\n",
              "         [-3.87591496e-02],\n",
              "         [ 1.57553300e-01],\n",
              "         [-1.99844986e-02],\n",
              "         [ 1.72673553e-01],\n",
              "         [-1.87270984e-01],\n",
              "         [-7.38391817e-01],\n",
              "         [-5.32481611e-01],\n",
              "         [ 1.74474403e-01],\n",
              "         [ 9.11873356e-02],\n",
              "         [-1.16464388e+00],\n",
              "         [ 1.70782232e+00],\n",
              "         [-6.98548436e-01],\n",
              "         [ 1.26092350e+00],\n",
              "         [-6.11845493e-01],\n",
              "         [ 2.79031903e-01],\n",
              "         [-1.08539149e-01],\n",
              "         [ 3.79041135e-02],\n",
              "         [-3.57007682e-01],\n",
              "         [-2.52220072e-02],\n",
              "         [ 3.04845929e-01],\n",
              "         [ 1.15718506e-01],\n",
              "         [ 3.96992862e-01],\n",
              "         [ 1.66193753e-01],\n",
              "         [ 2.75739938e-01],\n",
              "         [ 1.84933275e-01],\n",
              "         [-3.87591943e-02],\n",
              "         [-3.87591943e-02]],\n",
              "\n",
              "        [[-3.87591943e-02],\n",
              "         [-3.87591943e-02],\n",
              "         [ 5.05922019e-01],\n",
              "         [-2.74015870e-02],\n",
              "         [-1.08967495e+00],\n",
              "         [-7.64741480e-01],\n",
              "         [-4.72011149e-01],\n",
              "         [-8.33315730e-01],\n",
              "         [ 3.60332549e-01],\n",
              "         [-5.35421669e-01],\n",
              "         [-2.04595432e-01],\n",
              "         [ 9.06395733e-01],\n",
              "         [ 1.36845171e+00],\n",
              "         [-5.07383764e-01],\n",
              "         [-5.77723742e-01],\n",
              "         [-2.49256343e-01],\n",
              "         [-3.14673275e-01],\n",
              "         [-5.52391708e-02],\n",
              "         [ 8.01386237e-02],\n",
              "         [-4.24958080e-01],\n",
              "         [-2.49017805e-01],\n",
              "         [ 1.79700822e-01],\n",
              "         [-3.50844145e-01],\n",
              "         [ 2.04900295e-01],\n",
              "         [ 5.39505959e-01],\n",
              "         [ 1.37428299e-01],\n",
              "         [-2.03646272e-01],\n",
              "         [-3.87591496e-02]],\n",
              "\n",
              "        [[-3.87591496e-02],\n",
              "         [-3.87591496e-02],\n",
              "         [ 1.45323411e-01],\n",
              "         [-1.36182740e-01],\n",
              "         [-2.46260822e-01],\n",
              "         [-4.22973871e-01],\n",
              "         [ 9.09657553e-02],\n",
              "         [ 7.36002147e-01],\n",
              "         [-1.31830484e-01],\n",
              "         [-1.86099112e+00],\n",
              "         [ 8.17233145e-01],\n",
              "         [-1.52662024e-01],\n",
              "         [-1.23021770e+00],\n",
              "         [-2.04390973e-01],\n",
              "         [ 1.76067233e-01],\n",
              "         [-5.59952080e-01],\n",
              "         [ 2.68583655e-01],\n",
              "         [-1.00921601e-01],\n",
              "         [ 7.89448097e-02],\n",
              "         [ 5.56483604e-02],\n",
              "         [ 1.11277774e-01],\n",
              "         [-2.43073881e-01],\n",
              "         [-4.63079661e-02],\n",
              "         [ 1.68283582e-01],\n",
              "         [ 1.19938672e-01],\n",
              "         [-3.87591496e-02],\n",
              "         [-3.87591496e-02],\n",
              "         [-3.87591496e-02]],\n",
              "\n",
              "        [[-3.87591496e-02],\n",
              "         [-3.87591496e-02],\n",
              "         [-3.87591496e-02],\n",
              "         [-1.40387401e-01],\n",
              "         [-2.12804526e-01],\n",
              "         [-2.67683476e-01],\n",
              "         [ 3.44401240e-01],\n",
              "         [-8.88229668e-01],\n",
              "         [-2.17628384e+00],\n",
              "         [ 2.38259816e+00],\n",
              "         [ 4.50612783e-01],\n",
              "         [ 1.60903782e-02],\n",
              "         [-8.88990343e-01],\n",
              "         [-7.13715181e-02],\n",
              "         [-8.07883143e-01],\n",
              "         [ 5.98221600e-01],\n",
              "         [ 7.38552213e-02],\n",
              "         [ 3.67235392e-03],\n",
              "         [-6.62755072e-02],\n",
              "         [ 2.14004502e-01],\n",
              "         [-3.94185558e-02],\n",
              "         [-2.88198572e-02],\n",
              "         [-1.74758658e-02],\n",
              "         [-6.74547404e-02],\n",
              "         [-1.74787194e-02],\n",
              "         [-3.87591496e-02],\n",
              "         [-3.87591496e-02],\n",
              "         [-3.87591496e-02]],\n",
              "\n",
              "        [[-3.87591496e-02],\n",
              "         [-3.87591496e-02],\n",
              "         [-3.87591496e-02],\n",
              "         [-4.54597473e-02],\n",
              "         [-1.32214367e-01],\n",
              "         [-3.25892240e-01],\n",
              "         [ 4.80881870e-01],\n",
              "         [-2.25423598e+00],\n",
              "         [ 3.21686506e+00],\n",
              "         [ 5.18326581e-01],\n",
              "         [ 1.16585338e+00],\n",
              "         [-1.00037873e+00],\n",
              "         [ 6.19567752e-01],\n",
              "         [ 2.45269060e-01],\n",
              "         [-5.42647094e-02],\n",
              "         [-2.10651219e-01],\n",
              "         [ 8.94009471e-02],\n",
              "         [ 2.52109289e-01],\n",
              "         [-4.54899669e-01],\n",
              "         [ 4.06640440e-01],\n",
              "         [ 3.03193927e-04],\n",
              "         [-1.80129185e-02],\n",
              "         [ 7.12809786e-02],\n",
              "         [-3.04337516e-02],\n",
              "         [-3.87591496e-02],\n",
              "         [-3.87591496e-02],\n",
              "         [-3.87591496e-02],\n",
              "         [-3.87591496e-02]],\n",
              "\n",
              "        [[-3.87591496e-02],\n",
              "         [-3.87591496e-02],\n",
              "         [-3.87591496e-02],\n",
              "         [-3.87591496e-02],\n",
              "         [-3.87591496e-02],\n",
              "         [-8.19779709e-02],\n",
              "         [-3.97029281e-01],\n",
              "         [ 6.76263285e+00],\n",
              "         [ 4.06075621e+00],\n",
              "         [ 8.99523050e-02],\n",
              "         [-2.35743260e+00],\n",
              "         [-1.18884361e+00],\n",
              "         [-3.19143951e-01],\n",
              "         [ 2.83917278e-01],\n",
              "         [-5.41958570e-01],\n",
              "         [ 2.75847137e-01],\n",
              "         [ 7.25514829e-01],\n",
              "         [ 7.16993734e-02],\n",
              "         [-4.57697153e-01],\n",
              "         [ 7.41955876e-01],\n",
              "         [ 3.75355333e-01],\n",
              "         [-3.87591496e-02],\n",
              "         [-3.87591496e-02],\n",
              "         [-3.87591496e-02],\n",
              "         [-3.87591496e-02],\n",
              "         [-3.87591496e-02],\n",
              "         [-3.87591496e-02],\n",
              "         [-3.87591496e-02]],\n",
              "\n",
              "        [[-3.87591496e-02],\n",
              "         [-3.87591496e-02],\n",
              "         [-3.87591496e-02],\n",
              "         [-3.87591496e-02],\n",
              "         [-3.87591496e-02],\n",
              "         [-1.07567525e+00],\n",
              "         [ 6.42234612e+00],\n",
              "         [ 3.17986393e+00],\n",
              "         [-8.26276124e-01],\n",
              "         [-1.62727332e+00],\n",
              "         [ 2.69893080e-01],\n",
              "         [ 5.76345682e-01],\n",
              "         [-1.14774740e+00],\n",
              "         [-9.53158021e-01],\n",
              "         [-8.10149014e-01],\n",
              "         [ 1.14453755e-01],\n",
              "         [-7.72693753e-01],\n",
              "         [ 1.74944445e-01],\n",
              "         [ 3.69339585e-02],\n",
              "         [ 2.52390593e-01],\n",
              "         [-3.87591496e-02],\n",
              "         [-3.87591496e-02],\n",
              "         [-3.87591496e-02],\n",
              "         [-3.87591496e-02],\n",
              "         [-3.87591496e-02],\n",
              "         [-3.87591496e-02],\n",
              "         [-3.87591496e-02],\n",
              "         [-3.87591496e-02]],\n",
              "\n",
              "        [[-3.87591496e-02],\n",
              "         [-3.87591496e-02],\n",
              "         [-3.87591496e-02],\n",
              "         [-3.87591496e-02],\n",
              "         [-3.87591496e-02],\n",
              "         [-1.94928610e+00],\n",
              "         [-2.86680269e+00],\n",
              "         [-2.38336253e+00],\n",
              "         [-1.87203169e+00],\n",
              "         [-3.87591496e-02],\n",
              "         [-3.87591496e-02],\n",
              "         [-3.87591496e-02],\n",
              "         [-3.87591496e-02],\n",
              "         [-3.87591496e-02],\n",
              "         [-3.87591496e-02],\n",
              "         [ 5.35432994e-02],\n",
              "         [ 1.23625718e-01],\n",
              "         [ 3.87240313e-02],\n",
              "         [-5.70055842e-02],\n",
              "         [-4.77601886e-02],\n",
              "         [-3.87591906e-02],\n",
              "         [-3.87591906e-02],\n",
              "         [-3.87591906e-02],\n",
              "         [-3.87591906e-02],\n",
              "         [-3.87591906e-02],\n",
              "         [-3.87591906e-02],\n",
              "         [-3.87591906e-02],\n",
              "         [-3.87591906e-02]]]], dtype=float32)"
            ]
          },
          "metadata": {},
          "execution_count": 28
        }
      ]
    },
    {
      "cell_type": "code",
      "source": [
        "t[1]"
      ],
      "metadata": {
        "id": "yINQDU6kta9L",
        "outputId": "1fad6099-a7ba-40a8-e64b-b2b27997c5dc",
        "colab": {
          "base_uri": "https://localhost:8080/"
        }
      },
      "execution_count": null,
      "outputs": [
        {
          "output_type": "execute_result",
          "data": {
            "text/plain": [
              "array([9], dtype=uint8)"
            ]
          },
          "metadata": {},
          "execution_count": 41
        }
      ]
    },
    {
      "cell_type": "code",
      "source": [],
      "metadata": {
        "id": "hoVFbXf1ta1s"
      },
      "execution_count": null,
      "outputs": []
    },
    {
      "cell_type": "code",
      "source": [
        "plt.imshow(t[0].reshape(28,28))"
      ],
      "metadata": {
        "id": "30tmsPqa1R_3",
        "outputId": "f812e635-e072-40c6-da9f-691177ef88b8",
        "colab": {
          "base_uri": "https://localhost:8080/",
          "height": 282
        }
      },
      "execution_count": null,
      "outputs": [
        {
          "output_type": "execute_result",
          "data": {
            "text/plain": [
              "<matplotlib.image.AxesImage at 0x7f6d5570bb20>"
            ]
          },
          "metadata": {},
          "execution_count": 29
        },
        {
          "output_type": "display_data",
          "data": {
            "text/plain": [
              "<Figure size 432x288 with 1 Axes>"
            ],
            "image/png": "[encoded data removed]"
          },
          "metadata": {
            "needs_background": "light"
          }
        }
      ]
    },
    {
      "cell_type": "code",
      "source": [
        "batch_gen_iterator = datagen.flow(\n",
        "                                   X_train,\n",
        "                                   y_train,\n",
        "                                   batch_size=2      # How many images to return at a time\n",
        "                                  )"
      ],
      "metadata": {
        "id": "JogQ6Nst1wdN"
      },
      "execution_count": null,
      "outputs": []
    },
    {
      "cell_type": "code",
      "source": [
        "t1=batch_gen_iterator.__next__()"
      ],
      "metadata": {
        "id": "DA5qcpp11wWE"
      },
      "execution_count": null,
      "outputs": []
    },
    {
      "cell_type": "code",
      "source": [
        "type(t1)"
      ],
      "metadata": {
        "id": "4UUwWz082c7x",
        "outputId": "774913d3-56a0-408d-e528-e09a408b8b44",
        "colab": {
          "base_uri": "https://localhost:8080/"
        }
      },
      "execution_count": null,
      "outputs": [
        {
          "output_type": "execute_result",
          "data": {
            "text/plain": [
              "tuple"
            ]
          },
          "metadata": {},
          "execution_count": 32
        }
      ]
    },
    {
      "cell_type": "code",
      "source": [
        "type(t1[0])"
      ],
      "metadata": {
        "id": "vjuHhENQ2wUS",
        "outputId": "ae256a5b-8b50-4363-f184-507526b53e37",
        "colab": {
          "base_uri": "https://localhost:8080/"
        }
      },
      "execution_count": null,
      "outputs": [
        {
          "output_type": "execute_result",
          "data": {
            "text/plain": [
              "numpy.ndarray"
            ]
          },
          "metadata": {},
          "execution_count": 33
        }
      ]
    },
    {
      "cell_type": "code",
      "source": [
        "t[0].shape"
      ],
      "metadata": {
        "id": "mHwQ34bU2wNv",
        "outputId": "7fcc52e5-8790-4395-ccdf-a5cbdaa6e2ca",
        "colab": {
          "base_uri": "https://localhost:8080/"
        }
      },
      "execution_count": null,
      "outputs": [
        {
          "output_type": "execute_result",
          "data": {
            "text/plain": [
              "(1, 28, 28, 1)"
            ]
          },
          "metadata": {},
          "execution_count": 34
        }
      ]
    },
    {
      "cell_type": "code",
      "source": [
        "t1[1]"
      ],
      "metadata": {
        "id": "HdLSalektPhK",
        "outputId": "176c2c52-8e99-4683-c58a-67c1e34dc172",
        "colab": {
          "base_uri": "https://localhost:8080/"
        }
      },
      "execution_count": null,
      "outputs": [
        {
          "output_type": "execute_result",
          "data": {
            "text/plain": [
              "array([7, 1], dtype=uint8)"
            ]
          },
          "metadata": {},
          "execution_count": 38
        }
      ]
    },
    {
      "cell_type": "code",
      "source": [
        "plt.imshow(t1[0][0].reshape(28,28))"
      ],
      "metadata": {
        "id": "bPUUbXt82KZS",
        "outputId": "d9d9d38f-bea7-4dc8-dd50-cdb3970ea1ba",
        "colab": {
          "base_uri": "https://localhost:8080/",
          "height": 282
        }
      },
      "execution_count": null,
      "outputs": [
        {
          "output_type": "execute_result",
          "data": {
            "text/plain": [
              "<matplotlib.image.AxesImage at 0x7f6d51398b50>"
            ]
          },
          "metadata": {},
          "execution_count": 40
        },
        {
          "output_type": "display_data",
          "data": {
            "text/plain": [
              "<Figure size 432x288 with 1 Axes>"
            ],
            "image/png": "[encoded data removed]"
          },
          "metadata": {
            "needs_background": "light"
          }
        }
      ]
    },
    {
      "cell_type": "code",
      "source": [
        "for i in batch_gen_iterator:\n",
        "  print(i)\n",
        "  plt.imshow(i[0][0].reshape(28,28))\n",
        "  break;"
      ],
      "metadata": {
        "id": "GpQzfEfmtiUd",
        "outputId": "f55ca599-fdd4-4d76-bda1-4330a1adaa3f",
        "colab": {
          "base_uri": "https://localhost:8080/",
          "height": 1000
        }
      },
      "execution_count": null,
      "outputs": [
        {
          "output_type": "stream",
          "name": "stdout",
          "text": [
            "(array([[[[-0.0191175 ],\n",
            "         [-0.0191175 ],\n",
            "         [-0.0191175 ],\n",
            "         ...,\n",
            "         [-0.01911746],\n",
            "         [-0.01911746],\n",
            "         [-0.01911746]],\n",
            "\n",
            "        [[-0.01911746],\n",
            "         [-0.01911746],\n",
            "         [-0.01911746],\n",
            "         ...,\n",
            "         [-0.01911746],\n",
            "         [-0.01911746],\n",
            "         [-0.01911746]],\n",
            "\n",
            "        [[-0.01911746],\n",
            "         [-0.01911746],\n",
            "         [-0.01911746],\n",
            "         ...,\n",
            "         [-0.01911746],\n",
            "         [-0.01911746],\n",
            "         [-0.01911746]],\n",
            "\n",
            "        ...,\n",
            "\n",
            "        [[-0.01911746],\n",
            "         [-0.01911746],\n",
            "         [-0.01911746],\n",
            "         ...,\n",
            "         [-0.01911746],\n",
            "         [-0.01911746],\n",
            "         [-0.01911746]],\n",
            "\n",
            "        [[-0.01911746],\n",
            "         [-0.01911746],\n",
            "         [-0.01911746],\n",
            "         ...,\n",
            "         [-0.01911746],\n",
            "         [-0.01911746],\n",
            "         [-0.01911746]],\n",
            "\n",
            "        [[-0.01911746],\n",
            "         [-0.01911746],\n",
            "         [-0.01911746],\n",
            "         ...,\n",
            "         [-0.01911756],\n",
            "         [-0.01911756],\n",
            "         [-0.01911756]]],\n",
            "\n",
            "\n",
            "       [[[ 0.03429752],\n",
            "         [ 0.03429752],\n",
            "         [ 0.03429752],\n",
            "         ...,\n",
            "         [ 0.03429756],\n",
            "         [ 0.03429756],\n",
            "         [ 0.03429756]],\n",
            "\n",
            "        [[ 0.03429756],\n",
            "         [ 0.03429756],\n",
            "         [ 0.03429756],\n",
            "         ...,\n",
            "         [ 0.03429756],\n",
            "         [ 0.03429756],\n",
            "         [ 0.03429756]],\n",
            "\n",
            "        [[ 0.03429756],\n",
            "         [ 0.03429756],\n",
            "         [ 0.03429756],\n",
            "         ...,\n",
            "         [ 0.03429756],\n",
            "         [ 0.03429756],\n",
            "         [ 0.03429756]],\n",
            "\n",
            "        ...,\n",
            "\n",
            "        [[ 0.03429756],\n",
            "         [ 0.03429756],\n",
            "         [ 0.03429756],\n",
            "         ...,\n",
            "         [ 0.03429756],\n",
            "         [ 0.03429756],\n",
            "         [ 0.03429756]],\n",
            "\n",
            "        [[ 0.03429756],\n",
            "         [ 0.03429756],\n",
            "         [ 0.03429756],\n",
            "         ...,\n",
            "         [ 0.03429756],\n",
            "         [ 0.03429756],\n",
            "         [ 0.03429756]],\n",
            "\n",
            "        [[ 0.03429756],\n",
            "         [ 0.03429756],\n",
            "         [ 0.03429756],\n",
            "         ...,\n",
            "         [ 0.03429753],\n",
            "         [ 0.03429753],\n",
            "         [ 0.03429753]]]], dtype=float32), array([2, 1], dtype=uint8))\n"
          ]
        },
        {
          "output_type": "execute_result",
          "data": {
            "text/plain": [
              "<matplotlib.image.AxesImage at 0x7f6d4f0f2370>"
            ]
          },
          "metadata": {},
          "execution_count": 43
        },
        {
          "output_type": "display_data",
          "data": {
            "text/plain": [
              "<Figure size 432x288 with 1 Axes>"
            ],
            "image/png": "[encoded data removed]"
          },
          "metadata": {
            "needs_background": "light"
          }
        }
      ]
    },
    {
      "cell_type": "code",
      "source": [
        "batch_gen_iterator = datagen.flow(\n",
        "                                   X_train,\n",
        "                                   y_train,\n",
        "                                   batch_size=20      # How many images to return at a time\n",
        "                                  )"
      ],
      "metadata": {
        "id": "YIGkXdOB25as"
      },
      "execution_count": null,
      "outputs": []
    },
    {
      "cell_type": "code",
      "source": [
        "t=next(batch_gen_iterator)"
      ],
      "metadata": {
        "id": "iB6E0rUg5N6v"
      },
      "execution_count": null,
      "outputs": []
    },
    {
      "cell_type": "code",
      "source": [
        "type(t)"
      ],
      "metadata": {
        "id": "7SHO6sj25N3l",
        "outputId": "08f6c3da-fa49-483b-aa18-0547be961a18",
        "colab": {
          "base_uri": "https://localhost:8080/"
        }
      },
      "execution_count": null,
      "outputs": [
        {
          "output_type": "execute_result",
          "data": {
            "text/plain": [
              "tuple"
            ]
          },
          "metadata": {},
          "execution_count": 46
        }
      ]
    },
    {
      "cell_type": "code",
      "source": [
        "len(t)"
      ],
      "metadata": {
        "id": "MuMJ1LSy5N01",
        "outputId": "33567a3c-ff53-4b9a-a3f6-2e8e453b7073",
        "colab": {
          "base_uri": "https://localhost:8080/"
        }
      },
      "execution_count": null,
      "outputs": [
        {
          "output_type": "execute_result",
          "data": {
            "text/plain": [
              "2"
            ]
          },
          "metadata": {},
          "execution_count": 47
        }
      ]
    },
    {
      "cell_type": "code",
      "source": [
        "t[1]"
      ],
      "metadata": {
        "id": "5QM_-bF55Nye",
        "outputId": "88cb167a-715d-44bf-ff3f-39cfd5d733bd",
        "colab": {
          "base_uri": "https://localhost:8080/"
        }
      },
      "execution_count": null,
      "outputs": [
        {
          "output_type": "execute_result",
          "data": {
            "text/plain": [
              "array([6, 2, 2, 8, 4, 1, 1, 9, 2, 6, 1, 3, 7, 7, 4, 8, 9, 6, 1, 2],\n",
              "      dtype=uint8)"
            ]
          },
          "metadata": {},
          "execution_count": 48
        }
      ]
    },
    {
      "cell_type": "code",
      "source": [
        "t[0].shape"
      ],
      "metadata": {
        "id": "cDE3Qged5ahe",
        "outputId": "c88c7285-7a77-4d9e-8555-679c0c965c2d",
        "colab": {
          "base_uri": "https://localhost:8080/"
        }
      },
      "execution_count": null,
      "outputs": [
        {
          "output_type": "execute_result",
          "data": {
            "text/plain": [
              "(20, 28, 28, 1)"
            ]
          },
          "metadata": {},
          "execution_count": 49
        }
      ]
    },
    {
      "cell_type": "code",
      "source": [
        "for i in t[0]:\n",
        "  print(i.shape)\n",
        "  plt.imshow(i.reshape(28,28))"
      ],
      "metadata": {
        "id": "ctHXYCfc5ge0",
        "outputId": "4a4be38f-9614-42a1-b950-5e9b4d1facb1",
        "colab": {
          "base_uri": "https://localhost:8080/",
          "height": 629
        }
      },
      "execution_count": null,
      "outputs": [
        {
          "output_type": "stream",
          "name": "stdout",
          "text": [
            "(28, 28, 1)\n"
          ]
        },
        {
          "output_type": "execute_result",
          "data": {
            "text/plain": [
              "<matplotlib.image.AxesImage at 0x7f6d4f062340>"
            ]
          },
          "metadata": {},
          "execution_count": 51
        },
        {
          "output_type": "stream",
          "name": "stdout",
          "text": [
            "(28, 28, 1)\n"
          ]
        },
        {
          "output_type": "execute_result",
          "data": {
            "text/plain": [
              "<matplotlib.image.AxesImage at 0x7f6d4f062820>"
            ]
          },
          "metadata": {},
          "execution_count": 51
        },
        {
          "output_type": "stream",
          "name": "stdout",
          "text": [
            "(28, 28, 1)\n"
          ]
        },
        {
          "output_type": "execute_result",
          "data": {
            "text/plain": [
              "<matplotlib.image.AxesImage at 0x7f6d4f062700>"
            ]
          },
          "metadata": {},
          "execution_count": 51
        },
        {
          "output_type": "stream",
          "name": "stdout",
          "text": [
            "(28, 28, 1)\n"
          ]
        },
        {
          "output_type": "execute_result",
          "data": {
            "text/plain": [
              "<matplotlib.image.AxesImage at 0x7f6d4f062760>"
            ]
          },
          "metadata": {},
          "execution_count": 51
        },
        {
          "output_type": "stream",
          "name": "stdout",
          "text": [
            "(28, 28, 1)\n"
          ]
        },
        {
          "output_type": "execute_result",
          "data": {
            "text/plain": [
              "<matplotlib.image.AxesImage at 0x7f6d4f068130>"
            ]
          },
          "metadata": {},
          "execution_count": 51
        },
        {
          "output_type": "stream",
          "name": "stdout",
          "text": [
            "(28, 28, 1)\n"
          ]
        },
        {
          "output_type": "execute_result",
          "data": {
            "text/plain": [
              "<matplotlib.image.AxesImage at 0x7f6d4f068430>"
            ]
          },
          "metadata": {},
          "execution_count": 51
        },
        {
          "output_type": "stream",
          "name": "stdout",
          "text": [
            "(28, 28, 1)\n"
          ]
        },
        {
          "output_type": "execute_result",
          "data": {
            "text/plain": [
              "<matplotlib.image.AxesImage at 0x7f6d4f0687f0>"
            ]
          },
          "metadata": {},
          "execution_count": 51
        },
        {
          "output_type": "stream",
          "name": "stdout",
          "text": [
            "(28, 28, 1)\n"
          ]
        },
        {
          "output_type": "execute_result",
          "data": {
            "text/plain": [
              "<matplotlib.image.AxesImage at 0x7f6d4f068a60>"
            ]
          },
          "metadata": {},
          "execution_count": 51
        },
        {
          "output_type": "stream",
          "name": "stdout",
          "text": [
            "(28, 28, 1)\n"
          ]
        },
        {
          "output_type": "execute_result",
          "data": {
            "text/plain": [
              "<matplotlib.image.AxesImage at 0x7f6d4f068e20>"
            ]
          },
          "metadata": {},
          "execution_count": 51
        },
        {
          "output_type": "stream",
          "name": "stdout",
          "text": [
            "(28, 28, 1)\n"
          ]
        },
        {
          "output_type": "execute_result",
          "data": {
            "text/plain": [
              "<matplotlib.image.AxesImage at 0x7f6d4f070160>"
            ]
          },
          "metadata": {},
          "execution_count": 51
        },
        {
          "output_type": "stream",
          "name": "stdout",
          "text": [
            "(28, 28, 1)\n"
          ]
        },
        {
          "output_type": "execute_result",
          "data": {
            "text/plain": [
              "<matplotlib.image.AxesImage at 0x7f6d4f070460>"
            ]
          },
          "metadata": {},
          "execution_count": 51
        },
        {
          "output_type": "stream",
          "name": "stdout",
          "text": [
            "(28, 28, 1)\n"
          ]
        },
        {
          "output_type": "execute_result",
          "data": {
            "text/plain": [
              "<matplotlib.image.AxesImage at 0x7f6d4f070760>"
            ]
          },
          "metadata": {},
          "execution_count": 51
        },
        {
          "output_type": "stream",
          "name": "stdout",
          "text": [
            "(28, 28, 1)\n"
          ]
        },
        {
          "output_type": "execute_result",
          "data": {
            "text/plain": [
              "<matplotlib.image.AxesImage at 0x7f6d4f070a90>"
            ]
          },
          "metadata": {},
          "execution_count": 51
        },
        {
          "output_type": "stream",
          "name": "stdout",
          "text": [
            "(28, 28, 1)\n"
          ]
        },
        {
          "output_type": "execute_result",
          "data": {
            "text/plain": [
              "<matplotlib.image.AxesImage at 0x7f6d4f070d90>"
            ]
          },
          "metadata": {},
          "execution_count": 51
        },
        {
          "output_type": "stream",
          "name": "stdout",
          "text": [
            "(28, 28, 1)\n"
          ]
        },
        {
          "output_type": "execute_result",
          "data": {
            "text/plain": [
              "<matplotlib.image.AxesImage at 0x7f6d4f068d30>"
            ]
          },
          "metadata": {},
          "execution_count": 51
        },
        {
          "output_type": "stream",
          "name": "stdout",
          "text": [
            "(28, 28, 1)\n"
          ]
        },
        {
          "output_type": "execute_result",
          "data": {
            "text/plain": [
              "<matplotlib.image.AxesImage at 0x7f6d4f07b3d0>"
            ]
          },
          "metadata": {},
          "execution_count": 51
        },
        {
          "output_type": "stream",
          "name": "stdout",
          "text": [
            "(28, 28, 1)\n"
          ]
        },
        {
          "output_type": "execute_result",
          "data": {
            "text/plain": [
              "<matplotlib.image.AxesImage at 0x7f6d4f07b6d0>"
            ]
          },
          "metadata": {},
          "execution_count": 51
        },
        {
          "output_type": "stream",
          "name": "stdout",
          "text": [
            "(28, 28, 1)\n"
          ]
        },
        {
          "output_type": "execute_result",
          "data": {
            "text/plain": [
              "<matplotlib.image.AxesImage at 0x7f6d4f07b9d0>"
            ]
          },
          "metadata": {},
          "execution_count": 51
        },
        {
          "output_type": "stream",
          "name": "stdout",
          "text": [
            "(28, 28, 1)\n"
          ]
        },
        {
          "output_type": "execute_result",
          "data": {
            "text/plain": [
              "<matplotlib.image.AxesImage at 0x7f6d4f07bcd0>"
            ]
          },
          "metadata": {},
          "execution_count": 51
        },
        {
          "output_type": "stream",
          "name": "stdout",
          "text": [
            "(28, 28, 1)\n"
          ]
        },
        {
          "output_type": "execute_result",
          "data": {
            "text/plain": [
              "<matplotlib.image.AxesImage at 0x7f6d4f062af0>"
            ]
          },
          "metadata": {},
          "execution_count": 51
        },
        {
          "output_type": "display_data",
          "data": {
            "text/plain": [
              "<Figure size 432x288 with 1 Axes>"
            ],
            "image/png": "[encoded data removed]"
          },
          "metadata": {
            "needs_background": "light"
          }
        }
      ]
    },
    {
      "cell_type": "code",
      "source": [],
      "metadata": {
        "id": "mLi6dzDo5gcd"
      },
      "execution_count": null,
      "outputs": []
    },
    {
      "cell_type": "code",
      "source": [
        "x_batch,y_batch=next(batch_gen_iterator)"
      ],
      "metadata": {
        "id": "dV4Wt6IQ5gaC"
      },
      "execution_count": null,
      "outputs": []
    },
    {
      "cell_type": "code",
      "source": [
        "type(x_batch)"
      ],
      "metadata": {
        "id": "XSkkkrC1MCva",
        "outputId": "0ba386a7-e3ff-47ed-86a9-8f9cf06894aa",
        "colab": {
          "base_uri": "https://localhost:8080/"
        }
      },
      "execution_count": null,
      "outputs": [
        {
          "output_type": "execute_result",
          "data": {
            "text/plain": [
              "numpy.ndarray"
            ]
          },
          "metadata": {},
          "execution_count": 41
        }
      ]
    },
    {
      "cell_type": "code",
      "source": [
        "x_batch.shape"
      ],
      "metadata": {
        "id": "2sCNrnALMfko",
        "outputId": "8c065ea7-e652-438d-acd3-e28c79c61bdc",
        "colab": {
          "base_uri": "https://localhost:8080/"
        }
      },
      "execution_count": null,
      "outputs": [
        {
          "output_type": "execute_result",
          "data": {
            "text/plain": [
              "(1, 28, 28, 1)"
            ]
          },
          "metadata": {},
          "execution_count": 42
        }
      ]
    },
    {
      "cell_type": "code",
      "source": [
        "y_batch.shape"
      ],
      "metadata": {
        "id": "Pg-vu3F8Migd",
        "outputId": "9f23d557-a947-492e-eda3-7197620ed44d",
        "colab": {
          "base_uri": "https://localhost:8080/"
        }
      },
      "execution_count": null,
      "outputs": [
        {
          "output_type": "execute_result",
          "data": {
            "text/plain": [
              "(1,)"
            ]
          },
          "metadata": {},
          "execution_count": 43
        }
      ]
    },
    {
      "cell_type": "code",
      "source": [
        "y_batch"
      ],
      "metadata": {
        "id": "Wu3NV-eTMnMx",
        "outputId": "ae534aab-fe31-45f7-9c93-e70529b7c10c",
        "colab": {
          "base_uri": "https://localhost:8080/"
        }
      },
      "execution_count": null,
      "outputs": [
        {
          "output_type": "execute_result",
          "data": {
            "text/plain": [
              "array([6], dtype=uint8)"
            ]
          },
          "metadata": {},
          "execution_count": 44
        }
      ]
    },
    {
      "cell_type": "code",
      "source": [
        "t2=batch_gen_iterator.__next__()"
      ],
      "metadata": {
        "id": "Yjukc7aU3HaC"
      },
      "execution_count": null,
      "outputs": []
    },
    {
      "cell_type": "code",
      "source": [
        "type(t2)"
      ],
      "metadata": {
        "id": "vWU1lbd43OhL",
        "outputId": "ac8c11a6-05d0-4ac6-862a-011262eeb22f",
        "colab": {
          "base_uri": "https://localhost:8080/"
        }
      },
      "execution_count": null,
      "outputs": [
        {
          "output_type": "execute_result",
          "data": {
            "text/plain": [
              "tuple"
            ]
          },
          "metadata": {},
          "execution_count": 48
        }
      ]
    },
    {
      "cell_type": "code",
      "source": [
        "type(t2[0])"
      ],
      "metadata": {
        "id": "cst9bXUQ3bYY",
        "outputId": "83a22aaf-2e9f-42a8-8b98-d5b2449f50c1",
        "colab": {
          "base_uri": "https://localhost:8080/"
        }
      },
      "execution_count": null,
      "outputs": [
        {
          "output_type": "execute_result",
          "data": {
            "text/plain": [
              "numpy.ndarray"
            ]
          },
          "metadata": {},
          "execution_count": 49
        }
      ]
    },
    {
      "cell_type": "code",
      "source": [
        "t2[0].shape"
      ],
      "metadata": {
        "id": "E7i0gotI3ez2",
        "outputId": "a5c24d36-d5a6-440a-88f7-50fe8e5bbc12",
        "colab": {
          "base_uri": "https://localhost:8080/"
        }
      },
      "execution_count": null,
      "outputs": [
        {
          "output_type": "execute_result",
          "data": {
            "text/plain": [
              "(3, 28, 28, 1)"
            ]
          },
          "metadata": {},
          "execution_count": 50
        }
      ]
    },
    {
      "cell_type": "code",
      "source": [
        "plt.imshow(t2[0][2].reshape(28,28))"
      ],
      "metadata": {
        "id": "z_PSuNT13qJR",
        "outputId": "3df0e87b-faac-4c6b-f3e8-6d80f33c2716",
        "colab": {
          "base_uri": "https://localhost:8080/",
          "height": 282
        }
      },
      "execution_count": null,
      "outputs": [
        {
          "output_type": "execute_result",
          "data": {
            "text/plain": [
              "<matplotlib.image.AxesImage at 0x7feaaea29400>"
            ]
          },
          "metadata": {},
          "execution_count": 52
        },
        {
          "output_type": "display_data",
          "data": {
            "text/plain": [
              "<Figure size 432x288 with 1 Axes>"
            ],
            "image/png": "[encoded data removed]"
          },
          "metadata": {
            "needs_background": "light"
          }
        }
      ]
    },
    {
      "cell_type": "code",
      "source": [
        "for t in batch_gen_iterator:\n",
        "  print(t)\n",
        "  plt.imshow(t[0][0].reshape(28,28))\n",
        "  break;"
      ],
      "metadata": {
        "id": "I6b-Ad4337MA",
        "outputId": "1daeed8b-b43c-473d-f23c-64f0b483b76a",
        "colab": {
          "base_uri": "https://localhost:8080/",
          "height": 1000
        }
      },
      "execution_count": null,
      "outputs": [
        {
          "output_type": "stream",
          "name": "stdout",
          "text": [
            "(array([[[[-0.07550469],\n",
            "         [-0.07550469],\n",
            "         [-0.07550469],\n",
            "         ...,\n",
            "         [-0.07550466],\n",
            "         [-0.07550466],\n",
            "         [-0.07550466]],\n",
            "\n",
            "        [[-0.07550466],\n",
            "         [-0.07550466],\n",
            "         [-0.07550466],\n",
            "         ...,\n",
            "         [-0.07550466],\n",
            "         [-0.07550466],\n",
            "         [-0.07550466]],\n",
            "\n",
            "        [[-0.07550466],\n",
            "         [-0.07550466],\n",
            "         [-0.07550466],\n",
            "         ...,\n",
            "         [-0.07550466],\n",
            "         [-0.07550466],\n",
            "         [-0.07550466]],\n",
            "\n",
            "        ...,\n",
            "\n",
            "        [[-0.07550466],\n",
            "         [-0.07550466],\n",
            "         [-0.07550466],\n",
            "         ...,\n",
            "         [-0.07550466],\n",
            "         [-0.07550466],\n",
            "         [-0.07550466]],\n",
            "\n",
            "        [[-0.07550466],\n",
            "         [-0.07550466],\n",
            "         [-0.07550466],\n",
            "         ...,\n",
            "         [-0.07550466],\n",
            "         [-0.07550466],\n",
            "         [-0.07550466]],\n",
            "\n",
            "        [[-0.07550466],\n",
            "         [-0.07550466],\n",
            "         [-0.07550466],\n",
            "         ...,\n",
            "         [-0.07550473],\n",
            "         [-0.07550473],\n",
            "         [-0.07550473]]],\n",
            "\n",
            "\n",
            "       [[[-0.00507189],\n",
            "         [-0.00507189],\n",
            "         [-0.00507189],\n",
            "         ...,\n",
            "         [-0.00507184],\n",
            "         [-0.00507184],\n",
            "         [-0.00507184]],\n",
            "\n",
            "        [[-0.00507184],\n",
            "         [-0.00507184],\n",
            "         [-0.00507184],\n",
            "         ...,\n",
            "         [-0.00507184],\n",
            "         [-0.00507184],\n",
            "         [-0.00507184]],\n",
            "\n",
            "        [[-0.00507184],\n",
            "         [-0.00507184],\n",
            "         [-0.00507184],\n",
            "         ...,\n",
            "         [-0.00507184],\n",
            "         [-0.00507184],\n",
            "         [-0.00507184]],\n",
            "\n",
            "        ...,\n",
            "\n",
            "        [[-0.00507184],\n",
            "         [-0.00507184],\n",
            "         [-0.00507184],\n",
            "         ...,\n",
            "         [-0.00507184],\n",
            "         [-0.00507184],\n",
            "         [-0.00507184]],\n",
            "\n",
            "        [[-0.00507184],\n",
            "         [-0.00507184],\n",
            "         [-0.00507184],\n",
            "         ...,\n",
            "         [-0.00507184],\n",
            "         [-0.00507184],\n",
            "         [-0.00507184]],\n",
            "\n",
            "        [[-0.00507184],\n",
            "         [-0.00507184],\n",
            "         [-0.00507184],\n",
            "         ...,\n",
            "         [-0.00507182],\n",
            "         [-0.00507182],\n",
            "         [-0.00507182]]],\n",
            "\n",
            "\n",
            "       [[[-0.00926858],\n",
            "         [-0.00926858],\n",
            "         [-0.00926858],\n",
            "         ...,\n",
            "         [-0.00926854],\n",
            "         [-0.00926854],\n",
            "         [-0.00926854]],\n",
            "\n",
            "        [[-0.00926854],\n",
            "         [-0.00926854],\n",
            "         [-0.00926854],\n",
            "         ...,\n",
            "         [-0.00926854],\n",
            "         [-0.00926854],\n",
            "         [-0.00926854]],\n",
            "\n",
            "        [[-0.00926854],\n",
            "         [-0.00926854],\n",
            "         [-0.00926854],\n",
            "         ...,\n",
            "         [-0.00926854],\n",
            "         [-0.00926854],\n",
            "         [-0.00926854]],\n",
            "\n",
            "        ...,\n",
            "\n",
            "        [[-0.00926854],\n",
            "         [-0.00926854],\n",
            "         [-0.00926854],\n",
            "         ...,\n",
            "         [-0.00926854],\n",
            "         [-0.00926854],\n",
            "         [-0.00926854]],\n",
            "\n",
            "        [[-0.00926854],\n",
            "         [-0.00926854],\n",
            "         [-0.00926854],\n",
            "         ...,\n",
            "         [-0.00926854],\n",
            "         [-0.00926854],\n",
            "         [-0.00926854]],\n",
            "\n",
            "        [[-0.00926854],\n",
            "         [-0.00926854],\n",
            "         [-0.00926854],\n",
            "         ...,\n",
            "         [-0.00926859],\n",
            "         [-0.00926859],\n",
            "         [-0.00926859]]]], dtype=float32), array([7, 6, 2], dtype=uint8))\n"
          ]
        },
        {
          "output_type": "execute_result",
          "data": {
            "text/plain": [
              "<matplotlib.image.AxesImage at 0x7feaae859970>"
            ]
          },
          "metadata": {},
          "execution_count": 59
        },
        {
          "output_type": "display_data",
          "data": {
            "text/plain": [
              "<Figure size 432x288 with 1 Axes>"
            ],
            "image/png": "[encoded data removed]"
          },
          "metadata": {
            "needs_background": "light"
          }
        }
      ]
    },
    {
      "cell_type": "code",
      "source": [
        "#model.fit(batch_gen_iterator,epochs =5 ,batch_size=2)"
      ],
      "metadata": {
        "id": "vfO6EFTHAMOO"
      },
      "execution_count": null,
      "outputs": []
    },
    {
      "cell_type": "code",
      "metadata": {
        "id": "6QzxSZ16rXdd",
        "colab": {
          "base_uri": "https://localhost:8080/"
        },
        "outputId": "e8fc13b5-d6bc-415e-bef7-8bbcc7c3cfe6"
      },
      "source": [
        "# 4.4.3 This is an iterator\n",
        "type(batch_gen_iterator)\t\t# Iterator object that retruns numpy arrays\n",
        "print(\"\\n========\\n\")\n",
        "\n",
        "# 4.4.4 Also has an __next__() method\n",
        "batch_gen_iterator.__next__()\n",
        "print(\"\\n========\\n\")\n"
      ],
      "execution_count": null,
      "outputs": [
        {
          "output_type": "execute_result",
          "data": {
            "text/plain": [
              "keras.preprocessing.image.NumpyArrayIterator"
            ]
          },
          "metadata": {},
          "execution_count": 24
        },
        {
          "output_type": "stream",
          "name": "stdout",
          "text": [
            "\n",
            "========\n",
            "\n"
          ]
        },
        {
          "output_type": "execute_result",
          "data": {
            "text/plain": [
              "(array([[[[-2.06509978e-02],\n",
              "          [-2.06509978e-02],\n",
              "          [-2.06509978e-02],\n",
              "          [-2.06509978e-02],\n",
              "          [-2.06509978e-02],\n",
              "          [-2.06509978e-02],\n",
              "          [-2.06509978e-02],\n",
              "          [-2.06509978e-02],\n",
              "          [-2.06510238e-02],\n",
              "          [-2.06510238e-02],\n",
              "          [-2.06510238e-02],\n",
              "          [-2.06510238e-02],\n",
              "          [-2.06510238e-02],\n",
              "          [-2.06510238e-02],\n",
              "          [-2.06510238e-02],\n",
              "          [-2.06510238e-02],\n",
              "          [-2.06510238e-02],\n",
              "          [-2.06510238e-02],\n",
              "          [-2.06510238e-02],\n",
              "          [-2.06510238e-02],\n",
              "          [-2.06510238e-02],\n",
              "          [-2.06510238e-02],\n",
              "          [-2.06510238e-02],\n",
              "          [-2.06510238e-02],\n",
              "          [-2.06510238e-02],\n",
              "          [-2.06510238e-02],\n",
              "          [-2.06510238e-02],\n",
              "          [-2.06510238e-02]],\n",
              " \n",
              "         [[-2.06510238e-02],\n",
              "          [-2.06510238e-02],\n",
              "          [-2.06510238e-02],\n",
              "          [-2.06510238e-02],\n",
              "          [-2.06510238e-02],\n",
              "          [-2.06510238e-02],\n",
              "          [-2.06510238e-02],\n",
              "          [-2.06510238e-02],\n",
              "          [-2.06510238e-02],\n",
              "          [-2.06510238e-02],\n",
              "          [-2.06510238e-02],\n",
              "          [-2.06510238e-02],\n",
              "          [-2.06510238e-02],\n",
              "          [-4.62271981e-02],\n",
              "          [-8.36033821e-02],\n",
              "          [ 7.41254762e-02],\n",
              "          [ 1.19771108e-01],\n",
              "          [ 1.45911667e-02],\n",
              "          [-2.06510238e-02],\n",
              "          [-2.06510238e-02],\n",
              "          [-2.06510238e-02],\n",
              "          [-2.06510238e-02],\n",
              "          [-2.06510238e-02],\n",
              "          [-2.06510238e-02],\n",
              "          [-2.06510238e-02],\n",
              "          [-2.06510238e-02],\n",
              "          [-2.06510238e-02],\n",
              "          [-2.06510238e-02]],\n",
              " \n",
              "         [[-2.06510238e-02],\n",
              "          [-2.06510238e-02],\n",
              "          [-2.06510238e-02],\n",
              "          [-2.06510238e-02],\n",
              "          [-2.06510238e-02],\n",
              "          [-2.06510238e-02],\n",
              "          [-2.06510238e-02],\n",
              "          [-2.06510238e-02],\n",
              "          [-2.06510238e-02],\n",
              "          [-2.06510238e-02],\n",
              "          [-2.06510238e-02],\n",
              "          [-1.68988124e-01],\n",
              "          [-8.81934047e-01],\n",
              "          [-9.11616206e-01],\n",
              "          [ 4.09493923e-01],\n",
              "          [-2.80677885e-01],\n",
              "          [ 1.63032770e-01],\n",
              "          [ 1.20965332e-01],\n",
              "          [-4.64618862e-01],\n",
              "          [-6.64515853e-01],\n",
              "          [-1.42080396e-01],\n",
              "          [-2.06510238e-02],\n",
              "          [-2.06510238e-02],\n",
              "          [-2.06510238e-02],\n",
              "          [-2.06510238e-02],\n",
              "          [-2.06510238e-02],\n",
              "          [-2.06510238e-02],\n",
              "          [-2.06510238e-02]],\n",
              " \n",
              "         [[-2.06510238e-02],\n",
              "          [-2.06510238e-02],\n",
              "          [-2.06510238e-02],\n",
              "          [-2.06510238e-02],\n",
              "          [-2.06510238e-02],\n",
              "          [-2.06510238e-02],\n",
              "          [-2.06510238e-02],\n",
              "          [ 3.49542685e-03],\n",
              "          [ 1.74454525e-01],\n",
              "          [ 2.69282430e-01],\n",
              "          [ 4.68729675e-01],\n",
              "          [-7.79254735e-03],\n",
              "          [-1.15007125e-01],\n",
              "          [-6.53616607e-01],\n",
              "          [ 6.96570277e-02],\n",
              "          [ 1.06665701e-01],\n",
              "          [-1.17901236e-01],\n",
              "          [ 5.85794091e-01],\n",
              "          [-5.70314169e-01],\n",
              "          [ 7.54372254e-02],\n",
              "          [ 5.78288376e-01],\n",
              "          [ 2.01682359e-01],\n",
              "          [-4.11316514e-01],\n",
              "          [-2.06510238e-02],\n",
              "          [-2.06510238e-02],\n",
              "          [-2.06510238e-02],\n",
              "          [-2.06510238e-02],\n",
              "          [-2.06510238e-02]],\n",
              " \n",
              "         [[-2.06510238e-02],\n",
              "          [-2.06510238e-02],\n",
              "          [-2.06510238e-02],\n",
              "          [-2.06510238e-02],\n",
              "          [-2.06510238e-02],\n",
              "          [-3.17606218e-02],\n",
              "          [-7.49354716e-03],\n",
              "          [-2.20997557e-01],\n",
              "          [-7.75582612e-01],\n",
              "          [-5.28019428e-01],\n",
              "          [-7.98114598e-01],\n",
              "          [-1.07172012e+00],\n",
              "          [ 2.12627506e+00],\n",
              "          [ 1.86266971e+00],\n",
              "          [-2.56501794e-01],\n",
              "          [-1.46477902e+00],\n",
              "          [-1.24258471e+00],\n",
              "          [-2.79908240e-01],\n",
              "          [-3.92959952e-01],\n",
              "          [ 1.19514257e-01],\n",
              "          [-4.59117025e-01],\n",
              "          [ 1.38832450e-01],\n",
              "          [-9.25673246e-01],\n",
              "          [-1.39237463e-01],\n",
              "          [ 6.07576966e-03],\n",
              "          [-2.06510238e-02],\n",
              "          [-2.06510238e-02],\n",
              "          [-2.06510238e-02]],\n",
              " \n",
              "         [[-2.06510238e-02],\n",
              "          [-2.06510238e-02],\n",
              "          [-2.06510238e-02],\n",
              "          [ 1.35913752e-02],\n",
              "          [ 1.41157568e-01],\n",
              "          [ 8.90340209e-02],\n",
              "          [ 1.26495451e-01],\n",
              "          [ 8.38780552e-02],\n",
              "          [-6.19201176e-02],\n",
              "          [ 6.82824329e-02],\n",
              "          [-8.12763929e-01],\n",
              "          [ 4.20610398e-01],\n",
              "          [ 1.35032505e-01],\n",
              "          [ 5.88437200e-01],\n",
              "          [ 5.40590525e-01],\n",
              "          [ 4.13270950e-01],\n",
              "          [ 9.59592462e-01],\n",
              "          [ 4.69089180e-01],\n",
              "          [-6.85854077e-01],\n",
              "          [-7.33415306e-01],\n",
              "          [ 3.17829281e-01],\n",
              "          [ 6.11792326e-01],\n",
              "          [-8.90543699e-01],\n",
              "          [ 7.59112418e-01],\n",
              "          [-8.06894124e-01],\n",
              "          [-1.16127007e-01],\n",
              "          [-2.06510238e-02],\n",
              "          [-2.06510238e-02]],\n",
              " \n",
              "         [[-2.06510238e-02],\n",
              "          [-2.06510238e-02],\n",
              "          [-2.06510238e-02],\n",
              "          [ 3.33169341e-01],\n",
              "          [ 7.55071819e-01],\n",
              "          [ 3.14557612e-01],\n",
              "          [ 1.04692131e-01],\n",
              "          [-1.02787048e-01],\n",
              "          [ 1.30200297e-01],\n",
              "          [-9.81285930e-01],\n",
              "          [ 7.52925634e-01],\n",
              "          [ 5.56969523e-01],\n",
              "          [-1.60674393e-01],\n",
              "          [ 5.09757161e-01],\n",
              "          [ 3.86523187e-01],\n",
              "          [ 3.55957747e-01],\n",
              "          [-3.04334164e-02],\n",
              "          [ 9.43155885e-01],\n",
              "          [ 1.61003530e+00],\n",
              "          [-1.50982487e+00],\n",
              "          [-1.53786927e-01],\n",
              "          [-2.35440418e-01],\n",
              "          [-8.93629342e-03],\n",
              "          [ 2.67748863e-01],\n",
              "          [-3.70959818e-01],\n",
              "          [-3.64324264e-03],\n",
              "          [-2.06510350e-02],\n",
              "          [-2.06510350e-02]],\n",
              " \n",
              "         [[-2.06510350e-02],\n",
              "          [-2.06510350e-02],\n",
              "          [-2.06510350e-02],\n",
              "          [ 5.71513958e-02],\n",
              "          [ 1.39474973e-01],\n",
              "          [-2.92263418e-01],\n",
              "          [-5.14690518e-01],\n",
              "          [-1.03232491e+00],\n",
              "          [-2.26569581e+00],\n",
              "          [ 1.47949624e+00],\n",
              "          [-7.35772252e-02],\n",
              "          [ 7.59900808e-02],\n",
              "          [ 1.25495088e+00],\n",
              "          [-1.10776460e+00],\n",
              "          [ 1.43920088e+00],\n",
              "          [ 1.17911816e+00],\n",
              "          [ 1.79114830e+00],\n",
              "          [ 7.78922737e-01],\n",
              "          [ 8.14656019e-01],\n",
              "          [ 1.34423411e+00],\n",
              "          [ 3.96368533e-01],\n",
              "          [ 1.73123837e-01],\n",
              "          [ 1.06615953e-01],\n",
              "          [ 6.42301381e-01],\n",
              "          [ 7.01934636e-01],\n",
              "          [-3.91963124e-02],\n",
              "          [-2.06510238e-02],\n",
              "          [-2.06510238e-02]],\n",
              " \n",
              "         [[-2.06510238e-02],\n",
              "          [-2.06510238e-02],\n",
              "          [-2.06510238e-02],\n",
              "          [ 1.78996727e-01],\n",
              "          [ 2.30230391e-01],\n",
              "          [-1.19543754e-01],\n",
              "          [ 5.59390604e-01],\n",
              "          [-6.81431234e-01],\n",
              "          [ 2.60741639e+00],\n",
              "          [ 1.96802104e+00],\n",
              "          [ 2.70458847e-01],\n",
              "          [ 8.99938047e-01],\n",
              "          [-1.77245378e+00],\n",
              "          [-1.37917936e+00],\n",
              "          [-2.37608218e+00],\n",
              "          [-7.84186542e-01],\n",
              "          [-8.38391185e-01],\n",
              "          [-1.91977811e+00],\n",
              "          [-6.73953593e-01],\n",
              "          [-7.66344965e-02],\n",
              "          [-9.53139544e-01],\n",
              "          [ 9.30195212e-01],\n",
              "          [ 3.44751388e-01],\n",
              "          [-3.12150180e-01],\n",
              "          [ 1.21343195e-01],\n",
              "          [-4.77890968e-01],\n",
              "          [-2.06510238e-02],\n",
              "          [-2.06510238e-02]],\n",
              " \n",
              "         [[-2.06510238e-02],\n",
              "          [-1.50418222e-01],\n",
              "          [-1.62894130e-01],\n",
              "          [-4.96013016e-02],\n",
              "          [-3.65898192e-01],\n",
              "          [ 5.09356022e-01],\n",
              "          [-1.08679727e-01],\n",
              "          [-1.63046628e-01],\n",
              "          [ 3.50448656e+00],\n",
              "          [ 4.77479637e-01],\n",
              "          [ 2.60223746e-01],\n",
              "          [ 1.39506948e+00],\n",
              "          [ 3.64923254e-02],\n",
              "          [ 8.95836353e-02],\n",
              "          [ 1.04234383e-01],\n",
              "          [-1.08553827e+00],\n",
              "          [ 1.03722163e-01],\n",
              "          [ 6.13907278e-01],\n",
              "          [ 2.08618045e-01],\n",
              "          [-3.82522911e-01],\n",
              "          [-1.19939446e-03],\n",
              "          [-3.89294684e-01],\n",
              "          [-1.25014886e-01],\n",
              "          [-5.94700813e-01],\n",
              "          [-3.77193481e-01],\n",
              "          [-1.05686337e-01],\n",
              "          [-2.06510238e-02],\n",
              "          [-2.06510238e-02]],\n",
              " \n",
              "         [[-2.06510238e-02],\n",
              "          [-3.56239676e-02],\n",
              "          [-2.78838072e-02],\n",
              "          [-4.99192894e-01],\n",
              "          [-1.26379466e+00],\n",
              "          [ 1.07787311e-01],\n",
              "          [ 2.59903997e-01],\n",
              "          [-4.69213337e-01],\n",
              "          [-1.47224891e+00],\n",
              "          [ 2.38407183e+00],\n",
              "          [ 1.70214760e+00],\n",
              "          [ 2.59359217e+00],\n",
              "          [ 1.43393576e+00],\n",
              "          [ 1.73369169e+00],\n",
              "          [ 8.46984923e-01],\n",
              "          [-3.20411503e-01],\n",
              "          [-1.66054499e+00],\n",
              "          [-1.21274984e+00],\n",
              "          [ 2.17237771e-01],\n",
              "          [-2.36489087e-01],\n",
              "          [-7.97561765e-01],\n",
              "          [ 2.28979051e-01],\n",
              "          [-4.88457590e-01],\n",
              "          [-5.78968406e-01],\n",
              "          [-5.51411919e-02],\n",
              "          [-2.06510238e-02],\n",
              "          [-2.06510238e-02],\n",
              "          [-2.06510238e-02]],\n",
              " \n",
              "         [[-2.06510238e-02],\n",
              "          [-2.06510238e-02],\n",
              "          [-2.06510238e-02],\n",
              "          [-3.95725876e-01],\n",
              "          [-1.15212524e+00],\n",
              "          [ 7.30375469e-01],\n",
              "          [ 2.49574095e-01],\n",
              "          [-1.04501820e+00],\n",
              "          [-7.61005759e-01],\n",
              "          [-2.10932231e+00],\n",
              "          [-4.33908314e-01],\n",
              "          [ 8.57928321e-02],\n",
              "          [ 7.01593161e-01],\n",
              "          [ 1.80180669e+00],\n",
              "          [ 2.13055849e+00],\n",
              "          [ 1.44458628e+00],\n",
              "          [ 8.74144554e-01],\n",
              "          [ 3.57663408e-02],\n",
              "          [-1.05016279e+00],\n",
              "          [ 5.90481758e-02],\n",
              "          [-2.20059007e-02],\n",
              "          [ 1.07418609e+00],\n",
              "          [-1.21680140e+00],\n",
              "          [-2.33417422e-01],\n",
              "          [ 5.03365621e-02],\n",
              "          [-2.06510238e-02],\n",
              "          [-2.06510238e-02],\n",
              "          [-2.06510238e-02]],\n",
              " \n",
              "         [[-2.06510238e-02],\n",
              "          [-2.06510238e-02],\n",
              "          [-2.06510238e-02],\n",
              "          [ 2.87324339e-01],\n",
              "          [ 4.75032479e-01],\n",
              "          [ 1.74646825e-01],\n",
              "          [ 6.02702320e-01],\n",
              "          [ 4.77875233e-01],\n",
              "          [-5.15201688e-02],\n",
              "          [-4.14682329e-01],\n",
              "          [-7.63125598e-01],\n",
              "          [-1.01708388e+00],\n",
              "          [-1.85536933e+00],\n",
              "          [-1.72982836e+00],\n",
              "          [ 2.36497410e-02],\n",
              "          [ 1.84286821e+00],\n",
              "          [ 8.53674173e-01],\n",
              "          [-1.38693795e-01],\n",
              "          [-4.39765722e-01],\n",
              "          [-1.43006694e+00],\n",
              "          [-5.12014210e-01],\n",
              "          [-8.42077136e-01],\n",
              "          [-1.02459753e+00],\n",
              "          [ 2.77730584e-01],\n",
              "          [-3.79618973e-01],\n",
              "          [-2.06510238e-02],\n",
              "          [-2.06510238e-02],\n",
              "          [-2.06510238e-02]],\n",
              " \n",
              "         [[-2.06510238e-02],\n",
              "          [-2.06510238e-02],\n",
              "          [-2.06510238e-02],\n",
              "          [ 3.38421404e-01],\n",
              "          [ 8.15624297e-02],\n",
              "          [-5.86422145e-01],\n",
              "          [ 1.45471722e-01],\n",
              "          [-9.04187620e-01],\n",
              "          [-6.42329872e-01],\n",
              "          [-1.92462876e-02],\n",
              "          [-6.48799419e-01],\n",
              "          [-1.87588871e-01],\n",
              "          [ 3.27288687e-01],\n",
              "          [-8.41604829e-01],\n",
              "          [-1.20220828e+00],\n",
              "          [-1.26107562e+00],\n",
              "          [ 1.84463215e+00],\n",
              "          [ 1.91784465e+00],\n",
              "          [ 1.49771154e+00],\n",
              "          [ 4.14634138e-01],\n",
              "          [-1.29201496e+00],\n",
              "          [ 2.48474613e-01],\n",
              "          [ 3.39994341e-01],\n",
              "          [ 3.86034518e-01],\n",
              "          [-6.39156461e-01],\n",
              "          [-1.40929937e-01],\n",
              "          [-2.06510089e-02],\n",
              "          [-2.06510089e-02]],\n",
              " \n",
              "         [[-2.06509978e-02],\n",
              "          [-2.06509978e-02],\n",
              "          [-2.06509978e-02],\n",
              "          [ 5.77443659e-01],\n",
              "          [ 7.23819852e-01],\n",
              "          [-5.43962657e-01],\n",
              "          [ 2.59693384e-01],\n",
              "          [-4.64374125e-01],\n",
              "          [-2.82956123e-01],\n",
              "          [-1.27314255e-01],\n",
              "          [ 1.59826949e-01],\n",
              "          [-6.17577910e-01],\n",
              "          [-5.78330755e-01],\n",
              "          [-2.58683503e-01],\n",
              "          [ 1.16351508e-02],\n",
              "          [-8.16961467e-01],\n",
              "          [-2.08493590e+00],\n",
              "          [ 1.39344728e+00],\n",
              "          [ 9.83426630e-01],\n",
              "          [ 6.73303187e-01],\n",
              "          [ 2.34775019e+00],\n",
              "          [-1.67769289e+00],\n",
              "          [ 9.62182656e-02],\n",
              "          [-9.36533734e-02],\n",
              "          [-9.92703617e-01],\n",
              "          [ 2.10166350e-03],\n",
              "          [-8.84662941e-03],\n",
              "          [-2.06510238e-02]],\n",
              " \n",
              "         [[-2.06510238e-02],\n",
              "          [-2.06510238e-02],\n",
              "          [-2.06510238e-02],\n",
              "          [ 2.34732270e-01],\n",
              "          [ 3.50347608e-01],\n",
              "          [-2.15860561e-01],\n",
              "          [ 8.22991952e-02],\n",
              "          [-2.32509091e-01],\n",
              "          [-8.98198038e-02],\n",
              "          [-6.46557137e-02],\n",
              "          [-4.51402754e-01],\n",
              "          [ 8.32833499e-02],\n",
              "          [ 3.66739184e-01],\n",
              "          [-3.65676820e-01],\n",
              "          [-9.99339283e-01],\n",
              "          [-4.51860577e-01],\n",
              "          [ 3.75905186e-01],\n",
              "          [-1.13107228e+00],\n",
              "          [ 6.89866006e-01],\n",
              "          [ 7.88570791e-02],\n",
              "          [ 8.93474877e-01],\n",
              "          [-5.04919112e-01],\n",
              "          [ 5.61497092e-01],\n",
              "          [-2.14410335e-01],\n",
              "          [ 1.43664747e-01],\n",
              "          [ 3.20068836e-01],\n",
              "          [ 1.77299052e-01],\n",
              "          [-2.06510238e-02]],\n",
              " \n",
              "         [[-2.06510238e-02],\n",
              "          [-2.06510238e-02],\n",
              "          [-2.06510238e-02],\n",
              "          [ 4.15031433e-01],\n",
              "          [-6.06822431e-01],\n",
              "          [-4.62043256e-01],\n",
              "          [ 8.37768197e-01],\n",
              "          [-1.12542711e-01],\n",
              "          [-3.19723159e-01],\n",
              "          [-4.99200493e-01],\n",
              "          [-7.69537270e-01],\n",
              "          [ 7.72481203e-01],\n",
              "          [-2.15295568e-01],\n",
              "          [-1.80527553e-01],\n",
              "          [ 5.88756084e-01],\n",
              "          [ 5.37894547e-01],\n",
              "          [-2.51848549e-01],\n",
              "          [ 8.48674536e-01],\n",
              "          [-1.09588921e+00],\n",
              "          [ 9.18189049e-01],\n",
              "          [ 1.10231388e+00],\n",
              "          [-1.33026719e+00],\n",
              "          [-1.12719826e-01],\n",
              "          [ 1.96285143e-01],\n",
              "          [ 3.60105217e-01],\n",
              "          [ 2.28176087e-01],\n",
              "          [ 8.01407993e-02],\n",
              "          [-2.06510238e-02]],\n",
              " \n",
              "         [[-2.06510238e-02],\n",
              "          [-2.06510238e-02],\n",
              "          [-2.06510238e-02],\n",
              "          [ 4.19788331e-01],\n",
              "          [ 1.34783313e-02],\n",
              "          [ 4.65956666e-02],\n",
              "          [-1.96260065e-01],\n",
              "          [-6.87371612e-01],\n",
              "          [-4.48015779e-01],\n",
              "          [-1.15856171e+00],\n",
              "          [-1.04129994e+00],\n",
              "          [-2.96158284e-01],\n",
              "          [ 3.53617340e-01],\n",
              "          [ 4.49643165e-01],\n",
              "          [-5.52686095e-01],\n",
              "          [-5.04108489e-01],\n",
              "          [-7.81745017e-01],\n",
              "          [ 2.71590203e-01],\n",
              "          [-1.44339347e+00],\n",
              "          [-3.97834688e-01],\n",
              "          [ 8.59324753e-01],\n",
              "          [ 6.34517670e-01],\n",
              "          [-1.44629192e+00],\n",
              "          [-4.07218605e-01],\n",
              "          [-1.33444905e-01],\n",
              "          [ 4.79029953e-01],\n",
              "          [-2.06510238e-02],\n",
              "          [-2.06510238e-02]],\n",
              " \n",
              "         [[-2.06510238e-02],\n",
              "          [-2.06510238e-02],\n",
              "          [-2.06510238e-02],\n",
              "          [-4.96142320e-02],\n",
              "          [ 2.25014463e-01],\n",
              "          [-1.69330388e-01],\n",
              "          [ 1.29909962e-01],\n",
              "          [ 1.48474202e-01],\n",
              "          [-1.19371176e+00],\n",
              "          [ 5.10177732e-01],\n",
              "          [-1.27602190e-01],\n",
              "          [-7.85457790e-02],\n",
              "          [-2.64269203e-01],\n",
              "          [-1.21240735e+00],\n",
              "          [ 6.89038411e-02],\n",
              "          [ 1.59470424e-01],\n",
              "          [ 2.72220224e-01],\n",
              "          [-1.73493898e+00],\n",
              "          [ 2.61686635e+00],\n",
              "          [ 1.13000429e+00],\n",
              "          [ 1.48996580e+00],\n",
              "          [-8.46642554e-02],\n",
              "          [-2.30078745e+00],\n",
              "          [-1.22772217e-01],\n",
              "          [-4.62191880e-01],\n",
              "          [-6.04510248e-01],\n",
              "          [-2.06510238e-02],\n",
              "          [-2.06510238e-02]],\n",
              " \n",
              "         [[-2.06510238e-02],\n",
              "          [-2.06510238e-02],\n",
              "          [ 3.23351659e-02],\n",
              "          [ 4.91653770e-01],\n",
              "          [ 1.06327152e+00],\n",
              "          [-5.25205970e-01],\n",
              "          [-3.21501791e-01],\n",
              "          [-4.05377112e-02],\n",
              "          [-2.07266855e+00],\n",
              "          [ 3.46729875e+00],\n",
              "          [-3.08723487e-02],\n",
              "          [-1.58405066e+00],\n",
              "          [ 8.97230744e-01],\n",
              "          [ 3.83849204e-01],\n",
              "          [ 9.41519856e-01],\n",
              "          [-3.03595942e-02],\n",
              "          [-2.32185173e+00],\n",
              "          [ 1.88378668e+00],\n",
              "          [-9.26214814e-01],\n",
              "          [-4.26535994e-01],\n",
              "          [ 8.60664248e-01],\n",
              "          [ 2.43397236e+00],\n",
              "          [-3.54920357e-01],\n",
              "          [ 4.15975869e-01],\n",
              "          [ 1.10053457e-02],\n",
              "          [-1.77449271e-01],\n",
              "          [-2.06510238e-02],\n",
              "          [-2.06510238e-02]],\n",
              " \n",
              "         [[-2.06510238e-02],\n",
              "          [-2.06510238e-02],\n",
              "          [ 5.93920797e-02],\n",
              "          [-1.43825367e-01],\n",
              "          [-1.21172577e-01],\n",
              "          [-4.78500009e-01],\n",
              "          [ 1.16756454e-01],\n",
              "          [ 7.66706705e-01],\n",
              "          [-1.17421341e+00],\n",
              "          [ 7.85536528e-01],\n",
              "          [ 1.11776149e+00],\n",
              "          [-7.94837832e-01],\n",
              "          [-1.15074515e+00],\n",
              "          [-5.71269810e-01],\n",
              "          [-9.15392995e-01],\n",
              "          [-9.96825024e-02],\n",
              "          [ 1.00027883e+00],\n",
              "          [ 7.34386325e-01],\n",
              "          [ 4.55118716e-01],\n",
              "          [-7.26690531e-01],\n",
              "          [ 1.61621058e+00],\n",
              "          [-2.05092120e+00],\n",
              "          [ 2.95075119e-01],\n",
              "          [-5.33847153e-01],\n",
              "          [ 9.60968882e-02],\n",
              "          [ 2.11158305e-01],\n",
              "          [-2.06510350e-02],\n",
              "          [-2.06510350e-02]],\n",
              " \n",
              "         [[-2.06510350e-02],\n",
              "          [-2.06510350e-02],\n",
              "          [-2.45468795e-01],\n",
              "          [ 1.97597556e-02],\n",
              "          [ 3.49851787e-01],\n",
              "          [-5.05622447e-01],\n",
              "          [ 4.00165081e-01],\n",
              "          [ 8.97674933e-02],\n",
              "          [-1.19335866e+00],\n",
              "          [ 1.62189448e+00],\n",
              "          [ 5.20363808e-01],\n",
              "          [ 1.65243244e+00],\n",
              "          [ 1.96112311e+00],\n",
              "          [-2.68157482e+00],\n",
              "          [ 9.95107770e-01],\n",
              "          [ 8.30871165e-01],\n",
              "          [-3.34609263e-02],\n",
              "          [ 6.36863112e-01],\n",
              "          [ 1.00439000e+00],\n",
              "          [ 1.55808640e+00],\n",
              "          [-1.80557537e+00],\n",
              "          [ 1.61551610e-02],\n",
              "          [ 4.01477396e-01],\n",
              "          [-6.71776533e-02],\n",
              "          [-2.42802173e-01],\n",
              "          [ 2.03605443e-02],\n",
              "          [ 4.28743586e-02],\n",
              "          [-2.06510238e-02]],\n",
              " \n",
              "         [[-2.06510238e-02],\n",
              "          [-2.06510238e-02],\n",
              "          [-1.65576369e-01],\n",
              "          [-2.06834562e-02],\n",
              "          [ 3.95080090e-01],\n",
              "          [ 4.44425076e-01],\n",
              "          [ 8.03195313e-02],\n",
              "          [-2.21529335e-01],\n",
              "          [-9.30628955e-01],\n",
              "          [-1.91640484e+00],\n",
              "          [ 1.37786841e+00],\n",
              "          [-7.74890304e-01],\n",
              "          [-4.75522369e-01],\n",
              "          [ 1.43342078e+00],\n",
              "          [-3.87680471e-01],\n",
              "          [ 9.16277058e-04],\n",
              "          [-2.29435593e-01],\n",
              "          [ 1.35418773e-01],\n",
              "          [-8.61324489e-01],\n",
              "          [-9.84084129e-01],\n",
              "          [-1.23213494e+00],\n",
              "          [ 8.27332675e-01],\n",
              "          [-4.84663844e-01],\n",
              "          [ 9.40177590e-03],\n",
              "          [-2.22245902e-02],\n",
              "          [-2.06510238e-02],\n",
              "          [-2.06510238e-02],\n",
              "          [-2.06510238e-02]],\n",
              " \n",
              "         [[-2.06510238e-02],\n",
              "          [-2.06510238e-02],\n",
              "          [-2.06510238e-02],\n",
              "          [ 6.99774176e-02],\n",
              "          [ 3.75764757e-01],\n",
              "          [ 1.22346871e-01],\n",
              "          [-7.66431987e-01],\n",
              "          [-3.69972020e-01],\n",
              "          [ 6.37015477e-02],\n",
              "          [-9.07082677e-01],\n",
              "          [-1.33874393e+00],\n",
              "          [ 2.79623246e+00],\n",
              "          [ 9.09982026e-01],\n",
              "          [ 2.77634740e-01],\n",
              "          [ 8.61039519e-01],\n",
              "          [ 1.70242143e+00],\n",
              "          [ 1.50360405e+00],\n",
              "          [-1.68639255e+00],\n",
              "          [-2.68824607e-01],\n",
              "          [-6.83853030e-01],\n",
              "          [-1.29558235e-01],\n",
              "          [ 1.94831669e-01],\n",
              "          [-2.18642503e-01],\n",
              "          [-1.77471802e-01],\n",
              "          [-2.45155264e-02],\n",
              "          [-2.06510238e-02],\n",
              "          [-2.06510238e-02],\n",
              "          [-2.06510238e-02]],\n",
              " \n",
              "         [[-2.06510238e-02],\n",
              "          [-2.06510238e-02],\n",
              "          [-2.06510238e-02],\n",
              "          [-1.46753490e-02],\n",
              "          [ 1.81904346e-01],\n",
              "          [ 2.93965131e-01],\n",
              "          [-4.80683923e-01],\n",
              "          [ 1.52400643e-01],\n",
              "          [-1.94299310e-01],\n",
              "          [ 1.15374632e-01],\n",
              "          [-3.68477345e-01],\n",
              "          [-1.13455546e+00],\n",
              "          [-9.69845057e-01],\n",
              "          [-8.17667305e-01],\n",
              "          [-7.51485884e-01],\n",
              "          [-1.31876016e+00],\n",
              "          [-4.06544685e-01],\n",
              "          [-3.69880289e-01],\n",
              "          [ 2.21741349e-01],\n",
              "          [-4.01048884e-02],\n",
              "          [ 3.82181466e-01],\n",
              "          [-2.51613140e-01],\n",
              "          [-4.22561616e-01],\n",
              "          [-2.30376869e-01],\n",
              "          [-2.06510238e-02],\n",
              "          [-2.06510238e-02],\n",
              "          [-2.06510238e-02],\n",
              "          [-2.06510238e-02]],\n",
              " \n",
              "         [[-2.06510238e-02],\n",
              "          [-2.06510238e-02],\n",
              "          [-2.06510238e-02],\n",
              "          [-2.06510238e-02],\n",
              "          [-2.06510238e-02],\n",
              "          [-2.17779372e-02],\n",
              "          [ 3.73123288e-02],\n",
              "          [ 5.00550568e-01],\n",
              "          [ 3.88626128e-01],\n",
              "          [-2.79889703e-01],\n",
              "          [-1.25360131e-01],\n",
              "          [ 2.03455955e-01],\n",
              "          [ 6.25563785e-02],\n",
              "          [ 6.20348692e-01],\n",
              "          [-6.75488472e-01],\n",
              "          [-2.50733852e-01],\n",
              "          [ 2.67237842e-01],\n",
              "          [ 6.85338974e-01],\n",
              "          [ 2.34174967e-01],\n",
              "          [-7.57674754e-01],\n",
              "          [ 2.49702126e-01],\n",
              "          [-2.06510238e-02],\n",
              "          [-2.06510238e-02],\n",
              "          [-2.06510238e-02],\n",
              "          [-2.06510238e-02],\n",
              "          [-2.06510238e-02],\n",
              "          [-2.06510238e-02],\n",
              "          [-2.06510238e-02]],\n",
              " \n",
              "         [[-2.06510238e-02],\n",
              "          [-2.06510238e-02],\n",
              "          [-2.06510238e-02],\n",
              "          [-2.06510238e-02],\n",
              "          [-2.06510238e-02],\n",
              "          [-4.99739461e-02],\n",
              "          [ 1.65076315e-01],\n",
              "          [ 3.89398515e-01],\n",
              "          [ 3.90087605e-01],\n",
              "          [ 5.22080064e-01],\n",
              "          [ 9.19193029e-01],\n",
              "          [ 1.11572772e-01],\n",
              "          [ 7.12721199e-02],\n",
              "          [ 6.44041300e-01],\n",
              "          [ 1.69290602e-01],\n",
              "          [-5.13456047e-01],\n",
              "          [ 5.68973720e-01],\n",
              "          [ 7.06952929e-01],\n",
              "          [ 3.44063103e-01],\n",
              "          [-6.76048040e-01],\n",
              "          [-2.06510238e-02],\n",
              "          [-2.06510238e-02],\n",
              "          [-2.06510238e-02],\n",
              "          [-2.06510238e-02],\n",
              "          [-2.06510238e-02],\n",
              "          [-2.06510238e-02],\n",
              "          [-2.06510238e-02],\n",
              "          [-2.06510238e-02]],\n",
              " \n",
              "         [[-2.06510238e-02],\n",
              "          [-2.06510238e-02],\n",
              "          [-2.06510238e-02],\n",
              "          [-2.06510238e-02],\n",
              "          [-2.06510238e-02],\n",
              "          [-3.46032262e-01],\n",
              "          [-4.29581344e-01],\n",
              "          [-3.22322726e-01],\n",
              "          [-3.29931498e-01],\n",
              "          [-2.06510238e-02],\n",
              "          [-2.06510238e-02],\n",
              "          [-2.06510238e-02],\n",
              "          [-2.06510238e-02],\n",
              "          [-2.06510238e-02],\n",
              "          [-2.06510238e-02],\n",
              "          [-1.81758195e-01],\n",
              "          [-3.04080993e-01],\n",
              "          [-1.00953728e-01],\n",
              "          [ 8.86281312e-01],\n",
              "          [ 4.26716387e-01],\n",
              "          [-2.06510089e-02],\n",
              "          [-2.06510089e-02],\n",
              "          [-2.06510089e-02],\n",
              "          [-2.06510089e-02],\n",
              "          [-2.06510089e-02],\n",
              "          [-2.06510089e-02],\n",
              "          [-2.06510089e-02],\n",
              "          [-2.06510089e-02]]]], dtype=float32), array([5], dtype=uint8))"
            ]
          },
          "metadata": {},
          "execution_count": 24
        },
        {
          "output_type": "stream",
          "name": "stdout",
          "text": [
            "\n",
            "========\n",
            "\n"
          ]
        }
      ]
    },
    {
      "cell_type": "code",
      "source": [
        "# 4.4.4\n",
        "# The above format of X_train can be understood by\n",
        "#   looking at the following 4D structure:\n",
        "np.array(range(24)).reshape(4,3,2,1)"
      ],
      "metadata": {
        "id": "S7MvAulsXjf9",
        "outputId": "bfe146e0-aa8c-4628-ecb8-06489f5b283b",
        "colab": {
          "base_uri": "https://localhost:8080/"
        }
      },
      "execution_count": null,
      "outputs": [
        {
          "output_type": "execute_result",
          "data": {
            "text/plain": [
              "array([[[[ 0],\n",
              "         [ 1]],\n",
              "\n",
              "        [[ 2],\n",
              "         [ 3]],\n",
              "\n",
              "        [[ 4],\n",
              "         [ 5]]],\n",
              "\n",
              "\n",
              "       [[[ 6],\n",
              "         [ 7]],\n",
              "\n",
              "        [[ 8],\n",
              "         [ 9]],\n",
              "\n",
              "        [[10],\n",
              "         [11]]],\n",
              "\n",
              "\n",
              "       [[[12],\n",
              "         [13]],\n",
              "\n",
              "        [[14],\n",
              "         [15]],\n",
              "\n",
              "        [[16],\n",
              "         [17]]],\n",
              "\n",
              "\n",
              "       [[[18],\n",
              "         [19]],\n",
              "\n",
              "        [[20],\n",
              "         [21]],\n",
              "\n",
              "        [[22],\n",
              "         [23]]]])"
            ]
          },
          "metadata": {},
          "execution_count": 25
        }
      ]
    },
    {
      "cell_type": "code",
      "source": [
        "# 4.4.5 Does it have __iter__() method:\n",
        "batch_gen_iterator.__iter__()\n",
        "print(\"\\n========\\n\")"
      ],
      "metadata": {
        "colab": {
          "base_uri": "https://localhost:8080/"
        },
        "id": "z4xuud1fS-0J",
        "outputId": "1c76d8fd-72da-46e3-b41e-277b9fa6ab3e"
      },
      "execution_count": null,
      "outputs": [
        {
          "output_type": "execute_result",
          "data": {
            "text/plain": [
              "<keras.preprocessing.image.NumpyArrayIterator at 0x7f882dbf0e50>"
            ]
          },
          "metadata": {},
          "execution_count": 26
        },
        {
          "output_type": "stream",
          "name": "stdout",
          "text": [
            "\n",
            "========\n",
            "\n"
          ]
        }
      ]
    },
    {
      "cell_type": "code",
      "metadata": {
        "id": "8TlypHdEraqO",
        "colab": {
          "base_uri": "https://localhost:8080/"
        },
        "outputId": "9bb9a9e5-1e56-43d3-9dd6-2686b1039bf8"
      },
      "source": [
        "# 4.5.1 Use (image) iterator, just to verify\n",
        "# Get first batch of images and labels\n",
        "\n",
        "img_batch = batch_gen_iterator\n",
        "x,y = next(img_batch)\n",
        "type(x)          # numpy.ndarray\n",
        "type(y)\t\t\t     # numpy.ndarray\n",
        "print(\"\\n======\\n\")\n",
        "x.shape          # Batch of 9 images of shape (28, 28, 1)\n",
        "print(\"\\n======\\n\")\n",
        "x[0].shape       # (28, 28, 1)\n",
        "print(\"\\n======\\n\")\n",
        "\n",
        "y.shape          # (9,) : One label for each image\n",
        "print(\"\\n======\\n\")\n",
        "y                # Get all nine labels"
      ],
      "execution_count": null,
      "outputs": [
        {
          "output_type": "execute_result",
          "data": {
            "text/plain": [
              "numpy.ndarray"
            ]
          },
          "metadata": {},
          "execution_count": 27
        },
        {
          "output_type": "execute_result",
          "data": {
            "text/plain": [
              "numpy.ndarray"
            ]
          },
          "metadata": {},
          "execution_count": 27
        },
        {
          "output_type": "stream",
          "name": "stdout",
          "text": [
            "\n",
            "======\n",
            "\n"
          ]
        },
        {
          "output_type": "execute_result",
          "data": {
            "text/plain": [
              "(1, 28, 28, 1)"
            ]
          },
          "metadata": {},
          "execution_count": 27
        },
        {
          "output_type": "stream",
          "name": "stdout",
          "text": [
            "\n",
            "======\n",
            "\n"
          ]
        },
        {
          "output_type": "execute_result",
          "data": {
            "text/plain": [
              "(28, 28, 1)"
            ]
          },
          "metadata": {},
          "execution_count": 27
        },
        {
          "output_type": "stream",
          "name": "stdout",
          "text": [
            "\n",
            "======\n",
            "\n"
          ]
        },
        {
          "output_type": "execute_result",
          "data": {
            "text/plain": [
              "(1,)"
            ]
          },
          "metadata": {},
          "execution_count": 27
        },
        {
          "output_type": "stream",
          "name": "stdout",
          "text": [
            "\n",
            "======\n",
            "\n"
          ]
        },
        {
          "output_type": "execute_result",
          "data": {
            "text/plain": [
              "array([1], dtype=uint8)"
            ]
          },
          "metadata": {},
          "execution_count": 27
        }
      ]
    },
    {
      "cell_type": "code",
      "metadata": {
        "id": "Irey_LI_rezi",
        "colab": {
          "base_uri": "https://localhost:8080/",
          "height": 282
        },
        "outputId": "fcfe1752-178c-4080-834b-ec2569136335"
      },
      "source": [
        "# 4.5.2 Reshape first image & plot\n",
        "x = x[0].reshape(28,28)   # Get one image\n",
        "plt.imshow(x,cmap=plt.cm.gray)"
      ],
      "execution_count": null,
      "outputs": [
        {
          "output_type": "execute_result",
          "data": {
            "text/plain": [
              "<matplotlib.image.AxesImage at 0x7f882dc28fa0>"
            ]
          },
          "metadata": {},
          "execution_count": 28
        },
        {
          "output_type": "display_data",
          "data": {
            "text/plain": [
              "<Figure size 432x288 with 1 Axes>"
            ],
            "image/png": "[encoded data removed]"
          },
          "metadata": {
            "needs_background": "light"
          }
        }
      ]
    },
    {
      "cell_type": "code",
      "metadata": {
        "id": "ZmcmWKYlrkZY",
        "colab": {
          "base_uri": "https://localhost:8080/",
          "height": 282
        },
        "outputId": "a99e435c-f119-4388-9502-03d983871b2d"
      },
      "source": [
        "# 4.5.3 Same as above again\n",
        "x,y = next(img_batch)\n",
        "x = x[0].reshape(28,28)   # Get one image\n",
        "plt.imshow(x, cmap=plt.get_cmap('gray'))"
      ],
      "execution_count": null,
      "outputs": [
        {
          "output_type": "execute_result",
          "data": {
            "text/plain": [
              "<matplotlib.image.AxesImage at 0x7f882bb282e0>"
            ]
          },
          "metadata": {},
          "execution_count": 29
        },
        {
          "output_type": "display_data",
          "data": {
            "text/plain": [
              "<Figure size 432x288 with 1 Axes>"
            ],
            "image/png": "[encoded data removed]"
          },
          "metadata": {
            "needs_background": "light"
          }
        }
      ]
    },
    {
      "cell_type": "markdown",
      "source": [
        "## Plot images:"
      ],
      "metadata": {
        "id": "n3fCZwRK9no5"
      }
    },
    {
      "cell_type": "code",
      "metadata": {
        "id": "Jyh6eiFVrlPJ"
      },
      "source": [
        "# 4.6 Configure batch size and retrieve one batch of images\n",
        "def plot_images(dg):\n",
        "\tfor X_batch, y_batch in dg.flow(X_train, y_train, batch_size=9):\n",
        "\t\t# create a grid of 3x3 images\n",
        "\t\tfor i in range(0, 9):\n",
        "\t\t\tplt.subplot(330 + 1 + i)\n",
        "\t\t\timg = X_batch[i].reshape(28, 28)\n",
        "\t\t\tplt.imshow(img, cmap=plt.cm.gray)\n",
        "\t\t# show the plot\n",
        "\t\tplt.show()\n",
        "\t\tbreak"
      ],
      "execution_count": null,
      "outputs": []
    },
    {
      "cell_type": "code",
      "metadata": {
        "id": "wJoWjCxXroEJ",
        "colab": {
          "base_uri": "https://localhost:8080/",
          "height": 235
        },
        "outputId": "24fae1e9-97ad-48ab-9729-3d38d7906538"
      },
      "source": [
        "# 4.7 Iterate over data-generator to get images in batches\n",
        "#     embossing is clearer in these images\n",
        "#     'Emboss means image stands out in relief'\n",
        "plot_images(dg)       # Plot a batch of nine images\n",
        "plot_images(dg)       # Plot another batch of nine images\n",
        "plot_images(dg)\n"
      ],
      "execution_count": null,
      "outputs": [
        {
          "output_type": "error",
          "ename": "NameError",
          "evalue": "ignored",
          "traceback": [
            "\u001b[0;31m---------------------------------------------------------------------------\u001b[0m",
            "\u001b[0;31mNameError\u001b[0m                                 Traceback (most recent call last)",
            "\u001b[0;32m<ipython-input-31-37adb49a309d>\u001b[0m in \u001b[0;36m<module>\u001b[0;34m\u001b[0m\n\u001b[1;32m      2\u001b[0m \u001b[0;31m#     embossing is clearer in these images\u001b[0m\u001b[0;34m\u001b[0m\u001b[0;34m\u001b[0m\u001b[0;34m\u001b[0m\u001b[0m\n\u001b[1;32m      3\u001b[0m \u001b[0;31m#     'Emboss means image stands out in relief'\u001b[0m\u001b[0;34m\u001b[0m\u001b[0;34m\u001b[0m\u001b[0;34m\u001b[0m\u001b[0m\n\u001b[0;32m----> 4\u001b[0;31m \u001b[0mplot_images\u001b[0m\u001b[0;34m(\u001b[0m\u001b[0mdg\u001b[0m\u001b[0;34m)\u001b[0m       \u001b[0;31m# Plot a batch of nine images\u001b[0m\u001b[0;34m\u001b[0m\u001b[0;34m\u001b[0m\u001b[0m\n\u001b[0m\u001b[1;32m      5\u001b[0m \u001b[0mplot_images\u001b[0m\u001b[0;34m(\u001b[0m\u001b[0mdg\u001b[0m\u001b[0;34m)\u001b[0m       \u001b[0;31m# Plot another batch of nine images\u001b[0m\u001b[0;34m\u001b[0m\u001b[0;34m\u001b[0m\u001b[0m\n\u001b[1;32m      6\u001b[0m \u001b[0mplot_images\u001b[0m\u001b[0;34m(\u001b[0m\u001b[0mdg\u001b[0m\u001b[0;34m)\u001b[0m\u001b[0;34m\u001b[0m\u001b[0;34m\u001b[0m\u001b[0m\n",
            "\u001b[0;31mNameError\u001b[0m: name 'dg' is not defined"
          ]
        }
      ]
    },
    {
      "cell_type": "code",
      "source": [
        "# 4.8 Running above example one can see that the effect is different,\n",
        "#     seemingly somewhat darkening and lightening different digits."
      ],
      "metadata": {
        "id": "x2UnhzxVaaDc"
      },
      "execution_count": null,
      "outputs": []
    },
    {
      "cell_type": "markdown",
      "source": [
        "## Rerieve data again"
      ],
      "metadata": {
        "id": "XpL1M0Bk9ujK"
      }
    },
    {
      "cell_type": "code",
      "metadata": {
        "id": "sQ_OxUgsryhI",
        "colab": {
          "base_uri": "https://localhost:8080/"
        },
        "outputId": "99b264e8-5170-49ab-99a5-7ab66aaa8631"
      },
      "source": [
        "# 5.1 Let us retrieve/reshape again X_train, y_train\n",
        "#     from original data\n",
        "x_tr.shape\n",
        "X_train = x_tr.reshape(60000, 28, 28,1)\n",
        "X_test = x_te.reshape(10000,  28, 28,1)\n",
        "X_train = X_train.astype('float32')\n",
        "X_test = X_test.astype('float32')\n",
        "X_train = X_train[:400,...]\n",
        "y_train = y_tr[:400,...]"
      ],
      "execution_count": null,
      "outputs": [
        {
          "output_type": "execute_result",
          "data": {
            "text/plain": [
              "(60000, 28, 28)"
            ]
          },
          "metadata": {},
          "execution_count": 33
        }
      ]
    },
    {
      "cell_type": "code",
      "metadata": {
        "id": "HkeFMiQWr3Z_",
        "colab": {
          "base_uri": "https://localhost:8080/"
        },
        "outputId": "6da11745-5ea8-4f42-ac3f-e30c0d99b119"
      },
      "source": [
        "# 5.2 Reshaped to be [NoOfSamples][width][height][channel]\n",
        "X_train.shape\n",
        "X_test.shape"
      ],
      "execution_count": null,
      "outputs": [
        {
          "output_type": "execute_result",
          "data": {
            "text/plain": [
              "(400, 28, 28, 1)"
            ]
          },
          "metadata": {},
          "execution_count": 34
        },
        {
          "output_type": "execute_result",
          "data": {
            "text/plain": [
              "(10000, 28, 28, 1)"
            ]
          },
          "metadata": {},
          "execution_count": 34
        }
      ]
    },
    {
      "cell_type": "markdown",
      "source": [
        "## Image Data Generator--Rotation"
      ],
      "metadata": {
        "id": "vsTSM5mOaTCD"
      }
    },
    {
      "cell_type": "code",
      "source": [
        "######################## CC ##################################\n",
        "#### Rotation of images"
      ],
      "metadata": {
        "id": "BKhT8zgOaWp7"
      },
      "execution_count": null,
      "outputs": []
    },
    {
      "cell_type": "code",
      "metadata": {
        "id": "wtsroQkMr62c"
      },
      "source": [
        "# 6\n",
        "## DD. Random Rotations\n",
        "# Sometimes images in sample data may have varying and different rotations in the scene.\n",
        "#  One can train one's model to better handle rotations of images by artificially and randomly\n",
        "#   rotating images from dataset during training.\n",
        "\n",
        "# 6.1 Define data preparation\n",
        "dx = ImageDataGenerator(\n",
        "                            rotation_range=90\n",
        "                            )\n",
        "\n",
        "# 6.2 Fit parameters on our small data only (400 images)\n",
        "#datagen.fit(X_train)"
      ],
      "execution_count": null,
      "outputs": []
    },
    {
      "cell_type": "code",
      "metadata": {
        "id": "ZHHz1RFxr7i_",
        "colab": {
          "base_uri": "https://localhost:8080/",
          "height": 268
        },
        "outputId": "32729196-f388-4ea2-fca9-8b4dcae94ad2"
      },
      "source": [
        "# 6.4\n",
        "plot_images(dx)"
      ],
      "execution_count": null,
      "outputs": [
        {
          "output_type": "display_data",
          "data": {
            "text/plain": [
              "<Figure size 432x288 with 9 Axes>"
            ],
            "image/png": "[encoded data removed]"
          },
          "metadata": {
            "needs_background": "light"
          }
        }
      ]
    },
    {
      "cell_type": "markdown",
      "source": [
        "## Image Data Generator--Random shifts"
      ],
      "metadata": {
        "id": "TZDCMZz99yvw"
      }
    },
    {
      "cell_type": "code",
      "metadata": {
        "id": "U6RSa05xr9-c"
      },
      "source": [
        "# 7\n",
        "## E. Random Shifts\n",
        "#     Objects in images may not be centered in the frame. They may be off-center\n",
        "#     in a variety of different ways. One can train deep learning network to expect\n",
        "#     and currently handle off-center objects by artificially creating shifted versions\n",
        "#     of training data. Keras supports separate horizontal and vertical random shifting\n",
        "#     of training data by the width_shift_range and height_shift_range arguments.\n"
      ],
      "execution_count": null,
      "outputs": []
    },
    {
      "cell_type": "code",
      "metadata": {
        "id": "F9XJW5TBsBUs"
      },
      "source": [
        "# 7.1 Define shift values, horizontal and vertical\n",
        "shift1 = 0.2\n",
        "shift2 = 0.3\n",
        "dd = ImageDataGenerator(\n",
        "                             width_shift_range=shift1,     # Horizontal shift\n",
        "                             height_shift_range=shift2     # Vertical shift\n",
        "                             )\n",
        "# 7.2 Learn data\n",
        "#datagen.fit(X_train)"
      ],
      "execution_count": null,
      "outputs": []
    },
    {
      "cell_type": "code",
      "metadata": {
        "id": "yK-_gRhusE5I",
        "colab": {
          "base_uri": "https://localhost:8080/",
          "height": 268
        },
        "outputId": "eb21ed2f-6b29-43e4-de2c-5d2c1cc99a63"
      },
      "source": [
        "# 7.3 Configure batch size and retrieve one batch of images\n",
        "plot_images(dd)"
      ],
      "execution_count": null,
      "outputs": [
        {
          "output_type": "display_data",
          "data": {
            "text/plain": [
              "<Figure size 432x288 with 9 Axes>"
            ],
            "image/png": "[encoded data removed]"
          },
          "metadata": {
            "needs_background": "light"
          }
        }
      ]
    },
    {
      "cell_type": "markdown",
      "source": [
        "## Image Data Generator--Random flips"
      ],
      "metadata": {
        "id": "woEyR4_Y924J"
      }
    },
    {
      "cell_type": "code",
      "metadata": {
        "id": "Eicyv1JzsKay"
      },
      "source": [
        "# 8\n",
        "## F. Random Flips\n",
        "#       Another augmentation to image data that can improve performance on\n",
        "#       large and complex problems is to create random flips of images in\n",
        "#       training data.  Keras supports random flipping along both the vertical\n",
        "#       and horizontal axes using the vertical_flip and horizontal_flip arguments.\n",
        "\n",
        "# 8.1 Define data preparation\n",
        "dy = ImageDataGenerator(\n",
        "                             horizontal_flip=True,\n",
        "                             vertical_flip=True,\n",
        "                            )\n",
        "\n",
        "# 8.2 Learn data\n",
        "#datagen.fit(X_train)"
      ],
      "execution_count": null,
      "outputs": []
    },
    {
      "cell_type": "code",
      "metadata": {
        "id": "g7el-vxzsLEq",
        "colab": {
          "base_uri": "https://localhost:8080/",
          "height": 268
        },
        "outputId": "8763f0e2-c283-43d7-ab1d-212028dcc009"
      },
      "source": [
        "# 8.3 Configure batch size and retrieve one batch of images\n",
        "plot_images(dy)"
      ],
      "execution_count": null,
      "outputs": [
        {
          "output_type": "display_data",
          "data": {
            "text/plain": [
              "<Figure size 432x288 with 9 Axes>"
            ],
            "image/png": "[encoded data removed]"
          },
          "metadata": {
            "needs_background": "light"
          }
        }
      ]
    },
    {
      "cell_type": "markdown",
      "source": [
        "## Image Data Generaor--All in one"
      ],
      "metadata": {
        "id": "bM-tPmsk9_a0"
      }
    },
    {
      "cell_type": "code",
      "metadata": {
        "id": "zIzJneVesN9x"
      },
      "source": [
        "# 9\n",
        "## G. Mixed. All in one.\n",
        "#       Another augmentation to image data that can improve performance on\n",
        "#       large and complex problems is to create random flips of images in\n",
        "#       training data.  Keras supports random flipping along both the vertical\n",
        "#       and horizontal axes using the vertical_flip and horizontal_flip arguments.\n",
        "\n",
        "shift1 = 0.2\n",
        "shift2 = 0.3\n",
        "# 9.1 Define data preparation. All are applied in some measure\n",
        "dai = ImageDataGenerator(\n",
        "                             horizontal_flip=True,\n",
        "                             vertical_flip=True,\n",
        "                             width_shift_range=shift1,     # Horizontal shift\n",
        "                             height_shift_range=shift2,     # Vertical shift\n",
        "                             rotation_range=90,\n",
        "                             zoom_range = 2.0,\n",
        "                             shear_range = 30             # Shear angle in counter-clockwise direction in degrees\n",
        "                            )\n",
        "# 9.2 Learn data\n",
        "dai.fit(X_train)"
      ],
      "execution_count": null,
      "outputs": []
    },
    {
      "cell_type": "code",
      "metadata": {
        "id": "kJTrraowsRJs",
        "colab": {
          "base_uri": "https://localhost:8080/",
          "height": 519
        },
        "outputId": "ea03d34e-c06b-4ebf-d8a2-75fa1a58dc44"
      },
      "source": [
        "# 9.3 Configure batch size and retrieve one batch of images\n",
        "plot_images(dai)\n",
        "plot_images(dai)"
      ],
      "execution_count": null,
      "outputs": [
        {
          "output_type": "display_data",
          "data": {
            "text/plain": [
              "<Figure size 432x288 with 9 Axes>"
            ],
            "image/png": "[encoded data removed]"
          },
          "metadata": {
            "needs_background": "light"
          }
        },
        {
          "output_type": "display_data",
          "data": {
            "text/plain": [
              "<Figure size 432x288 with 9 Axes>"
            ],
            "image/png": "[encoded data removed]"
          },
          "metadata": {
            "needs_background": "light"
          }
        }
      ]
    },
    {
      "cell_type": "code",
      "metadata": {
        "id": "_J8nQtxjsZcQ"
      },
      "source": [
        "############ I am done"
      ],
      "execution_count": null,
      "outputs": []
    },
    {
      "cell_type": "markdown",
      "source": [
        "## Misc"
      ],
      "metadata": {
        "id": "lNquj0dG-D1p"
      }
    },
    {
      "cell_type": "code",
      "metadata": {
        "id": "GnKlorOjscHZ",
        "outputId": "7993e982-12f2-4cb7-8550-a6df8e5fcae7",
        "colab": {
          "base_uri": "https://localhost:8080/",
          "height": 130
        }
      },
      "source": [
        "###################### DD. #############################################\n",
        "\n",
        "# 9\n",
        "## F. Saving Augmented Images to File\n",
        "#      The data preparation and augmentation is performed just in time by Keras.\n",
        "#      This is efficient in terms of memory, but one may require the exact images\n",
        "#      used during training. For example, perhaps one would like to use them with\n",
        "#      a different software package later or only generate them once and use them\n",
        "#      on multiple different deep learning models or configurations.\n",
        "#      Keras allows you to save the images generated during training. The directory,\n",
        "#      filename prefix and image file type can be specified to the flow() function\n",
        "#      before training.\n",
        "\n",
        "# 9.1 Define data preparation. All default parameter values\n",
        "datagen = ImageDataGenerator()\n",
        "\n",
        "# 9.2 Learn data statistics\n",
        "datagen.fit(X_train)\n",
        "\n",
        "# 9.3 Configure batch size and retrieve one batch of images\n",
        "#dir = \"/home/ashok/useless\"\n",
        "dir = \"C:\\\\Users\\\\ashok\\\\useless\"\n",
        "\n",
        "# 9.4 Make directory\n",
        "#os.system('rm -rf  /home/ashok/useless')\n",
        "os.mkdir(\"C:\\\\Users\\\\ashok\\\\useless\")\n",
        "\n",
        "\n",
        "# 9.5 Generator iterator.\n",
        "#     Generate images on-the-fy\n",
        "data_iterator = datagen.flow(X_train,\n",
        "                             y_train,\n",
        "                             batch_size=9,\n",
        "                             save_to_dir=dir,\n",
        "                             save_prefix='aug',\n",
        "                             save_format='png'\n",
        "                             )\n",
        "\n",
        "# 9.6 Generate and save\n",
        "for X_batch, y_batch in data_iterator:\n",
        "\t# create a grid of 3x3 images\n",
        "\tfor i in range(0, 9):\n",
        "\t\tplt.subplot(330 + 1 + i)\n",
        "\t\tplt.imshow(X_batch[i].reshape(28, 28), cmap=plt.get_cmap('gray'))\n",
        "\t# show the plot\n",
        "\tplt.show()\n",
        "    break\n",
        "\n",
        "########################\n"
      ],
      "execution_count": null,
      "outputs": [
        {
          "output_type": "error",
          "ename": "IndentationError",
          "evalue": "ignored",
          "traceback": [
            "\u001b[0;36m  File \u001b[0;32m\"<tokenize>\"\u001b[0;36m, line \u001b[0;32m47\u001b[0m\n\u001b[0;31m    break\u001b[0m\n\u001b[0m    ^\u001b[0m\n\u001b[0;31mIndentationError\u001b[0m\u001b[0;31m:\u001b[0m unindent does not match any outer indentation level\n"
          ]
        }
      ]
    },
    {
      "cell_type": "code",
      "metadata": {
        "id": "QK93XfJhsc00",
        "outputId": "72de35f0-ab71-4a17-970e-eec82e55b250",
        "colab": {
          "base_uri": "https://localhost:8080/",
          "height": 927
        }
      },
      "source": [
        "# Supplementary Exercises:\n",
        "# 1.\n",
        "import numpy as np\n",
        "x = np.linspace(-np.pi, +np.pi, 100)\n",
        "for i in range(0,9):\n",
        "\tplt.subplot(520+i+1)\n",
        "\tplt.plot(x+i*10, np.sin(x+i*10))\n",
        "\n",
        "plt.show()\n",
        "\n",
        "\n",
        "\n",
        "# 2.0\n",
        "x = np.random.randint(low = 0, high = 1000, size = (4,5))\n",
        "x\n",
        "x.shape\n",
        "y = x.reshape((4,5,1))\n",
        "y.shape\n",
        "y\n",
        "# 2.1\n",
        "y.dtype\n",
        "y = y.astype('float64')\n",
        "y.shape\n"
      ],
      "execution_count": null,
      "outputs": [
        {
          "output_type": "execute_result",
          "data": {
            "text/plain": [
              "<matplotlib.axes._subplots.AxesSubplot at 0x7f882b0c71f0>"
            ]
          },
          "metadata": {},
          "execution_count": 48
        },
        {
          "output_type": "execute_result",
          "data": {
            "text/plain": [
              "[<matplotlib.lines.Line2D at 0x7f882b11b3d0>]"
            ]
          },
          "metadata": {},
          "execution_count": 48
        },
        {
          "output_type": "execute_result",
          "data": {
            "text/plain": [
              "<matplotlib.axes._subplots.AxesSubplot at 0x7f882b11b130>"
            ]
          },
          "metadata": {},
          "execution_count": 48
        },
        {
          "output_type": "execute_result",
          "data": {
            "text/plain": [
              "[<matplotlib.lines.Line2D at 0x7f882b0a0d90>]"
            ]
          },
          "metadata": {},
          "execution_count": 48
        },
        {
          "output_type": "execute_result",
          "data": {
            "text/plain": [
              "<matplotlib.axes._subplots.AxesSubplot at 0x7f882b0a0c40>"
            ]
          },
          "metadata": {},
          "execution_count": 48
        },
        {
          "output_type": "execute_result",
          "data": {
            "text/plain": [
              "[<matplotlib.lines.Line2D at 0x7f882b056910>]"
            ]
          },
          "metadata": {},
          "execution_count": 48
        },
        {
          "output_type": "execute_result",
          "data": {
            "text/plain": [
              "<matplotlib.axes._subplots.AxesSubplot at 0x7f882b056820>"
            ]
          },
          "metadata": {},
          "execution_count": 48
        },
        {
          "output_type": "execute_result",
          "data": {
            "text/plain": [
              "[<matplotlib.lines.Line2D at 0x7f882b00d340>]"
            ]
          },
          "metadata": {},
          "execution_count": 48
        },
        {
          "output_type": "execute_result",
          "data": {
            "text/plain": [
              "<matplotlib.axes._subplots.AxesSubplot at 0x7f882b00d1f0>"
            ]
          },
          "metadata": {},
          "execution_count": 48
        },
        {
          "output_type": "execute_result",
          "data": {
            "text/plain": [
              "[<matplotlib.lines.Line2D at 0x7f882afb7e80>]"
            ]
          },
          "metadata": {},
          "execution_count": 48
        },
        {
          "output_type": "execute_result",
          "data": {
            "text/plain": [
              "<matplotlib.axes._subplots.AxesSubplot at 0x7f882afb7ca0>"
            ]
          },
          "metadata": {},
          "execution_count": 48
        },
        {
          "output_type": "execute_result",
          "data": {
            "text/plain": [
              "[<matplotlib.lines.Line2D at 0x7f882afed880>]"
            ]
          },
          "metadata": {},
          "execution_count": 48
        },
        {
          "output_type": "execute_result",
          "data": {
            "text/plain": [
              "<matplotlib.axes._subplots.AxesSubplot at 0x7f882afb7c70>"
            ]
          },
          "metadata": {},
          "execution_count": 48
        },
        {
          "output_type": "execute_result",
          "data": {
            "text/plain": [
              "[<matplotlib.lines.Line2D at 0x7f882afa53d0>]"
            ]
          },
          "metadata": {},
          "execution_count": 48
        },
        {
          "output_type": "execute_result",
          "data": {
            "text/plain": [
              "<matplotlib.axes._subplots.AxesSubplot at 0x7f882afa52e0>"
            ]
          },
          "metadata": {},
          "execution_count": 48
        },
        {
          "output_type": "execute_result",
          "data": {
            "text/plain": [
              "[<matplotlib.lines.Line2D at 0x7f882af50d90>]"
            ]
          },
          "metadata": {},
          "execution_count": 48
        },
        {
          "output_type": "execute_result",
          "data": {
            "text/plain": [
              "<matplotlib.axes._subplots.AxesSubplot at 0x7f882af50fd0>"
            ]
          },
          "metadata": {},
          "execution_count": 48
        },
        {
          "output_type": "execute_result",
          "data": {
            "text/plain": [
              "[<matplotlib.lines.Line2D at 0x7f882af06880>]"
            ]
          },
          "metadata": {},
          "execution_count": 48
        },
        {
          "output_type": "display_data",
          "data": {
            "text/plain": [
              "<Figure size 432x288 with 9 Axes>"
            ],
            "image/png": "[encoded data removed]"
          },
          "metadata": {
            "needs_background": "light"
          }
        },
        {
          "output_type": "execute_result",
          "data": {
            "text/plain": [
              "array([[549,   9, 309, 346, 164],\n",
              "       [528, 658, 435, 191,  83],\n",
              "       [891, 546, 637, 121, 842],\n",
              "       [515, 549, 501, 117, 828]])"
            ]
          },
          "metadata": {},
          "execution_count": 48
        },
        {
          "output_type": "execute_result",
          "data": {
            "text/plain": [
              "(4, 5)"
            ]
          },
          "metadata": {},
          "execution_count": 48
        },
        {
          "output_type": "execute_result",
          "data": {
            "text/plain": [
              "(4, 5, 1)"
            ]
          },
          "metadata": {},
          "execution_count": 48
        },
        {
          "output_type": "execute_result",
          "data": {
            "text/plain": [
              "array([[[549],\n",
              "        [  9],\n",
              "        [309],\n",
              "        [346],\n",
              "        [164]],\n",
              "\n",
              "       [[528],\n",
              "        [658],\n",
              "        [435],\n",
              "        [191],\n",
              "        [ 83]],\n",
              "\n",
              "       [[891],\n",
              "        [546],\n",
              "        [637],\n",
              "        [121],\n",
              "        [842]],\n",
              "\n",
              "       [[515],\n",
              "        [549],\n",
              "        [501],\n",
              "        [117],\n",
              "        [828]]])"
            ]
          },
          "metadata": {},
          "execution_count": 48
        },
        {
          "output_type": "execute_result",
          "data": {
            "text/plain": [
              "dtype('int64')"
            ]
          },
          "metadata": {},
          "execution_count": 48
        },
        {
          "output_type": "execute_result",
          "data": {
            "text/plain": [
              "(4, 5, 1)"
            ]
          },
          "metadata": {},
          "execution_count": 48
        }
      ]
    },
    {
      "cell_type": "code",
      "metadata": {
        "id": "HA9AnrDbsgVh"
      },
      "source": [
        "\n",
        "######################## About ZCA whitening ###########################\n",
        "\n",
        "##    ZCA Whitening (\"Mahalanobis transformation\")\n",
        "#     What is whitening? See: 1. http://cs231n.github.io/neural-networks-2/\n",
        "#                             2. https://en.wikipedia.org/wiki/Whitening_transformation\n",
        "#     Whitening is something like PCA\n",
        "#     A whitening transformation is a linear transformation (as PCA is) that transforms\n",
        "#     a dataset with a known covariance matrix into a set of new variables whose\n",
        "#     covariance is the identity matrix, meaning that they are uncorrelated and each\n",
        "#     have variance 1.\n",
        "#     The transformation is called \"whitening\" because it changes the input vector\n",
        "#     into a white noise vector.\n",
        "#     Less redundancy in the image is intended to better highlight the structures\n",
        "#     and features in the image to the learning algorithm. See some images at this link:\n",
        "#     https://stats.stackexchange.com/a/117459\n",
        "\n",
        "## Impt Note: Before experimenting EXIT IPYTHON. Execute AA; Jump BB and then come to CC.\n",
        "#########################################################################\n"
      ],
      "execution_count": null,
      "outputs": []
    },
    {
      "cell_type": "code",
      "metadata": {
        "id": "G-1eVpMIsi9V",
        "outputId": "4b56b757-00eb-4843-b983-7d2cf13657af",
        "colab": {
          "base_uri": "https://localhost:8080/",
          "height": 227
        }
      },
      "source": [
        "\n",
        "\"\"\"\n",
        "Using ImageDataGenerator without fitting\n",
        "========================================\n",
        "\n",
        "Ref: https://stackoverflow.com/questions/46705600/keras-fit-image-augmentations-to-training-data-using-flow-from-directory\n",
        "     https://github.com/keras-team/keras/issues/68\n",
        "\n",
        "Just try to use the following object with zca_whitening:\n",
        "\n",
        "train_datagen = ImageDataGenerator(\n",
        "                                    rescale=1. / 255,    # Normalize colour intensities in 0-1 range\n",
        "                                    shear_range=0.2,     # Shear varies from 0-0.2\n",
        "                                    zoom_range=0.2,\n",
        "                                    horizontal_flip=True,\n",
        "                                    preprocessing_function=preprocess,\n",
        "                                    featurewise_center=True,\n",
        "                                    zca_whitening=True\n",
        "                                  )\n",
        "\n",
        "When you do so set epochs to 1 in model.fit_generator.\n",
        "The fitting process starts with a warning:\n",
        "\n",
        "`zca_whitening`, but it hasn't been fit on any training data. Fit it first by calling `.fit(numpy_data)\n",
        "\n",
        "As data is huge, fit can be called on a sample, as:\n",
        "train_datagen .fit(X_sample)  # where X_sample is a small but random sample of your data\n",
        "\n",
        "zca is a technique to remove 'common information'\n",
        "between pixels. Consider this: We have a rectangle\n",
        "which is filled with white colour inside and outside\n",
        "colour is totally black. That is we have a black\n",
        "rectangle on which is superimposed white rectangle.\n",
        "If common information is removed, result will be\n",
        "just a 'white-boundary' of inner rectangle and\n",
        "both outside and inside of it completely black. We\n",
        "have, therefore, a sort of embossed picture.\n",
        "\n",
        "\"\"\""
      ],
      "execution_count": null,
      "outputs": [
        {
          "output_type": "execute_result",
          "data": {
            "text/plain": [
              "\"\\nUsing ImageDataGenerator without fitting\\n========================================\\n\\nRef: https://stackoverflow.com/questions/46705600/keras-fit-image-augmentations-to-training-data-using-flow-from-directory\\n     https://github.com/keras-team/keras/issues/68\\n\\nJust try to use the following object with zca_whitening:\\n\\ntrain_datagen = ImageDataGenerator(\\n                                    rescale=1. / 255,    # Normalize colour intensities in 0-1 range\\n                                    shear_range=0.2,     # Shear varies from 0-0.2\\n                                    zoom_range=0.2,\\n                                    horizontal_flip=True,\\n                                    preprocessing_function=preprocess,\\n                                    featurewise_center=True,\\n                                    zca_whitening=True\\n                                  )\\n\\nWhen you do so set epochs to 1 in model.fit_generator.\\nThe fitting process starts with a warning:\\n\\n`zca_whitening`, but it hasn't been fit on any training data. Fit it first by calling `.fit(numpy_data)\\n\\nAs data is huge, fit can be called on a sample, as:\\ntrain_datagen .fit(X_sample)  # where X_sample is a small but random sample of your data\\n\\nzca is a technique to remove 'common information'\\nbetween pixels. Consider this: We have a rectangle\\nwhich is filled with white colour inside and outside\\ncolour is totally black. That is we have a black\\nrectangle on which is superimposed white rectangle.\\nIf common information is removed, result will be\\njust a 'white-boundary' of inner rectangle and\\nboth outside and inside of it completely black. We\\nhave, therefore, a sort of embossed picture.\\n\\n\""
            ],
            "application/vnd.google.colaboratory.intrinsic+json": {
              "type": "string"
            }
          },
          "metadata": {},
          "execution_count": 50
        }
      ]
    },
    {
      "cell_type": "code",
      "metadata": {
        "id": "GvELAhLK0osw"
      },
      "source": [
        "## My rough work"
      ],
      "execution_count": null,
      "outputs": []
    },
    {
      "cell_type": "code",
      "metadata": {
        "id": "-fU25Hna0tS2"
      },
      "source": [
        "import tensorflow as tf\n",
        "from tensorflow import keras\n",
        "from tensorflow.keras.datasets import mnist\n"
      ],
      "execution_count": null,
      "outputs": []
    },
    {
      "cell_type": "code",
      "metadata": {
        "id": "iXMZFkNDHkt_"
      },
      "source": [
        "from keras.preprocessing.image import ImageDataGenerator\n",
        "import matplotlib.pyplot as plt"
      ],
      "execution_count": null,
      "outputs": []
    },
    {
      "cell_type": "code",
      "metadata": {
        "id": "XU0uNWqGHvPx"
      },
      "source": [
        "(x_train, y_train), (x_test,y_test) = mnist.load_data()"
      ],
      "execution_count": null,
      "outputs": []
    },
    {
      "cell_type": "code",
      "metadata": {
        "colab": {
          "base_uri": "https://localhost:8080/"
        },
        "id": "tkRzKp16IJQy",
        "outputId": "4a971f38-a8a6-4f33-ea79-8d660bf87299"
      },
      "source": [
        "x_train.shape  # (60000, 28, 28)\n",
        "x_test.shape"
      ],
      "execution_count": null,
      "outputs": [
        {
          "output_type": "execute_result",
          "data": {
            "text/plain": [
              "(60000, 28, 28)"
            ]
          },
          "metadata": {},
          "execution_count": 55
        },
        {
          "output_type": "execute_result",
          "data": {
            "text/plain": [
              "(10000, 28, 28)"
            ]
          },
          "metadata": {},
          "execution_count": 55
        }
      ]
    },
    {
      "cell_type": "code",
      "metadata": {
        "colab": {
          "base_uri": "https://localhost:8080/",
          "height": 282
        },
        "id": "z2-55OiqJXFh",
        "outputId": "c9d50cda-a75c-44d2-f575-07cf629910f2"
      },
      "source": [
        "fig = plt.figure()\n",
        "plt.imshow(x_train[1])\n",
        "x_train[1].shape"
      ],
      "execution_count": null,
      "outputs": [
        {
          "output_type": "execute_result",
          "data": {
            "text/plain": [
              "<matplotlib.image.AxesImage at 0x7f882ae762b0>"
            ]
          },
          "metadata": {},
          "execution_count": 56
        },
        {
          "output_type": "execute_result",
          "data": {
            "text/plain": [
              "(28, 28)"
            ]
          },
          "metadata": {},
          "execution_count": 56
        },
        {
          "output_type": "display_data",
          "data": {
            "text/plain": [
              "<Figure size 432x288 with 1 Axes>"
            ],
            "image/png": "[encoded data removed]"
          },
          "metadata": {
            "needs_background": "light"
          }
        }
      ]
    },
    {
      "cell_type": "code",
      "metadata": {
        "id": "Dx-zRiRRKwMy"
      },
      "source": [
        "shift1 = 0.2\n",
        "shift2 = 0.3\n",
        "datagen = ImageDataGenerator(horizontal_flip=True,\n",
        "                             vertical_flip=True,\n",
        "                             width_shift_range=shift1,     # Horizontal shift\n",
        "                             height_shift_range=shift2,     # Vertical shift\n",
        "                             rotation_range=90,\n",
        "                             zoom_range = 2.0,\n",
        "                             shear_range = 30   )"
      ],
      "execution_count": null,
      "outputs": []
    },
    {
      "cell_type": "code",
      "metadata": {
        "colab": {
          "base_uri": "https://localhost:8080/"
        },
        "id": "ycIOn1aPMx94",
        "outputId": "b582479a-ff98-4498-afee-ccab6d00cb71"
      },
      "source": [
        "x_train = x_train.reshape(-1, 28,28,1)\n",
        "x_train.shape"
      ],
      "execution_count": null,
      "outputs": [
        {
          "output_type": "execute_result",
          "data": {
            "text/plain": [
              "(60000, 28, 28, 1)"
            ]
          },
          "metadata": {},
          "execution_count": 58
        }
      ]
    },
    {
      "cell_type": "code",
      "metadata": {
        "id": "EhHoQfbbMomp"
      },
      "source": [
        "dx = datagen.fit(x_train)"
      ],
      "execution_count": null,
      "outputs": []
    },
    {
      "cell_type": "code",
      "metadata": {
        "colab": {
          "base_uri": "https://localhost:8080/"
        },
        "id": "oLUEljPyND-i",
        "outputId": "e96ca314-03d5-4fb9-f1ad-105febeaec4f"
      },
      "source": [
        "type(dx)"
      ],
      "execution_count": null,
      "outputs": [
        {
          "output_type": "execute_result",
          "data": {
            "text/plain": [
              "NoneType"
            ]
          },
          "metadata": {},
          "execution_count": 60
        }
      ]
    },
    {
      "cell_type": "code",
      "metadata": {
        "id": "yBJJN4dQM6HF"
      },
      "source": [
        "abc = datagen.flow(x_train,y_train, batch_size = 32)"
      ],
      "execution_count": null,
      "outputs": []
    },
    {
      "cell_type": "code",
      "metadata": {
        "id": "7Do-yNuWNkdQ"
      },
      "source": [
        "batch = next(abc)"
      ],
      "execution_count": null,
      "outputs": []
    },
    {
      "cell_type": "code",
      "metadata": {
        "colab": {
          "base_uri": "https://localhost:8080/"
        },
        "id": "IqwzfmK2NqV1",
        "outputId": "cfced608-3f75-407f-a5e2-5b7d59eb61ae"
      },
      "source": [
        "len(batch)   # 2"
      ],
      "execution_count": null,
      "outputs": [
        {
          "output_type": "execute_result",
          "data": {
            "text/plain": [
              "2"
            ]
          },
          "metadata": {},
          "execution_count": 63
        }
      ]
    },
    {
      "cell_type": "code",
      "metadata": {
        "colab": {
          "base_uri": "https://localhost:8080/"
        },
        "id": "0tBl6j3CNy_b",
        "outputId": "996d5516-9f42-4862-ccc0-d05c30d04738"
      },
      "source": [
        "batch[0].shape"
      ],
      "execution_count": null,
      "outputs": [
        {
          "output_type": "execute_result",
          "data": {
            "text/plain": [
              "(32, 28, 28, 1)"
            ]
          },
          "metadata": {},
          "execution_count": 64
        }
      ]
    },
    {
      "cell_type": "code",
      "metadata": {
        "id": "bkkD5rUoN3Br",
        "outputId": "d60707b1-0734-4ae4-8aba-2fa6333dba64",
        "colab": {
          "base_uri": "https://localhost:8080/",
          "height": 130
        }
      },
      "source": [
        "for X_batch, y_batch in abc:\n",
        "\t# create a grid of 3x3 images\n",
        "\tfor i in range(0, 9):\n",
        "\t\tplt.subplot(330 + 1 + i)\n",
        "\t\tplt.imshow(X_batch[i].reshape(28, 28), cmap=plt.get_cmap('gray'))\n",
        "    # show the plot\n",
        "    plt.show()\n",
        "    break"
      ],
      "execution_count": null,
      "outputs": [
        {
          "output_type": "error",
          "ename": "IndentationError",
          "evalue": "ignored",
          "traceback": [
            "\u001b[0;36m  File \u001b[0;32m\"<tokenize>\"\u001b[0;36m, line \u001b[0;32m7\u001b[0m\n\u001b[0;31m    plt.show()\u001b[0m\n\u001b[0m    ^\u001b[0m\n\u001b[0;31mIndentationError\u001b[0m\u001b[0;31m:\u001b[0m unindent does not match any outer indentation level\n"
          ]
        }
      ]
    },
    {
      "cell_type": "code",
      "metadata": {
        "id": "eCrfsM10I_PH",
        "outputId": "d36fbdbf-0a0d-4546-b096-6980b47315cd",
        "colab": {
          "base_uri": "https://localhost:8080/"
        }
      },
      "source": [
        "help(ImageDataGenerator)"
      ],
      "execution_count": null,
      "outputs": [
        {
          "output_type": "stream",
          "name": "stdout",
          "text": [
            "Help on class ImageDataGenerator in module keras.preprocessing.image:\n",
            "\n",
            "class ImageDataGenerator(builtins.object)\n",
            " |  ImageDataGenerator(featurewise_center=False, samplewise_center=False, featurewise_std_normalization=False, samplewise_std_normalization=False, zca_whitening=False, zca_epsilon=1e-06, rotation_range=0, width_shift_range=0.0, height_shift_range=0.0, brightness_range=None, shear_range=0.0, zoom_range=0.0, channel_shift_range=0.0, fill_mode='nearest', cval=0.0, horizontal_flip=False, vertical_flip=False, rescale=None, preprocessing_function=None, data_format=None, validation_split=0.0, interpolation_order=1, dtype=None)\n",
            " |  \n",
            " |  Generate batches of tensor image data with real-time data augmentation.\n",
            " |  \n",
            " |  Deprecated: `tf.keras.preprocessing.image.ImageDataGenerator` is not\n",
            " |  recommended for new code. Prefer loading images with\n",
            " |  `tf.keras.utils.image_dataset_from_directory` and transforming the output\n",
            " |  `tf.data.Dataset` with preprocessing layers. For more information, see the\n",
            " |  tutorials for [loading images](\n",
            " |  https://www.tensorflow.org/tutorials/load_data/images) and\n",
            " |  [augmenting images](\n",
            " |  https://www.tensorflow.org/tutorials/images/data_augmentation), as well as\n",
            " |  the [preprocessing layer guide](\n",
            " |  https://www.tensorflow.org/guide/keras/preprocessing_layers).\n",
            " |  \n",
            " |   The data will be looped over (in batches).\n",
            " |  \n",
            " |  Args:\n",
            " |      featurewise_center: Boolean. Set input mean to 0 over the dataset,\n",
            " |        feature-wise.\n",
            " |      samplewise_center: Boolean. Set each sample mean to 0.\n",
            " |      featurewise_std_normalization: Boolean. Divide inputs by std of the\n",
            " |        dataset, feature-wise.\n",
            " |      samplewise_std_normalization: Boolean. Divide each input by its std.\n",
            " |      zca_epsilon: epsilon for ZCA whitening. Default is 1e-6.\n",
            " |      zca_whitening: Boolean. Apply ZCA whitening.\n",
            " |      rotation_range: Int. Degree range for random rotations.\n",
            " |      width_shift_range: Float, 1-D array-like or int\n",
            " |          - float: fraction of total width, if < 1, or pixels if >= 1.\n",
            " |          - 1-D array-like: random elements from the array.\n",
            " |          - int: integer number of pixels from interval `(-width_shift_range,\n",
            " |            +width_shift_range)` - With `width_shift_range=2` possible values\n",
            " |            are integers `[-1, 0, +1]`, same as with `width_shift_range=[-1, 0,\n",
            " |            +1]`, while with `width_shift_range=1.0` possible values are floats\n",
            " |            in the interval [-1.0, +1.0).\n",
            " |      height_shift_range: Float, 1-D array-like or int\n",
            " |          - float: fraction of total height, if < 1, or pixels if >= 1.\n",
            " |          - 1-D array-like: random elements from the array.\n",
            " |          - int: integer number of pixels from interval `(-height_shift_range,\n",
            " |            +height_shift_range)` - With `height_shift_range=2` possible values\n",
            " |            are integers `[-1, 0, +1]`, same as with `height_shift_range=[-1, 0,\n",
            " |            +1]`, while with `height_shift_range=1.0` possible values are floats\n",
            " |            in the interval [-1.0, +1.0).\n",
            " |      brightness_range: Tuple or list of two floats. Range for picking a\n",
            " |        brightness shift value from.\n",
            " |      shear_range: Float. Shear Intensity (Shear angle in counter-clockwise\n",
            " |        direction in degrees)\n",
            " |      zoom_range: Float or [lower, upper]. Range for random zoom. If a float,\n",
            " |        `[lower, upper] = [1-zoom_range, 1+zoom_range]`.\n",
            " |      channel_shift_range: Float. Range for random channel shifts.\n",
            " |      fill_mode: One of {\"constant\", \"nearest\", \"reflect\" or \"wrap\"}. Default is\n",
            " |        'nearest'. Points outside the boundaries of the input are filled\n",
            " |          according to the given mode:\n",
            " |          - 'constant': kkkkkkkk|abcd|kkkkkkkk (cval=k)\n",
            " |          - 'nearest':  aaaaaaaa|abcd|dddddddd\n",
            " |          - 'reflect':  abcddcba|abcd|dcbaabcd\n",
            " |          - 'wrap':  abcdabcd|abcd|abcdabcd\n",
            " |      cval: Float or Int. Value used for points outside the boundaries when\n",
            " |        `fill_mode = \"constant\"`.\n",
            " |      horizontal_flip: Boolean. Randomly flip inputs horizontally.\n",
            " |      vertical_flip: Boolean. Randomly flip inputs vertically.\n",
            " |      rescale: rescaling factor. Defaults to None. If None or 0, no rescaling is\n",
            " |        applied, otherwise we multiply the data by the value provided (after\n",
            " |        applying all other transformations).\n",
            " |      preprocessing_function: function that will be applied on each input. The\n",
            " |        function will run after the image is resized and augmented.\n",
            " |          The function should take one argument: one image (Numpy tensor with\n",
            " |            rank 3), and should output a Numpy tensor with the same shape.\n",
            " |      data_format: Image data format, either \"channels_first\" or\n",
            " |        \"channels_last\". \"channels_last\" mode means that the images should have\n",
            " |        shape `(samples, height, width, channels)`, \"channels_first\" mode means\n",
            " |        that the images should have shape `(samples, channels, height, width)`.\n",
            " |        It defaults to the `image_data_format` value found in your Keras config\n",
            " |        file at `~/.keras/keras.json`. If you never set it, then it will be\n",
            " |        \"channels_last\".\n",
            " |      validation_split: Float. Fraction of images reserved for validation\n",
            " |        (strictly between 0 and 1).\n",
            " |      dtype: Dtype to use for the generated arrays.\n",
            " |  \n",
            " |  Raises:\n",
            " |    ValueError: If the value of the argument, `data_format` is other than\n",
            " |          `\"channels_last\"` or `\"channels_first\"`.\n",
            " |    ValueError: If the value of the argument, `validation_split` > 1\n",
            " |          or `validation_split` < 0.\n",
            " |  \n",
            " |  Examples:\n",
            " |  \n",
            " |  Example of using `.flow(x, y)`:\n",
            " |  \n",
            " |  ```python\n",
            " |  (x_train, y_train), (x_test, y_test) = cifar10.load_data()\n",
            " |  y_train = utils.to_categorical(y_train, num_classes)\n",
            " |  y_test = utils.to_categorical(y_test, num_classes)\n",
            " |  datagen = ImageDataGenerator(\n",
            " |      featurewise_center=True,\n",
            " |      featurewise_std_normalization=True,\n",
            " |      rotation_range=20,\n",
            " |      width_shift_range=0.2,\n",
            " |      height_shift_range=0.2,\n",
            " |      horizontal_flip=True,\n",
            " |      validation_split=0.2)\n",
            " |  # compute quantities required for featurewise normalization\n",
            " |  # (std, mean, and principal components if ZCA whitening is applied)\n",
            " |  datagen.fit(x_train)\n",
            " |  # fits the model on batches with real-time data augmentation:\n",
            " |  model.fit(datagen.flow(x_train, y_train, batch_size=32,\n",
            " |           subset='training'),\n",
            " |           validation_data=datagen.flow(x_train, y_train,\n",
            " |           batch_size=8, subset='validation'),\n",
            " |           steps_per_epoch=len(x_train) / 32, epochs=epochs)\n",
            " |  # here's a more \"manual\" example\n",
            " |  for e in range(epochs):\n",
            " |      print('Epoch', e)\n",
            " |      batches = 0\n",
            " |      for x_batch, y_batch in datagen.flow(x_train, y_train, batch_size=32):\n",
            " |          model.fit(x_batch, y_batch)\n",
            " |          batches += 1\n",
            " |          if batches >= len(x_train) / 32:\n",
            " |              # we need to break the loop by hand because\n",
            " |              # the generator loops indefinitely\n",
            " |              break\n",
            " |  ```\n",
            " |  \n",
            " |  Example of using `.flow_from_directory(directory)`:\n",
            " |  \n",
            " |  ```python\n",
            " |  train_datagen = ImageDataGenerator(\n",
            " |          rescale=1./255,\n",
            " |          shear_range=0.2,\n",
            " |          zoom_range=0.2,\n",
            " |          horizontal_flip=True)\n",
            " |  test_datagen = ImageDataGenerator(rescale=1./255)\n",
            " |  train_generator = train_datagen.flow_from_directory(\n",
            " |          'data/train',\n",
            " |          target_size=(150, 150),\n",
            " |          batch_size=32,\n",
            " |          class_mode='binary')\n",
            " |  validation_generator = test_datagen.flow_from_directory(\n",
            " |          'data/validation',\n",
            " |          target_size=(150, 150),\n",
            " |          batch_size=32,\n",
            " |          class_mode='binary')\n",
            " |  model.fit(\n",
            " |          train_generator,\n",
            " |          steps_per_epoch=2000,\n",
            " |          epochs=50,\n",
            " |          validation_data=validation_generator,\n",
            " |          validation_steps=800)\n",
            " |  ```\n",
            " |  \n",
            " |  Example of transforming images and masks together.\n",
            " |  \n",
            " |  ```python\n",
            " |  # we create two instances with the same arguments\n",
            " |  data_gen_args = dict(featurewise_center=True,\n",
            " |                       featurewise_std_normalization=True,\n",
            " |                       rotation_range=90,\n",
            " |                       width_shift_range=0.1,\n",
            " |                       height_shift_range=0.1,\n",
            " |                       zoom_range=0.2)\n",
            " |  image_datagen = ImageDataGenerator(**data_gen_args)\n",
            " |  mask_datagen = ImageDataGenerator(**data_gen_args)\n",
            " |  # Provide the same seed and keyword arguments to the fit and flow methods\n",
            " |  seed = 1\n",
            " |  image_datagen.fit(images, augment=True, seed=seed)\n",
            " |  mask_datagen.fit(masks, augment=True, seed=seed)\n",
            " |  image_generator = image_datagen.flow_from_directory(\n",
            " |      'data/images',\n",
            " |      class_mode=None,\n",
            " |      seed=seed)\n",
            " |  mask_generator = mask_datagen.flow_from_directory(\n",
            " |      'data/masks',\n",
            " |      class_mode=None,\n",
            " |      seed=seed)\n",
            " |  # combine generators into one which yields image and masks\n",
            " |  train_generator = zip(image_generator, mask_generator)\n",
            " |  model.fit(\n",
            " |      train_generator,\n",
            " |      steps_per_epoch=2000,\n",
            " |      epochs=50)\n",
            " |  ```\n",
            " |  \n",
            " |  Methods defined here:\n",
            " |  \n",
            " |  __init__(self, featurewise_center=False, samplewise_center=False, featurewise_std_normalization=False, samplewise_std_normalization=False, zca_whitening=False, zca_epsilon=1e-06, rotation_range=0, width_shift_range=0.0, height_shift_range=0.0, brightness_range=None, shear_range=0.0, zoom_range=0.0, channel_shift_range=0.0, fill_mode='nearest', cval=0.0, horizontal_flip=False, vertical_flip=False, rescale=None, preprocessing_function=None, data_format=None, validation_split=0.0, interpolation_order=1, dtype=None)\n",
            " |      Initialize self.  See help(type(self)) for accurate signature.\n",
            " |  \n",
            " |  apply_transform(self, x, transform_parameters)\n",
            " |      Applies a transformation to an image according to given parameters.\n",
            " |      \n",
            " |      Args:\n",
            " |          x: 3D tensor, single image.\n",
            " |          transform_parameters: Dictionary with string - parameter pairs\n",
            " |              describing the transformation.\n",
            " |              Currently, the following parameters\n",
            " |              from the dictionary are used:\n",
            " |              - `'theta'`: Float. Rotation angle in degrees.\n",
            " |              - `'tx'`: Float. Shift in the x direction.\n",
            " |              - `'ty'`: Float. Shift in the y direction.\n",
            " |              - `'shear'`: Float. Shear angle in degrees.\n",
            " |              - `'zx'`: Float. Zoom in the x direction.\n",
            " |              - `'zy'`: Float. Zoom in the y direction.\n",
            " |              - `'flip_horizontal'`: Boolean. Horizontal flip.\n",
            " |              - `'flip_vertical'`: Boolean. Vertical flip.\n",
            " |              - `'channel_shift_intensity'`: Float. Channel shift intensity.\n",
            " |              - `'brightness'`: Float. Brightness shift intensity.\n",
            " |      \n",
            " |      Returns:\n",
            " |          A transformed version of the input (same shape).\n",
            " |  \n",
            " |  fit(self, x, augment=False, rounds=1, seed=None)\n",
            " |      Fits the data generator to some sample data.\n",
            " |      \n",
            " |      This computes the internal data stats related to the\n",
            " |      data-dependent transformations, based on an array of sample data.\n",
            " |      \n",
            " |      Only required if `featurewise_center` or\n",
            " |      `featurewise_std_normalization` or `zca_whitening` are set to True.\n",
            " |      \n",
            " |      When `rescale` is set to a value, rescaling is applied to\n",
            " |      sample data before computing the internal data stats.\n",
            " |      \n",
            " |      Args:\n",
            " |          x: Sample data. Should have rank 4.\n",
            " |           In case of grayscale data,\n",
            " |           the channels axis should have value 1, in case\n",
            " |           of RGB data, it should have value 3, and in case\n",
            " |           of RGBA data, it should have value 4.\n",
            " |          augment: Boolean (default: False).\n",
            " |              Whether to fit on randomly augmented samples.\n",
            " |          rounds: Int (default: 1).\n",
            " |              If using data augmentation (`augment=True`),\n",
            " |              this is how many augmentation passes over the data to use.\n",
            " |          seed: Int (default: None). Random seed.\n",
            " |  \n",
            " |  flow(self, x, y=None, batch_size=32, shuffle=True, sample_weight=None, seed=None, save_to_dir=None, save_prefix='', save_format='png', ignore_class_split=False, subset=None)\n",
            " |      Takes data & label arrays, generates batches of augmented data.\n",
            " |      \n",
            " |      Args:\n",
            " |          x: Input data. Numpy array of rank 4 or a tuple. If tuple, the first\n",
            " |            element should contain the images and the second element another numpy\n",
            " |            array or a list of numpy arrays that gets passed to the output without\n",
            " |            any modifications. Can be used to feed the model miscellaneous data\n",
            " |            along with the images. In case of grayscale data, the channels axis of\n",
            " |            the image array should have value 1, in case of RGB data, it should\n",
            " |            have value 3, and in case of RGBA data, it should have value 4.\n",
            " |          y: Labels.\n",
            " |          batch_size: Int (default: 32).\n",
            " |          shuffle: Boolean (default: True).\n",
            " |          sample_weight: Sample weights.\n",
            " |          seed: Int (default: None).\n",
            " |          save_to_dir: None or str (default: None). This allows you to optionally\n",
            " |            specify a directory to which to save the augmented pictures being\n",
            " |            generated (useful for visualizing what you are doing).\n",
            " |          save_prefix: Str (default: `''`). Prefix to use for filenames of saved\n",
            " |            pictures (only relevant if `save_to_dir` is set).\n",
            " |          save_format: one of \"png\", \"jpeg\", \"bmp\", \"pdf\", \"ppm\", \"gif\", \"tif\",\n",
            " |            \"jpg\" (only relevant if `save_to_dir` is set). Default: \"png\".\n",
            " |          ignore_class_split: Boolean (default: False), ignore difference\n",
            " |            in number of classes in labels across train and validation\n",
            " |            split (useful for non-classification tasks)\n",
            " |          subset: Subset of data (`\"training\"` or `\"validation\"`) if\n",
            " |            `validation_split` is set in `ImageDataGenerator`.\n",
            " |      \n",
            " |      Returns:\n",
            " |          An `Iterator` yielding tuples of `(x, y)`\n",
            " |              where `x` is a numpy array of image data\n",
            " |              (in the case of a single image input) or a list\n",
            " |              of numpy arrays (in the case with\n",
            " |              additional inputs) and `y` is a numpy array\n",
            " |              of corresponding labels. If 'sample_weight' is not None,\n",
            " |              the yielded tuples are of the form `(x, y, sample_weight)`.\n",
            " |              If `y` is None, only the numpy array `x` is returned.\n",
            " |      Raises:\n",
            " |        ValueError: If the Value of the argument, `subset` is other than\n",
            " |              \"training\" or \"validation\".\n",
            " |  \n",
            " |  flow_from_dataframe(self, dataframe, directory=None, x_col='filename', y_col='class', weight_col=None, target_size=(256, 256), color_mode='rgb', classes=None, class_mode='categorical', batch_size=32, shuffle=True, seed=None, save_to_dir=None, save_prefix='', save_format='png', subset=None, interpolation='nearest', validate_filenames=True, **kwargs)\n",
            " |      Takes the dataframe and the path to a directory + generates batches.\n",
            " |      \n",
            " |       The generated batches contain augmented/normalized data.\n",
            " |      \n",
            " |      **A simple tutorial can be found **[here](\n",
            " |                                  http://bit.ly/keras_flow_from_dataframe).\n",
            " |      \n",
            " |      Args:\n",
            " |          dataframe: Pandas dataframe containing the filepaths relative to\n",
            " |              `directory` (or absolute paths if `directory` is None) of the\n",
            " |              images in a string column. It should include other column/s\n",
            " |              depending on the `class_mode`:\n",
            " |              - if `class_mode` is `\"categorical\"` (default value) it must\n",
            " |                  include the `y_col` column with the class/es of each image.\n",
            " |                  Values in column can be string/list/tuple if a single class\n",
            " |                  or list/tuple if multiple classes.\n",
            " |              - if `class_mode` is `\"binary\"` or `\"sparse\"` it must include\n",
            " |                  the given `y_col` column with class values as strings.\n",
            " |              - if `class_mode` is `\"raw\"` or `\"multi_output\"` it should contain\n",
            " |              the columns specified in `y_col`.\n",
            " |              - if `class_mode` is `\"input\"` or `None` no extra column is needed.\n",
            " |          directory: string, path to the directory to read images from. If `None`,\n",
            " |            data in `x_col` column should be absolute paths.\n",
            " |          x_col: string, column in `dataframe` that contains the filenames (or\n",
            " |            absolute paths if `directory` is `None`).\n",
            " |          y_col: string or list, column/s in `dataframe` that has the target data.\n",
            " |          weight_col: string, column in `dataframe` that contains the sample\n",
            " |              weights. Default: `None`.\n",
            " |          target_size: tuple of integers `(height, width)`, default: `(256, 256)`.\n",
            " |            The dimensions to which all images found will be resized.\n",
            " |          color_mode: one of \"grayscale\", \"rgb\", \"rgba\". Default: \"rgb\". Whether\n",
            " |            the images will be converted to have 1 or 3 color channels.\n",
            " |          classes: optional list of classes (e.g. `['dogs', 'cats']`). Default is\n",
            " |            None. If not provided, the list of classes will be automatically\n",
            " |            inferred from the `y_col`, which will map to the label indices, will\n",
            " |            be alphanumeric). The dictionary containing the mapping from class\n",
            " |            names to class indices can be obtained via the attribute\n",
            " |            `class_indices`.\n",
            " |          class_mode: one of \"binary\", \"categorical\", \"input\", \"multi_output\",\n",
            " |              \"raw\", sparse\" or None. Default: \"categorical\".\n",
            " |              Mode for yielding the targets:\n",
            " |              - `\"binary\"`: 1D numpy array of binary labels,\n",
            " |              - `\"categorical\"`: 2D numpy array of one-hot encoded labels.\n",
            " |                Supports multi-label output.\n",
            " |              - `\"input\"`: images identical to input images (mainly used to work\n",
            " |                with autoencoders),\n",
            " |              - `\"multi_output\"`: list with the values of the different columns,\n",
            " |              - `\"raw\"`: numpy array of values in `y_col` column(s),\n",
            " |              - `\"sparse\"`: 1D numpy array of integer labels, - `None`, no targets\n",
            " |                are returned (the generator will only yield batches of image data,\n",
            " |                which is useful to use in `model.predict()`).\n",
            " |          batch_size: size of the batches of data (default: 32).\n",
            " |          shuffle: whether to shuffle the data (default: True)\n",
            " |          seed: optional random seed for shuffling and transformations.\n",
            " |          save_to_dir: None or str (default: None). This allows you to optionally\n",
            " |            specify a directory to which to save the augmented pictures being\n",
            " |            generated (useful for visualizing what you are doing).\n",
            " |          save_prefix: str. Prefix to use for filenames of saved pictures (only\n",
            " |            relevant if `save_to_dir` is set).\n",
            " |          save_format: one of \"png\", \"jpeg\", \"bmp\", \"pdf\", \"ppm\", \"gif\", \"tif\",\n",
            " |            \"jpg\" (only relevant if `save_to_dir` is set). Default: \"png\".\n",
            " |          subset: Subset of data (`\"training\"` or `\"validation\"`) if\n",
            " |            `validation_split` is set in `ImageDataGenerator`.\n",
            " |          interpolation: Interpolation method used to resample the image if the\n",
            " |            target size is different from that of the loaded image. Supported\n",
            " |            methods are `\"nearest\"`, `\"bilinear\"`, and `\"bicubic\"`. If PIL version\n",
            " |            1.1.3 or newer is installed, `\"lanczos\"` is also supported. If PIL\n",
            " |            version 3.4.0 or newer is installed, `\"box\"` and `\"hamming\"` are also\n",
            " |            supported. By default, `\"nearest\"` is used.\n",
            " |          validate_filenames: Boolean, whether to validate image filenames in\n",
            " |            `x_col`. If `True`, invalid images will be ignored. Disabling this\n",
            " |            option can lead to speed-up in the execution of this function.\n",
            " |            Defaults to `True`.\n",
            " |          **kwargs: legacy arguments for raising deprecation warnings.\n",
            " |      \n",
            " |      Returns:\n",
            " |          A `DataFrameIterator` yielding tuples of `(x, y)`\n",
            " |          where `x` is a numpy array containing a batch\n",
            " |          of images with shape `(batch_size, *target_size, channels)`\n",
            " |          and `y` is a numpy array of corresponding labels.\n",
            " |  \n",
            " |  flow_from_directory(self, directory, target_size=(256, 256), color_mode='rgb', classes=None, class_mode='categorical', batch_size=32, shuffle=True, seed=None, save_to_dir=None, save_prefix='', save_format='png', follow_links=False, subset=None, interpolation='nearest', keep_aspect_ratio=False)\n",
            " |      Takes the path to a directory & generates batches of augmented data.\n",
            " |      \n",
            " |      Args:\n",
            " |          directory: string, path to the target directory. It should contain one\n",
            " |            subdirectory per class. Any PNG, JPG, BMP, PPM or TIF images inside\n",
            " |            each of the subdirectories directory tree will be included in the\n",
            " |            generator. See [this script](\n",
            " |              https://gist.github.com/fchollet/0830affa1f7f19fd47b06d4cf89ed44d)\n",
            " |                for more details.\n",
            " |          target_size: Tuple of integers `(height, width)`, defaults to `(256,\n",
            " |            256)`. The dimensions to which all images found will be resized.\n",
            " |          color_mode: One of \"grayscale\", \"rgb\", \"rgba\". Default: \"rgb\". Whether\n",
            " |            the images will be converted to have 1, 3, or 4 channels.\n",
            " |          classes: Optional list of class subdirectories\n",
            " |              (e.g. `['dogs', 'cats']`). Default: None. If not provided, the list\n",
            " |                of classes will be automatically inferred from the subdirectory\n",
            " |                names/structure under `directory`, where each subdirectory will be\n",
            " |                treated as a different class (and the order of the classes, which\n",
            " |                will map to the label indices, will be alphanumeric). The\n",
            " |                dictionary containing the mapping from class names to class\n",
            " |                indices can be obtained via the attribute `class_indices`.\n",
            " |          class_mode: One of \"categorical\", \"binary\", \"sparse\",\n",
            " |              \"input\", or None. Default: \"categorical\".\n",
            " |              Determines the type of label arrays that are returned:\n",
            " |              - \"categorical\" will be 2D one-hot encoded labels,\n",
            " |              - \"binary\" will be 1D binary labels,\n",
            " |                  \"sparse\" will be 1D integer labels,\n",
            " |              - \"input\" will be images identical\n",
            " |                  to input images (mainly used to work with autoencoders).\n",
            " |              - If None, no labels are returned\n",
            " |                (the generator will only yield batches of image data,\n",
            " |                which is useful to use with `model.predict_generator()`).\n",
            " |                Please note that in case of class_mode None,\n",
            " |                the data still needs to reside in a subdirectory\n",
            " |                of `directory` for it to work correctly.\n",
            " |          batch_size: Size of the batches of data (default: 32).\n",
            " |          shuffle: Whether to shuffle the data (default: True) If set to False,\n",
            " |            sorts the data in alphanumeric order.\n",
            " |          seed: Optional random seed for shuffling and transformations.\n",
            " |          save_to_dir: None or str (default: None). This allows you to optionally\n",
            " |            specify a directory to which to save the augmented pictures being\n",
            " |            generated (useful for visualizing what you are doing).\n",
            " |          save_prefix: Str. Prefix to use for filenames of saved pictures (only\n",
            " |            relevant if `save_to_dir` is set).\n",
            " |          save_format: one of \"png\", \"jpeg\", \"bmp\", \"pdf\", \"ppm\", \"gif\", \"tif\",\n",
            " |            \"jpg\"\n",
            " |              (only relevant if `save_to_dir` is set). Default: \"png\".\n",
            " |          follow_links: Whether to follow symlinks inside\n",
            " |              class subdirectories (default: False).\n",
            " |          subset: Subset of data (`\"training\"` or `\"validation\"`) if\n",
            " |            `validation_split` is set in `ImageDataGenerator`.\n",
            " |          interpolation: Interpolation method used to resample the image if the\n",
            " |            target size is different from that of the loaded image. Supported\n",
            " |            methods are `\"nearest\"`, `\"bilinear\"`, and `\"bicubic\"`. If PIL version\n",
            " |            1.1.3 or newer is installed, `\"lanczos\"` is also supported. If PIL\n",
            " |            version 3.4.0 or newer is installed, `\"box\"` and `\"hamming\"` are also\n",
            " |            supported. By default, `\"nearest\"` is used.\n",
            " |          keep_aspect_ratio: Boolean, whether to resize images to a target\n",
            " |            size without aspect ratio distortion. The image is cropped in\n",
            " |            the center with target aspect ratio before resizing.\n",
            " |      \n",
            " |      Returns:\n",
            " |          A `DirectoryIterator` yielding tuples of `(x, y)`\n",
            " |              where `x` is a numpy array containing a batch\n",
            " |              of images with shape `(batch_size, *target_size, channels)`\n",
            " |              and `y` is a numpy array of corresponding labels.\n",
            " |  \n",
            " |  get_random_transform(self, img_shape, seed=None)\n",
            " |      Generates random parameters for a transformation.\n",
            " |      \n",
            " |      Args:\n",
            " |          img_shape: Tuple of integers.\n",
            " |              Shape of the image that is transformed.\n",
            " |          seed: Random seed.\n",
            " |      \n",
            " |      Returns:\n",
            " |          A dictionary containing randomly chosen parameters describing the\n",
            " |          transformation.\n",
            " |  \n",
            " |  random_transform(self, x, seed=None)\n",
            " |      Applies a random transformation to an image.\n",
            " |      \n",
            " |      Args:\n",
            " |          x: 3D tensor, single image.\n",
            " |          seed: Random seed.\n",
            " |      \n",
            " |      Returns:\n",
            " |          A randomly transformed version of the input (same shape).\n",
            " |  \n",
            " |  standardize(self, x)\n",
            " |      Applies the normalization configuration in-place to a batch of inputs.\n",
            " |      \n",
            " |      `x` is changed in-place since the function is mainly used internally\n",
            " |      to standardize images and feed them to your network. If a copy of `x`\n",
            " |      would be created instead it would have a significant performance cost.\n",
            " |      If you want to apply this method without changing the input in-place\n",
            " |      you can call the method creating a copy before:\n",
            " |      \n",
            " |      standardize(np.copy(x))\n",
            " |      \n",
            " |      Args:\n",
            " |          x: Batch of inputs to be normalized.\n",
            " |      \n",
            " |      Returns:\n",
            " |          The inputs, normalized.\n",
            " |  \n",
            " |  ----------------------------------------------------------------------\n",
            " |  Data descriptors defined here:\n",
            " |  \n",
            " |  __dict__\n",
            " |      dictionary for instance variables (if defined)\n",
            " |  \n",
            " |  __weakref__\n",
            " |      list of weak references to the object (if defined)\n",
            "\n"
          ]
        }
      ]
    },
    {
      "cell_type": "code",
      "metadata": {
        "id": "8CqwHu8-JV4B"
      },
      "source": [
        "########## Done ############"
      ],
      "execution_count": null,
      "outputs": []
    },
    {
      "cell_type": "code",
      "source": [],
      "metadata": {
        "id": "trf2SwjZxVmT"
      },
      "execution_count": null,
      "outputs": []
    }
  ]
}